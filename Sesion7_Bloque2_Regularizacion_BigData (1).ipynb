{
  "cells": [
    {
      "cell_type": "markdown",
      "id": "496631ea",
      "metadata": {
        "id": "496631ea"
      },
      "source": [
        "# Módulo 1: Análisis de datos en el ecosistema Python"
      ]
    },
    {
      "cell_type": "markdown",
      "id": "3a14cd3f",
      "metadata": {
        "id": "3a14cd3f"
      },
      "source": [
        "### Sesión (7)"
      ]
    },
    {
      "cell_type": "markdown",
      "id": "1106d84b",
      "metadata": {
        "id": "1106d84b"
      },
      "source": [
        "# Regularización"
      ]
    },
    {
      "cell_type": "markdown",
      "id": "6a17e405",
      "metadata": {
        "id": "6a17e405"
      },
      "source": [
        "Recordemos que la **regresión lineal múltiple** era un modelo que intentaba extraer una relación entre la variable objetivo y una serie de variables independientes que actuaban como los predictores del modelo, mediante **una ecuación lineal**.  \n",
        "\n",
        "Existen en la práctica una serie de limitaciones comunes que uno se podría afrontar a la hora de ajustar este tipo de modelos como:  \n",
        "- La presencia de **predictores correlacionadas**.  \n",
        "- Incluir todas las variables independientes **sin realizar una selección** previa de predictores.  \n",
        "\n",
        "Las técnicas de regularización como ***Ridge***, ***Lasso*** o ***Elastic Net*** intentan forzar a que los coeficientes del modelo tiendan a cero para:  \n",
        "- Conseguir un modelo más **simple**, más generalizado y evitar el ***overfitting***.  \n",
        "- Mitigar el efecto de la **correlación** entre los predictores.   "
      ]
    },
    {
      "cell_type": "markdown",
      "id": "a4584eab",
      "metadata": {
        "id": "a4584eab"
      },
      "source": [
        "Volvemos a generar un modelo para predecir los precios de viviendas en Boston:"
      ]
    },
    {
      "cell_type": "code",
      "execution_count": null,
      "id": "5d1cab6e",
      "metadata": {
        "id": "5d1cab6e"
      },
      "outputs": [],
      "source": [
        "# importamos las librerías necesarias\n",
        "import pandas as pd\n",
        "import seaborn as sns\n",
        "import matplotlib.pyplot as plt\n",
        "import numpy as np\n",
        "%matplotlib inline"
      ]
    },
    {
      "cell_type": "code",
      "execution_count": null,
      "id": "44f60118",
      "metadata": {
        "id": "44f60118"
      },
      "outputs": [],
      "source": [
        "# Modificamos los parámetros de los gráficos en matplotlib\n",
        "from matplotlib.pyplot import rcParams\n",
        "\n",
        "rcParams['figure.figsize'] = 12, 6 # el primer dígito es el ancho y el segundo el alto\n",
        "rcParams[\"font.weight\"] = \"bold\"\n",
        "rcParams[\"font.size\"] = 10\n",
        "rcParams[\"axes.labelweight\"] = \"bold\""
      ]
    },
    {
      "cell_type": "code",
      "execution_count": null,
      "id": "61c92f32",
      "metadata": {
        "id": "61c92f32",
        "outputId": "2642e6af-3795-4df4-a41e-29ab52d343c8"
      },
      "outputs": [
        {
          "name": "stderr",
          "output_type": "stream",
          "text": [
            "c:\\Users\\wonderwoman\\anaconda3\\envs\\recomendadorVideos\\lib\\site-packages\\sklearn\\utils\\deprecation.py:87: FutureWarning: Function load_boston is deprecated; `load_boston` is deprecated in 1.0 and will be removed in 1.2.\n",
            "\n",
            "    The Boston housing prices dataset has an ethical problem. You can refer to\n",
            "    the documentation of this function for further details.\n",
            "\n",
            "    The scikit-learn maintainers therefore strongly discourage the use of this\n",
            "    dataset unless the purpose of the code is to study and educate about\n",
            "    ethical issues in data science and machine learning.\n",
            "\n",
            "    In this special case, you can fetch the dataset from the original\n",
            "    source::\n",
            "\n",
            "        import pandas as pd\n",
            "        import numpy as np\n",
            "\n",
            "        data_url = \"http://lib.stat.cmu.edu/datasets/boston\"\n",
            "        raw_df = pd.read_csv(data_url, sep=\"\\s+\", skiprows=22, header=None)\n",
            "        data = np.hstack([raw_df.values[::2, :], raw_df.values[1::2, :2]])\n",
            "        target = raw_df.values[1::2, 2]\n",
            "\n",
            "    Alternative datasets include the California housing dataset (i.e.\n",
            "    :func:`~sklearn.datasets.fetch_california_housing`) and the Ames housing\n",
            "    dataset. You can load the datasets as follows::\n",
            "\n",
            "        from sklearn.datasets import fetch_california_housing\n",
            "        housing = fetch_california_housing()\n",
            "\n",
            "    for the California housing dataset and::\n",
            "\n",
            "        from sklearn.datasets import fetch_openml\n",
            "        housing = fetch_openml(name=\"house_prices\", as_frame=True)\n",
            "\n",
            "    for the Ames housing dataset.\n",
            "  warnings.warn(msg, category=FutureWarning)\n"
          ]
        },
        {
          "data": {
            "text/html": [
              "<div>\n",
              "<style scoped>\n",
              "    .dataframe tbody tr th:only-of-type {\n",
              "        vertical-align: middle;\n",
              "    }\n",
              "\n",
              "    .dataframe tbody tr th {\n",
              "        vertical-align: top;\n",
              "    }\n",
              "\n",
              "    .dataframe thead th {\n",
              "        text-align: right;\n",
              "    }\n",
              "</style>\n",
              "<table border=\"1\" class=\"dataframe\">\n",
              "  <thead>\n",
              "    <tr style=\"text-align: right;\">\n",
              "      <th></th>\n",
              "      <th>CRIM</th>\n",
              "      <th>ZN</th>\n",
              "      <th>INDUS</th>\n",
              "      <th>CHAS</th>\n",
              "      <th>NOX</th>\n",
              "      <th>RM</th>\n",
              "      <th>AGE</th>\n",
              "      <th>DIS</th>\n",
              "      <th>RAD</th>\n",
              "      <th>TAX</th>\n",
              "      <th>PTRATIO</th>\n",
              "      <th>B</th>\n",
              "      <th>LSTAT</th>\n",
              "      <th>target</th>\n",
              "    </tr>\n",
              "  </thead>\n",
              "  <tbody>\n",
              "    <tr>\n",
              "      <th>0</th>\n",
              "      <td>0.00632</td>\n",
              "      <td>18.0</td>\n",
              "      <td>2.31</td>\n",
              "      <td>0.0</td>\n",
              "      <td>0.538</td>\n",
              "      <td>6.575</td>\n",
              "      <td>65.2</td>\n",
              "      <td>4.0900</td>\n",
              "      <td>1.0</td>\n",
              "      <td>296.0</td>\n",
              "      <td>15.3</td>\n",
              "      <td>396.90</td>\n",
              "      <td>4.98</td>\n",
              "      <td>24.0</td>\n",
              "    </tr>\n",
              "    <tr>\n",
              "      <th>1</th>\n",
              "      <td>0.02731</td>\n",
              "      <td>0.0</td>\n",
              "      <td>7.07</td>\n",
              "      <td>0.0</td>\n",
              "      <td>0.469</td>\n",
              "      <td>6.421</td>\n",
              "      <td>78.9</td>\n",
              "      <td>4.9671</td>\n",
              "      <td>2.0</td>\n",
              "      <td>242.0</td>\n",
              "      <td>17.8</td>\n",
              "      <td>396.90</td>\n",
              "      <td>9.14</td>\n",
              "      <td>21.6</td>\n",
              "    </tr>\n",
              "    <tr>\n",
              "      <th>2</th>\n",
              "      <td>0.02729</td>\n",
              "      <td>0.0</td>\n",
              "      <td>7.07</td>\n",
              "      <td>0.0</td>\n",
              "      <td>0.469</td>\n",
              "      <td>7.185</td>\n",
              "      <td>61.1</td>\n",
              "      <td>4.9671</td>\n",
              "      <td>2.0</td>\n",
              "      <td>242.0</td>\n",
              "      <td>17.8</td>\n",
              "      <td>392.83</td>\n",
              "      <td>4.03</td>\n",
              "      <td>34.7</td>\n",
              "    </tr>\n",
              "    <tr>\n",
              "      <th>3</th>\n",
              "      <td>0.03237</td>\n",
              "      <td>0.0</td>\n",
              "      <td>2.18</td>\n",
              "      <td>0.0</td>\n",
              "      <td>0.458</td>\n",
              "      <td>6.998</td>\n",
              "      <td>45.8</td>\n",
              "      <td>6.0622</td>\n",
              "      <td>3.0</td>\n",
              "      <td>222.0</td>\n",
              "      <td>18.7</td>\n",
              "      <td>394.63</td>\n",
              "      <td>2.94</td>\n",
              "      <td>33.4</td>\n",
              "    </tr>\n",
              "    <tr>\n",
              "      <th>4</th>\n",
              "      <td>0.06905</td>\n",
              "      <td>0.0</td>\n",
              "      <td>2.18</td>\n",
              "      <td>0.0</td>\n",
              "      <td>0.458</td>\n",
              "      <td>7.147</td>\n",
              "      <td>54.2</td>\n",
              "      <td>6.0622</td>\n",
              "      <td>3.0</td>\n",
              "      <td>222.0</td>\n",
              "      <td>18.7</td>\n",
              "      <td>396.90</td>\n",
              "      <td>5.33</td>\n",
              "      <td>36.2</td>\n",
              "    </tr>\n",
              "    <tr>\n",
              "      <th>...</th>\n",
              "      <td>...</td>\n",
              "      <td>...</td>\n",
              "      <td>...</td>\n",
              "      <td>...</td>\n",
              "      <td>...</td>\n",
              "      <td>...</td>\n",
              "      <td>...</td>\n",
              "      <td>...</td>\n",
              "      <td>...</td>\n",
              "      <td>...</td>\n",
              "      <td>...</td>\n",
              "      <td>...</td>\n",
              "      <td>...</td>\n",
              "      <td>...</td>\n",
              "    </tr>\n",
              "    <tr>\n",
              "      <th>501</th>\n",
              "      <td>0.06263</td>\n",
              "      <td>0.0</td>\n",
              "      <td>11.93</td>\n",
              "      <td>0.0</td>\n",
              "      <td>0.573</td>\n",
              "      <td>6.593</td>\n",
              "      <td>69.1</td>\n",
              "      <td>2.4786</td>\n",
              "      <td>1.0</td>\n",
              "      <td>273.0</td>\n",
              "      <td>21.0</td>\n",
              "      <td>391.99</td>\n",
              "      <td>9.67</td>\n",
              "      <td>22.4</td>\n",
              "    </tr>\n",
              "    <tr>\n",
              "      <th>502</th>\n",
              "      <td>0.04527</td>\n",
              "      <td>0.0</td>\n",
              "      <td>11.93</td>\n",
              "      <td>0.0</td>\n",
              "      <td>0.573</td>\n",
              "      <td>6.120</td>\n",
              "      <td>76.7</td>\n",
              "      <td>2.2875</td>\n",
              "      <td>1.0</td>\n",
              "      <td>273.0</td>\n",
              "      <td>21.0</td>\n",
              "      <td>396.90</td>\n",
              "      <td>9.08</td>\n",
              "      <td>20.6</td>\n",
              "    </tr>\n",
              "    <tr>\n",
              "      <th>503</th>\n",
              "      <td>0.06076</td>\n",
              "      <td>0.0</td>\n",
              "      <td>11.93</td>\n",
              "      <td>0.0</td>\n",
              "      <td>0.573</td>\n",
              "      <td>6.976</td>\n",
              "      <td>91.0</td>\n",
              "      <td>2.1675</td>\n",
              "      <td>1.0</td>\n",
              "      <td>273.0</td>\n",
              "      <td>21.0</td>\n",
              "      <td>396.90</td>\n",
              "      <td>5.64</td>\n",
              "      <td>23.9</td>\n",
              "    </tr>\n",
              "    <tr>\n",
              "      <th>504</th>\n",
              "      <td>0.10959</td>\n",
              "      <td>0.0</td>\n",
              "      <td>11.93</td>\n",
              "      <td>0.0</td>\n",
              "      <td>0.573</td>\n",
              "      <td>6.794</td>\n",
              "      <td>89.3</td>\n",
              "      <td>2.3889</td>\n",
              "      <td>1.0</td>\n",
              "      <td>273.0</td>\n",
              "      <td>21.0</td>\n",
              "      <td>393.45</td>\n",
              "      <td>6.48</td>\n",
              "      <td>22.0</td>\n",
              "    </tr>\n",
              "    <tr>\n",
              "      <th>505</th>\n",
              "      <td>0.04741</td>\n",
              "      <td>0.0</td>\n",
              "      <td>11.93</td>\n",
              "      <td>0.0</td>\n",
              "      <td>0.573</td>\n",
              "      <td>6.030</td>\n",
              "      <td>80.8</td>\n",
              "      <td>2.5050</td>\n",
              "      <td>1.0</td>\n",
              "      <td>273.0</td>\n",
              "      <td>21.0</td>\n",
              "      <td>396.90</td>\n",
              "      <td>7.88</td>\n",
              "      <td>11.9</td>\n",
              "    </tr>\n",
              "  </tbody>\n",
              "</table>\n",
              "<p>506 rows × 14 columns</p>\n",
              "</div>"
            ],
            "text/plain": [
              "        CRIM    ZN  INDUS  CHAS    NOX     RM   AGE     DIS  RAD    TAX  \\\n",
              "0    0.00632  18.0   2.31   0.0  0.538  6.575  65.2  4.0900  1.0  296.0   \n",
              "1    0.02731   0.0   7.07   0.0  0.469  6.421  78.9  4.9671  2.0  242.0   \n",
              "2    0.02729   0.0   7.07   0.0  0.469  7.185  61.1  4.9671  2.0  242.0   \n",
              "3    0.03237   0.0   2.18   0.0  0.458  6.998  45.8  6.0622  3.0  222.0   \n",
              "4    0.06905   0.0   2.18   0.0  0.458  7.147  54.2  6.0622  3.0  222.0   \n",
              "..       ...   ...    ...   ...    ...    ...   ...     ...  ...    ...   \n",
              "501  0.06263   0.0  11.93   0.0  0.573  6.593  69.1  2.4786  1.0  273.0   \n",
              "502  0.04527   0.0  11.93   0.0  0.573  6.120  76.7  2.2875  1.0  273.0   \n",
              "503  0.06076   0.0  11.93   0.0  0.573  6.976  91.0  2.1675  1.0  273.0   \n",
              "504  0.10959   0.0  11.93   0.0  0.573  6.794  89.3  2.3889  1.0  273.0   \n",
              "505  0.04741   0.0  11.93   0.0  0.573  6.030  80.8  2.5050  1.0  273.0   \n",
              "\n",
              "     PTRATIO       B  LSTAT  target  \n",
              "0       15.3  396.90   4.98    24.0  \n",
              "1       17.8  396.90   9.14    21.6  \n",
              "2       17.8  392.83   4.03    34.7  \n",
              "3       18.7  394.63   2.94    33.4  \n",
              "4       18.7  396.90   5.33    36.2  \n",
              "..       ...     ...    ...     ...  \n",
              "501     21.0  391.99   9.67    22.4  \n",
              "502     21.0  396.90   9.08    20.6  \n",
              "503     21.0  396.90   5.64    23.9  \n",
              "504     21.0  393.45   6.48    22.0  \n",
              "505     21.0  396.90   7.88    11.9  \n",
              "\n",
              "[506 rows x 14 columns]"
            ]
          },
          "execution_count": 3,
          "metadata": {},
          "output_type": "execute_result"
        }
      ],
      "source": [
        "# Importamos los datos de la misma librería de scikit-learn\n",
        "from sklearn.datasets import load_boston\n",
        "boston = load_boston()\n",
        "\n",
        "# Convertir los datos en pandas dataframe\n",
        "dataframe_x = pd.DataFrame(boston.data, columns = boston.feature_names)\n",
        "\n",
        "# La variable dependiente es el target y la llamammos dataframe_y\n",
        "dataframe_y = pd.DataFrame(boston.target, columns = ['target'])\n",
        "\n",
        "# Combinamos ambos para obtener un dataframe con todas las variables explicativas y la variable objetivo\n",
        "df_boston = dataframe_x.join(dataframe_y)\n",
        "\n",
        "df_boston"
      ]
    },
    {
      "cell_type": "markdown",
      "id": "1a75f422",
      "metadata": {
        "id": "1a75f422"
      },
      "source": [
        "Características del conjunto de datos:\n",
        "\n",
        "    -Número de muestras: 506\n",
        "\n",
        "    -Número de atributos: 13 predictivo numérico / categórico\n",
        "\n",
        "    -Median value (atributo 14) suele ser el objetivo.\n",
        "    \n",
        "Información de atributos (en orden):\n",
        "\n",
        "        - CRIM tasa de delincuencia per cápita por ciudad\n",
        "        - Proporción ZN de terreno residencial dividido en zonas para lotes de más de 25,000 pies cuadrados.\n",
        "        - Proporción INDUS de acres comerciales no minoristas por ciudad\n",
        "        - Variable ficticia CHAS Charles River (= 1 si el tramo limita con el río; 0 en caso contrario)\n",
        "        - Concentración de óxidos nítricos NOX (partes por 10 millones)\n",
        "        - RM número medio de habitaciones por vivienda\n",
        "        - Proporción de EDAD de las unidades ocupadas por el propietario construidas antes de 1940\n",
        "        - Distancias ponderadas DIS a cinco centros de empleo de Boston\n",
        "        - Índice RAD de accesibilidad a carreteras radiales\n",
        "        - IMPUESTO Tasa de impuesto a la propiedad de valor total por \\$ 10,000\\\n",
        "        - PTRATIO Ratio maestro-alumno por municipio\n",
        "        - B 1000 (Bk - 0.63) ^ 2 donde Bk es la proporción de negros por ciudad\n",
        "        - LSTAT % menor estatus de la población\n",
        "        - MEDV Valor medio de las viviendas ocupadas por el propietario en \\$ 1000\\"
      ]
    },
    {
      "cell_type": "markdown",
      "id": "e6bc1bb3",
      "metadata": {
        "id": "e6bc1bb3"
      },
      "source": [
        "Definimos los datos del modelo con todas las variables de entrada **menos la variable éticamente incorrecta**\n"
      ]
    },
    {
      "cell_type": "code",
      "execution_count": null,
      "id": "54fc3caa",
      "metadata": {
        "id": "54fc3caa"
      },
      "outputs": [],
      "source": [
        "X_multiple = df_boston.drop(['target', 'B'], axis='columns')\n",
        "y_multiple = df_boston['target']"
      ]
    },
    {
      "cell_type": "markdown",
      "id": "4ff7e855",
      "metadata": {
        "id": "4ff7e855"
      },
      "source": [
        "A pesar de que es una práctica común y recomendada, esta vez no modificamos la *[estructura de datos](https://scikit-learn.org/stable/glossary.html#term-array-like)* antes de pasarlo al modelo."
      ]
    },
    {
      "cell_type": "code",
      "execution_count": null,
      "id": "181a3382",
      "metadata": {
        "id": "181a3382",
        "outputId": "56bc68e4-ee77-4359-c57e-902764306304"
      },
      "outputs": [
        {
          "data": {
            "text/html": [
              "<div>\n",
              "<style scoped>\n",
              "    .dataframe tbody tr th:only-of-type {\n",
              "        vertical-align: middle;\n",
              "    }\n",
              "\n",
              "    .dataframe tbody tr th {\n",
              "        vertical-align: top;\n",
              "    }\n",
              "\n",
              "    .dataframe thead th {\n",
              "        text-align: right;\n",
              "    }\n",
              "</style>\n",
              "<table border=\"1\" class=\"dataframe\">\n",
              "  <thead>\n",
              "    <tr style=\"text-align: right;\">\n",
              "      <th></th>\n",
              "      <th>CRIM</th>\n",
              "      <th>ZN</th>\n",
              "      <th>INDUS</th>\n",
              "      <th>CHAS</th>\n",
              "      <th>NOX</th>\n",
              "      <th>RM</th>\n",
              "      <th>AGE</th>\n",
              "      <th>DIS</th>\n",
              "      <th>RAD</th>\n",
              "      <th>TAX</th>\n",
              "      <th>PTRATIO</th>\n",
              "      <th>LSTAT</th>\n",
              "    </tr>\n",
              "  </thead>\n",
              "  <tbody>\n",
              "    <tr>\n",
              "      <th>0</th>\n",
              "      <td>0.00632</td>\n",
              "      <td>18.0</td>\n",
              "      <td>2.31</td>\n",
              "      <td>0.0</td>\n",
              "      <td>0.538</td>\n",
              "      <td>6.575</td>\n",
              "      <td>65.2</td>\n",
              "      <td>4.0900</td>\n",
              "      <td>1.0</td>\n",
              "      <td>296.0</td>\n",
              "      <td>15.3</td>\n",
              "      <td>4.98</td>\n",
              "    </tr>\n",
              "    <tr>\n",
              "      <th>1</th>\n",
              "      <td>0.02731</td>\n",
              "      <td>0.0</td>\n",
              "      <td>7.07</td>\n",
              "      <td>0.0</td>\n",
              "      <td>0.469</td>\n",
              "      <td>6.421</td>\n",
              "      <td>78.9</td>\n",
              "      <td>4.9671</td>\n",
              "      <td>2.0</td>\n",
              "      <td>242.0</td>\n",
              "      <td>17.8</td>\n",
              "      <td>9.14</td>\n",
              "    </tr>\n",
              "    <tr>\n",
              "      <th>2</th>\n",
              "      <td>0.02729</td>\n",
              "      <td>0.0</td>\n",
              "      <td>7.07</td>\n",
              "      <td>0.0</td>\n",
              "      <td>0.469</td>\n",
              "      <td>7.185</td>\n",
              "      <td>61.1</td>\n",
              "      <td>4.9671</td>\n",
              "      <td>2.0</td>\n",
              "      <td>242.0</td>\n",
              "      <td>17.8</td>\n",
              "      <td>4.03</td>\n",
              "    </tr>\n",
              "    <tr>\n",
              "      <th>3</th>\n",
              "      <td>0.03237</td>\n",
              "      <td>0.0</td>\n",
              "      <td>2.18</td>\n",
              "      <td>0.0</td>\n",
              "      <td>0.458</td>\n",
              "      <td>6.998</td>\n",
              "      <td>45.8</td>\n",
              "      <td>6.0622</td>\n",
              "      <td>3.0</td>\n",
              "      <td>222.0</td>\n",
              "      <td>18.7</td>\n",
              "      <td>2.94</td>\n",
              "    </tr>\n",
              "    <tr>\n",
              "      <th>4</th>\n",
              "      <td>0.06905</td>\n",
              "      <td>0.0</td>\n",
              "      <td>2.18</td>\n",
              "      <td>0.0</td>\n",
              "      <td>0.458</td>\n",
              "      <td>7.147</td>\n",
              "      <td>54.2</td>\n",
              "      <td>6.0622</td>\n",
              "      <td>3.0</td>\n",
              "      <td>222.0</td>\n",
              "      <td>18.7</td>\n",
              "      <td>5.33</td>\n",
              "    </tr>\n",
              "    <tr>\n",
              "      <th>...</th>\n",
              "      <td>...</td>\n",
              "      <td>...</td>\n",
              "      <td>...</td>\n",
              "      <td>...</td>\n",
              "      <td>...</td>\n",
              "      <td>...</td>\n",
              "      <td>...</td>\n",
              "      <td>...</td>\n",
              "      <td>...</td>\n",
              "      <td>...</td>\n",
              "      <td>...</td>\n",
              "      <td>...</td>\n",
              "    </tr>\n",
              "    <tr>\n",
              "      <th>501</th>\n",
              "      <td>0.06263</td>\n",
              "      <td>0.0</td>\n",
              "      <td>11.93</td>\n",
              "      <td>0.0</td>\n",
              "      <td>0.573</td>\n",
              "      <td>6.593</td>\n",
              "      <td>69.1</td>\n",
              "      <td>2.4786</td>\n",
              "      <td>1.0</td>\n",
              "      <td>273.0</td>\n",
              "      <td>21.0</td>\n",
              "      <td>9.67</td>\n",
              "    </tr>\n",
              "    <tr>\n",
              "      <th>502</th>\n",
              "      <td>0.04527</td>\n",
              "      <td>0.0</td>\n",
              "      <td>11.93</td>\n",
              "      <td>0.0</td>\n",
              "      <td>0.573</td>\n",
              "      <td>6.120</td>\n",
              "      <td>76.7</td>\n",
              "      <td>2.2875</td>\n",
              "      <td>1.0</td>\n",
              "      <td>273.0</td>\n",
              "      <td>21.0</td>\n",
              "      <td>9.08</td>\n",
              "    </tr>\n",
              "    <tr>\n",
              "      <th>503</th>\n",
              "      <td>0.06076</td>\n",
              "      <td>0.0</td>\n",
              "      <td>11.93</td>\n",
              "      <td>0.0</td>\n",
              "      <td>0.573</td>\n",
              "      <td>6.976</td>\n",
              "      <td>91.0</td>\n",
              "      <td>2.1675</td>\n",
              "      <td>1.0</td>\n",
              "      <td>273.0</td>\n",
              "      <td>21.0</td>\n",
              "      <td>5.64</td>\n",
              "    </tr>\n",
              "    <tr>\n",
              "      <th>504</th>\n",
              "      <td>0.10959</td>\n",
              "      <td>0.0</td>\n",
              "      <td>11.93</td>\n",
              "      <td>0.0</td>\n",
              "      <td>0.573</td>\n",
              "      <td>6.794</td>\n",
              "      <td>89.3</td>\n",
              "      <td>2.3889</td>\n",
              "      <td>1.0</td>\n",
              "      <td>273.0</td>\n",
              "      <td>21.0</td>\n",
              "      <td>6.48</td>\n",
              "    </tr>\n",
              "    <tr>\n",
              "      <th>505</th>\n",
              "      <td>0.04741</td>\n",
              "      <td>0.0</td>\n",
              "      <td>11.93</td>\n",
              "      <td>0.0</td>\n",
              "      <td>0.573</td>\n",
              "      <td>6.030</td>\n",
              "      <td>80.8</td>\n",
              "      <td>2.5050</td>\n",
              "      <td>1.0</td>\n",
              "      <td>273.0</td>\n",
              "      <td>21.0</td>\n",
              "      <td>7.88</td>\n",
              "    </tr>\n",
              "  </tbody>\n",
              "</table>\n",
              "<p>506 rows × 12 columns</p>\n",
              "</div>"
            ],
            "text/plain": [
              "        CRIM    ZN  INDUS  CHAS    NOX     RM   AGE     DIS  RAD    TAX  \\\n",
              "0    0.00632  18.0   2.31   0.0  0.538  6.575  65.2  4.0900  1.0  296.0   \n",
              "1    0.02731   0.0   7.07   0.0  0.469  6.421  78.9  4.9671  2.0  242.0   \n",
              "2    0.02729   0.0   7.07   0.0  0.469  7.185  61.1  4.9671  2.0  242.0   \n",
              "3    0.03237   0.0   2.18   0.0  0.458  6.998  45.8  6.0622  3.0  222.0   \n",
              "4    0.06905   0.0   2.18   0.0  0.458  7.147  54.2  6.0622  3.0  222.0   \n",
              "..       ...   ...    ...   ...    ...    ...   ...     ...  ...    ...   \n",
              "501  0.06263   0.0  11.93   0.0  0.573  6.593  69.1  2.4786  1.0  273.0   \n",
              "502  0.04527   0.0  11.93   0.0  0.573  6.120  76.7  2.2875  1.0  273.0   \n",
              "503  0.06076   0.0  11.93   0.0  0.573  6.976  91.0  2.1675  1.0  273.0   \n",
              "504  0.10959   0.0  11.93   0.0  0.573  6.794  89.3  2.3889  1.0  273.0   \n",
              "505  0.04741   0.0  11.93   0.0  0.573  6.030  80.8  2.5050  1.0  273.0   \n",
              "\n",
              "     PTRATIO  LSTAT  \n",
              "0       15.3   4.98  \n",
              "1       17.8   9.14  \n",
              "2       17.8   4.03  \n",
              "3       18.7   2.94  \n",
              "4       18.7   5.33  \n",
              "..       ...    ...  \n",
              "501     21.0   9.67  \n",
              "502     21.0   9.08  \n",
              "503     21.0   5.64  \n",
              "504     21.0   6.48  \n",
              "505     21.0   7.88  \n",
              "\n",
              "[506 rows x 12 columns]"
            ]
          },
          "execution_count": 5,
          "metadata": {},
          "output_type": "execute_result"
        }
      ],
      "source": [
        "X_multiple"
      ]
    },
    {
      "cell_type": "code",
      "execution_count": null,
      "id": "dc197c96",
      "metadata": {
        "id": "dc197c96",
        "outputId": "2f05bf31-331e-4377-805b-10c03accc7b9"
      },
      "outputs": [
        {
          "data": {
            "text/plain": [
              "0      24.0\n",
              "1      21.6\n",
              "2      34.7\n",
              "3      33.4\n",
              "4      36.2\n",
              "       ... \n",
              "501    22.4\n",
              "502    20.6\n",
              "503    23.9\n",
              "504    22.0\n",
              "505    11.9\n",
              "Name: target, Length: 506, dtype: float64"
            ]
          },
          "execution_count": 6,
          "metadata": {},
          "output_type": "execute_result"
        }
      ],
      "source": [
        "y_multiple"
      ]
    },
    {
      "cell_type": "code",
      "execution_count": null,
      "id": "15e22189",
      "metadata": {
        "id": "15e22189"
      },
      "outputs": [],
      "source": [
        "# Dividir el dataset en Training y Test set\n",
        "from sklearn.model_selection import train_test_split\n",
        "X_train, X_test, y_train, y_test = train_test_split(X_multiple, y_multiple, test_size=0.2, random_state=124)"
      ]
    },
    {
      "cell_type": "code",
      "execution_count": null,
      "id": "26da54b8",
      "metadata": {
        "id": "26da54b8"
      },
      "outputs": [],
      "source": [
        "from sklearn.linear_model import LinearRegression\n",
        "\n",
        "\n",
        "lr_multiple = LinearRegression()"
      ]
    },
    {
      "cell_type": "code",
      "execution_count": null,
      "id": "3a40b0a9",
      "metadata": {
        "id": "3a40b0a9",
        "outputId": "1c7fbb08-4e24-49f3-c2fe-f2cc962bbbae"
      },
      "outputs": [
        {
          "data": {
            "text/html": [
              "<style>#sk-container-id-1 {color: black;background-color: white;}#sk-container-id-1 pre{padding: 0;}#sk-container-id-1 div.sk-toggleable {background-color: white;}#sk-container-id-1 label.sk-toggleable__label {cursor: pointer;display: block;width: 100%;margin-bottom: 0;padding: 0.3em;box-sizing: border-box;text-align: center;}#sk-container-id-1 label.sk-toggleable__label-arrow:before {content: \"▸\";float: left;margin-right: 0.25em;color: #696969;}#sk-container-id-1 label.sk-toggleable__label-arrow:hover:before {color: black;}#sk-container-id-1 div.sk-estimator:hover label.sk-toggleable__label-arrow:before {color: black;}#sk-container-id-1 div.sk-toggleable__content {max-height: 0;max-width: 0;overflow: hidden;text-align: left;background-color: #f0f8ff;}#sk-container-id-1 div.sk-toggleable__content pre {margin: 0.2em;color: black;border-radius: 0.25em;background-color: #f0f8ff;}#sk-container-id-1 input.sk-toggleable__control:checked~div.sk-toggleable__content {max-height: 200px;max-width: 100%;overflow: auto;}#sk-container-id-1 input.sk-toggleable__control:checked~label.sk-toggleable__label-arrow:before {content: \"▾\";}#sk-container-id-1 div.sk-estimator input.sk-toggleable__control:checked~label.sk-toggleable__label {background-color: #d4ebff;}#sk-container-id-1 div.sk-label input.sk-toggleable__control:checked~label.sk-toggleable__label {background-color: #d4ebff;}#sk-container-id-1 input.sk-hidden--visually {border: 0;clip: rect(1px 1px 1px 1px);clip: rect(1px, 1px, 1px, 1px);height: 1px;margin: -1px;overflow: hidden;padding: 0;position: absolute;width: 1px;}#sk-container-id-1 div.sk-estimator {font-family: monospace;background-color: #f0f8ff;border: 1px dotted black;border-radius: 0.25em;box-sizing: border-box;margin-bottom: 0.5em;}#sk-container-id-1 div.sk-estimator:hover {background-color: #d4ebff;}#sk-container-id-1 div.sk-parallel-item::after {content: \"\";width: 100%;border-bottom: 1px solid gray;flex-grow: 1;}#sk-container-id-1 div.sk-label:hover label.sk-toggleable__label {background-color: #d4ebff;}#sk-container-id-1 div.sk-serial::before {content: \"\";position: absolute;border-left: 1px solid gray;box-sizing: border-box;top: 0;bottom: 0;left: 50%;z-index: 0;}#sk-container-id-1 div.sk-serial {display: flex;flex-direction: column;align-items: center;background-color: white;padding-right: 0.2em;padding-left: 0.2em;position: relative;}#sk-container-id-1 div.sk-item {position: relative;z-index: 1;}#sk-container-id-1 div.sk-parallel {display: flex;align-items: stretch;justify-content: center;background-color: white;position: relative;}#sk-container-id-1 div.sk-item::before, #sk-container-id-1 div.sk-parallel-item::before {content: \"\";position: absolute;border-left: 1px solid gray;box-sizing: border-box;top: 0;bottom: 0;left: 50%;z-index: -1;}#sk-container-id-1 div.sk-parallel-item {display: flex;flex-direction: column;z-index: 1;position: relative;background-color: white;}#sk-container-id-1 div.sk-parallel-item:first-child::after {align-self: flex-end;width: 50%;}#sk-container-id-1 div.sk-parallel-item:last-child::after {align-self: flex-start;width: 50%;}#sk-container-id-1 div.sk-parallel-item:only-child::after {width: 0;}#sk-container-id-1 div.sk-dashed-wrapped {border: 1px dashed gray;margin: 0 0.4em 0.5em 0.4em;box-sizing: border-box;padding-bottom: 0.4em;background-color: white;}#sk-container-id-1 div.sk-label label {font-family: monospace;font-weight: bold;display: inline-block;line-height: 1.2em;}#sk-container-id-1 div.sk-label-container {text-align: center;}#sk-container-id-1 div.sk-container {/* jupyter's `normalize.less` sets `[hidden] { display: none; }` but bootstrap.min.css set `[hidden] { display: none !important; }` so we also need the `!important` here to be able to override the default hidden behavior on the sphinx rendered scikit-learn.org. See: https://github.com/scikit-learn/scikit-learn/issues/21755 */display: inline-block !important;position: relative;}#sk-container-id-1 div.sk-text-repr-fallback {display: none;}</style><div id=\"sk-container-id-1\" class=\"sk-top-container\"><div class=\"sk-text-repr-fallback\"><pre>LinearRegression()</pre><b>In a Jupyter environment, please rerun this cell to show the HTML representation or trust the notebook. <br />On GitHub, the HTML representation is unable to render, please try loading this page with nbviewer.org.</b></div><div class=\"sk-container\" hidden><div class=\"sk-item\"><div class=\"sk-estimator sk-toggleable\"><input class=\"sk-toggleable__control sk-hidden--visually\" id=\"sk-estimator-id-1\" type=\"checkbox\" checked><label for=\"sk-estimator-id-1\" class=\"sk-toggleable__label sk-toggleable__label-arrow\">LinearRegression</label><div class=\"sk-toggleable__content\"><pre>LinearRegression()</pre></div></div></div></div></div>"
            ],
            "text/plain": [
              "LinearRegression()"
            ]
          },
          "execution_count": 9,
          "metadata": {},
          "output_type": "execute_result"
        }
      ],
      "source": [
        "# Entrenamos el modelo\n",
        "lr_multiple.fit(X_train, y_train)"
      ]
    },
    {
      "cell_type": "code",
      "execution_count": null,
      "id": "574a3f60",
      "metadata": {
        "id": "574a3f60"
      },
      "outputs": [],
      "source": [
        "# Conseguir la predicción (para el conjunto de test que son los datos no vistos por el algoritmo en la fase de modelización)\n",
        "y_pred_multiple = lr_multiple.predict(X_test)"
      ]
    },
    {
      "cell_type": "code",
      "execution_count": null,
      "id": "68715c84",
      "metadata": {
        "id": "68715c84",
        "outputId": "4039def3-1026-42d4-baee-4b8f7b2858ed"
      },
      "outputs": [
        {
          "name": "stdout",
          "output_type": "stream",
          "text": [
            "DATOS DEL MODELO REGRESIÓN LINEAL MULTIPLE\n",
            "\n",
            " Valor de las pendientes o coeficientes \"a\":\n",
            "[-1.31655093e-01  4.85176793e-02 -8.79855065e-03  2.83832241e+00\n",
            " -1.86314949e+01  3.82478607e+00  8.22246554e-03 -1.41509254e+00\n",
            "  2.78510233e-01 -1.29899052e-02 -8.81718077e-01 -5.38203875e-01]\n",
            "\n",
            " Valor de la intersección o coeficiente \"b\":\n",
            "39.05276989196378\n"
          ]
        }
      ],
      "source": [
        "print('DATOS DEL MODELO REGRESIÓN LINEAL MULTIPLE')\n",
        "print('\\n', 'Valor de las pendientes o coeficientes \"a\":')\n",
        "print(lr_multiple.coef_)\n",
        "print('\\n', 'Valor de la intersección o coeficiente \"b\":')\n",
        "print(lr_multiple.intercept_)"
      ]
    },
    {
      "cell_type": "code",
      "execution_count": null,
      "id": "dc5be3a6",
      "metadata": {
        "id": "dc5be3a6",
        "outputId": "7df855b2-fa9c-4597-98c0-51dd9671db67"
      },
      "outputs": [
        {
          "data": {
            "text/html": [
              "<div>\n",
              "<style scoped>\n",
              "    .dataframe tbody tr th:only-of-type {\n",
              "        vertical-align: middle;\n",
              "    }\n",
              "\n",
              "    .dataframe tbody tr th {\n",
              "        vertical-align: top;\n",
              "    }\n",
              "\n",
              "    .dataframe thead th {\n",
              "        text-align: right;\n",
              "    }\n",
              "</style>\n",
              "<table border=\"1\" class=\"dataframe\">\n",
              "  <thead>\n",
              "    <tr style=\"text-align: right;\">\n",
              "      <th></th>\n",
              "      <th>variables</th>\n",
              "      <th>coeficientes</th>\n",
              "    </tr>\n",
              "  </thead>\n",
              "  <tbody>\n",
              "    <tr>\n",
              "      <th>0</th>\n",
              "      <td>CRIM</td>\n",
              "      <td>-0.131655</td>\n",
              "    </tr>\n",
              "    <tr>\n",
              "      <th>1</th>\n",
              "      <td>ZN</td>\n",
              "      <td>0.048518</td>\n",
              "    </tr>\n",
              "    <tr>\n",
              "      <th>2</th>\n",
              "      <td>INDUS</td>\n",
              "      <td>-0.008799</td>\n",
              "    </tr>\n",
              "    <tr>\n",
              "      <th>3</th>\n",
              "      <td>CHAS</td>\n",
              "      <td>2.838322</td>\n",
              "    </tr>\n",
              "    <tr>\n",
              "      <th>4</th>\n",
              "      <td>NOX</td>\n",
              "      <td>-18.631495</td>\n",
              "    </tr>\n",
              "    <tr>\n",
              "      <th>5</th>\n",
              "      <td>RM</td>\n",
              "      <td>3.824786</td>\n",
              "    </tr>\n",
              "    <tr>\n",
              "      <th>6</th>\n",
              "      <td>AGE</td>\n",
              "      <td>0.008222</td>\n",
              "    </tr>\n",
              "    <tr>\n",
              "      <th>7</th>\n",
              "      <td>DIS</td>\n",
              "      <td>-1.415093</td>\n",
              "    </tr>\n",
              "    <tr>\n",
              "      <th>8</th>\n",
              "      <td>RAD</td>\n",
              "      <td>0.278510</td>\n",
              "    </tr>\n",
              "    <tr>\n",
              "      <th>9</th>\n",
              "      <td>TAX</td>\n",
              "      <td>-0.012990</td>\n",
              "    </tr>\n",
              "    <tr>\n",
              "      <th>10</th>\n",
              "      <td>PTRATIO</td>\n",
              "      <td>-0.881718</td>\n",
              "    </tr>\n",
              "    <tr>\n",
              "      <th>11</th>\n",
              "      <td>LSTAT</td>\n",
              "      <td>-0.538204</td>\n",
              "    </tr>\n",
              "  </tbody>\n",
              "</table>\n",
              "</div>"
            ],
            "text/plain": [
              "   variables  coeficientes\n",
              "0       CRIM     -0.131655\n",
              "1         ZN      0.048518\n",
              "2      INDUS     -0.008799\n",
              "3       CHAS      2.838322\n",
              "4        NOX    -18.631495\n",
              "5         RM      3.824786\n",
              "6        AGE      0.008222\n",
              "7        DIS     -1.415093\n",
              "8        RAD      0.278510\n",
              "9        TAX     -0.012990\n",
              "10   PTRATIO     -0.881718\n",
              "11     LSTAT     -0.538204"
            ]
          },
          "execution_count": 12,
          "metadata": {},
          "output_type": "execute_result"
        }
      ],
      "source": [
        "# Creamos una tabla de los parámetros del modelo ajustado\n",
        "df_coef = pd.DataFrame(X_multiple.columns, columns=['variables'])\n",
        "df_coef['coeficientes'] = lr_multiple.coef_\n",
        "df_coef\n"
      ]
    },
    {
      "cell_type": "code",
      "execution_count": null,
      "id": "0458351f",
      "metadata": {
        "id": "0458351f",
        "outputId": "f9f65a51-e6d2-4ed6-9ab7-03a7e566240d"
      },
      "outputs": [
        {
          "data": {
            "image/png": "[encoded data removed]",
            "text/plain": [
              "<Figure size 1200x600 with 1 Axes>"
            ]
          },
          "metadata": {},
          "output_type": "display_data"
        }
      ],
      "source": [
        "# Visualizamos los coeficientes del modelo\n",
        "sns.barplot(x=df_coef['variables'], y=df_coef['coeficientes'])\n",
        "plt.show()"
      ]
    },
    {
      "cell_type": "code",
      "execution_count": null,
      "id": "144bb407",
      "metadata": {
        "id": "144bb407",
        "outputId": "4e368cde-6e6d-46d3-bfb0-91f27316b81d"
      },
      "outputs": [
        {
          "name": "stdout",
          "output_type": "stream",
          "text": [
            "Mean Absolute Error: 3.5154984449842726\n",
            "Mean Absolute Percentage Error: 17.696060044730157\n",
            "Mean Squared Error: 23.660632436308564\n",
            "Root Mean Squared Error: 4.8642196122614125\n",
            "R^2 coefficient of determination: 0.7242504521835383\n"
          ]
        }
      ],
      "source": [
        "from sklearn.metrics import mean_absolute_error\n",
        "from sklearn.metrics import mean_absolute_percentage_error\n",
        "from sklearn.metrics import mean_squared_error\n",
        "from sklearn.metrics import r2_score\n",
        "\n",
        "# Métricas para evaluar la calidad del modelo\n",
        "print('Mean Absolute Error:', mean_absolute_error(y_test, y_pred_multiple))\n",
        "print('Mean Absolute Percentage Error:', mean_absolute_percentage_error(y_test, y_pred_multiple)*100)\n",
        "print('Mean Squared Error:', mean_squared_error(y_test, y_pred_multiple))\n",
        "print('Root Mean Squared Error:', np.sqrt(mean_squared_error(y_test, y_pred_multiple)))\n",
        "print('R^2 coefficient of determination:', r2_score(y_test, y_pred_multiple))"
      ]
    },
    {
      "cell_type": "markdown",
      "id": "8c7e3d55",
      "metadata": {
        "id": "8c7e3d55"
      },
      "source": [
        "## Ridge (L2)"
      ]
    },
    {
      "cell_type": "markdown",
      "id": "7124352b",
      "metadata": {
        "id": "7124352b"
      },
      "source": [
        "En la ecuación genérica de un modelo de regresión lineal múltiple con ***`n`*** observaciones y ***`m`*** predictores, los coeficientes del modelo son los pesos que controlan la participación y por lo tanto la influencia de cada predictor en el modelo:"
      ]
    },
    {
      "cell_type": "markdown",
      "id": "426898ea",
      "metadata": {
        "id": "426898ea"
      },
      "source": [
        "##### $y=b_{0} + b_{1}x_{1}+ b_{2}x_{2}+ b_{3}x_{3}+ ...+ b_{m}x_{m}$"
      ]
    },
    {
      "cell_type": "markdown",
      "id": "21fa1d58",
      "metadata": {
        "id": "21fa1d58"
      },
      "source": [
        "El algoritmo por defecto busca cómo reducir la función de coste, que generalmente es el error cuadrático medio (*Mean Squared Error*) de las estimaciones en el conjunto de datos de entrenamiento (mínimos cuadrados):"
      ]
    },
    {
      "cell_type": "markdown",
      "id": "f684eeaf",
      "metadata": {
        "id": "f684eeaf"
      },
      "source": [
        "![1_20m_U-H6EIcxlN2k07Z7oQ.png](attachment:1_20m_U-H6EIcxlN2k07Z7oQ.png)"
      ]
    },
    {
      "cell_type": "markdown",
      "id": "a45cc20f",
      "metadata": {
        "id": "a45cc20f"
      },
      "source": [
        "La regularización **Ridge** conocida también como **L2**, penaliza la suma de los coeficientes del modelo al cuadrado. El principal efecto que causa el hecho de añadir este término a la función de coste del algoritmo es la **reducción proporcional del valor de todos los coeficientes** del modelo, sin que necesariamente lleguen a cero.  \n",
        "\n",
        "El grado de penalización está controlado por el **hiperparámetro $\\alpha$**."
      ]
    },
    {
      "cell_type": "markdown",
      "id": "00e03a33",
      "metadata": {
        "id": "00e03a33"
      },
      "source": [
        "![image.png](attachment:image.png)"
      ]
    },
    {
      "cell_type": "markdown",
      "id": "0c34ddee",
      "metadata": {
        "id": "0c34ddee"
      },
      "source": [
        "A continuación aplicamos el método de ***Ridge Regression*** sobre el mismo planteamiento del dataset de Boston"
      ]
    },
    {
      "cell_type": "code",
      "execution_count": null,
      "id": "f836b040",
      "metadata": {
        "id": "f836b040"
      },
      "outputs": [],
      "source": [
        "# importamos el \"ridge regression\" desde la misma librería de sklearn\n",
        "from sklearn.linear_model import Ridge\n",
        "\n",
        "# Entrenamos\n",
        "L2_reg = Ridge(alpha = 1)\n",
        "L2_reg.fit(X_train, y_train)\n",
        "y_pred_l2 = L2_reg.predict(X_test)"
      ]
    },
    {
      "cell_type": "code",
      "execution_count": null,
      "id": "53ef8c3d",
      "metadata": {
        "id": "53ef8c3d",
        "outputId": "139d0c4f-7641-4eb6-c3aa-7eb984381ac9"
      },
      "outputs": [
        {
          "name": "stdout",
          "output_type": "stream",
          "text": [
            "DATOS DEL MODELO REGRESIÓN LINEAL MULTIPLE\n",
            "\n",
            " Valor de las pendientes o coeficientes \"a\":\n",
            "[-1.29550834e-01  4.93742460e-02 -4.45704458e-02  2.61229578e+00\n",
            " -1.02647099e+01  3.88933083e+00  4.18189682e-04 -1.28972998e+00\n",
            "  2.65107736e-01 -1.39717518e-02 -7.94003828e-01 -5.45184508e-01]\n",
            "\n",
            " Valor de la intersección o coeficiente \"b\":\n",
            "33.45826197484366\n"
          ]
        }
      ],
      "source": [
        "print('DATOS DEL MODELO REGRESIÓN LINEAL MULTIPLE')\n",
        "print('\\n', 'Valor de las pendientes o coeficientes \"a\":')\n",
        "print(L2_reg.coef_)\n",
        "print('\\n', 'Valor de la intersección o coeficiente \"b\":')\n",
        "print(L2_reg.intercept_)"
      ]
    },
    {
      "cell_type": "code",
      "execution_count": null,
      "id": "fc971610",
      "metadata": {
        "id": "fc971610",
        "outputId": "f512fd6f-00ca-4cb1-9030-367fa29e2a8e"
      },
      "outputs": [
        {
          "data": {
            "image/png": "[encoded data removed]",
            "text/plain": [
              "<Figure size 1600x900 with 2 Axes>"
            ]
          },
          "metadata": {},
          "output_type": "display_data"
        }
      ],
      "source": [
        "# Visualizamos los coeficientes del modelo\n",
        "df_coef_l2 = pd.DataFrame(X_multiple.columns, columns=['variables'])\n",
        "df_coef_l2['coeficientes'] = L2_reg.coef_\n",
        "\n",
        "fig, axes = plt.subplots(2, 1, figsize=(16,9))\n",
        "sns.barplot(x=df_coef['variables'], y=df_coef['coeficientes'], ax=axes[0], )\n",
        "axes[0].set_title(\"Coeficientes modelo inicial\")\n",
        "\n",
        "sns.barplot(x=df_coef_l2['variables'], y=df_coef_l2['coeficientes'], ax=axes[1])\n",
        "axes[1].set_title(\"Coeficientes modelo Ridge (L2)\")\n",
        "\n",
        "plt.show()"
      ]
    },
    {
      "cell_type": "markdown",
      "id": "2c8899e9",
      "metadata": {
        "id": "2c8899e9"
      },
      "source": [
        "Como se puede ver la diferencia principal del modelo *Ridge* está en contener coeficientes relativamente más pequeños que el modelo original."
      ]
    },
    {
      "cell_type": "code",
      "execution_count": null,
      "id": "b70d4fd0",
      "metadata": {
        "id": "b70d4fd0",
        "outputId": "ab6746d3-a9f9-4af5-b53c-022aa1a929ec"
      },
      "outputs": [
        {
          "name": "stdout",
          "output_type": "stream",
          "text": [
            "Mean Absolute Error: 3.5078169459188624\n",
            "Mean Absolute Percentage Error: 17.80918291018069\n",
            "Mean Squared Error: 23.921178417320366\n",
            "Mean Root Squared Error: 4.890928175440768\n",
            "R^2 coefficient of determination: 0.7212139553087062\n"
          ]
        }
      ],
      "source": [
        "from sklearn.metrics import mean_absolute_error\n",
        "from sklearn.metrics import mean_absolute_percentage_error\n",
        "from sklearn.metrics import mean_squared_error\n",
        "from sklearn.metrics import r2_score\n",
        "\n",
        "# Métricas para evaluar la calidad del modelo\n",
        "print('Mean Absolute Error:', mean_absolute_error(y_test, y_pred_l2))\n",
        "print('Mean Absolute Percentage Error:', mean_absolute_percentage_error(y_test, y_pred_l2)*100)\n",
        "print('Mean Squared Error:', mean_squared_error(y_test, y_pred_l2))\n",
        "print('Mean Root Squared Error:', np.sqrt(mean_squared_error(y_test, y_pred_l2)))\n",
        "print('R^2 coefficient of determination:', r2_score(y_test, y_pred_l2))"
      ]
    },
    {
      "cell_type": "markdown",
      "id": "f9b29aec",
      "metadata": {
        "id": "f9b29aec"
      },
      "source": [
        "Las métricas del modelo indican que los resultados prácticamente son iguales que el modelo inicial."
      ]
    },
    {
      "cell_type": "markdown",
      "id": "8cd05066",
      "metadata": {
        "id": "8cd05066"
      },
      "source": [
        "## Lasso (L1)"
      ]
    },
    {
      "cell_type": "markdown",
      "id": "f8160b7e",
      "metadata": {
        "id": "f8160b7e"
      },
      "source": [
        "La regularización **Lasso** conocida también como **L1**,pretende penalizar la suma del valor absolutos de los coeficientes del modelo. El efecto práctico que causa la inclusión de este término en la función de coste del algoritmo es que los coeficientes de los predictores tiendan a cero a medida de lo posible. De este modo *Lasso* consigue excluir las variables menos relevantes y dejar los predictores más importantes.  \n",
        "\n",
        "Al igual que en el modelo *Ridge*, el grado de penalización está controlado por el **hiperparámetro $\\alpha$**."
      ]
    },
    {
      "cell_type": "markdown",
      "id": "51d5f62e",
      "metadata": {
        "id": "51d5f62e"
      },
      "source": [
        "![image.png](attachment:image.png)"
      ]
    },
    {
      "cell_type": "code",
      "execution_count": null,
      "id": "f9ad2fde",
      "metadata": {
        "id": "f9ad2fde"
      },
      "outputs": [],
      "source": [
        "# importamos \"lasso (L1) regression\" de la misma librería de sklearn\n",
        "from sklearn.linear_model import Lasso\n",
        "\n",
        "# Ajustamos el algoritmo\n",
        "L1_reg = Lasso(alpha = 1)\n",
        "L1_reg.fit(X_train, y_train)\n",
        "y_pred_l1 = L1_reg.predict(X_test)"
      ]
    },
    {
      "cell_type": "code",
      "execution_count": null,
      "id": "a0beddcb",
      "metadata": {
        "id": "a0beddcb",
        "outputId": "0b6786f1-15d2-4bd4-96e1-3e9195e5bbaf"
      },
      "outputs": [
        {
          "name": "stdout",
          "output_type": "stream",
          "text": [
            "DATOS DEL MODELO REGRESIÓN LINEAL MULTIPLE\n",
            "\n",
            " Valor de las pendientes o coeficientes \"a\":\n",
            "[-0.08422662  0.05332741 -0.          0.         -0.          0.91641177\n",
            "  0.02752916 -0.58142827  0.27617053 -0.01796679 -0.65064986 -0.78534121]\n",
            "\n",
            " Valor de la intersección o coeficiente \"b\":\n",
            "43.32129789105643\n"
          ]
        }
      ],
      "source": [
        "print('DATOS DEL MODELO REGRESIÓN LINEAL MULTIPLE')\n",
        "print('\\n', 'Valor de las pendientes o coeficientes \"a\":')\n",
        "print(L1_reg.coef_)\n",
        "print('\\n', 'Valor de la intersección o coeficiente \"b\":')\n",
        "print(L1_reg.intercept_)"
      ]
    },
    {
      "cell_type": "code",
      "execution_count": null,
      "id": "837e16cd",
      "metadata": {
        "id": "837e16cd",
        "outputId": "45d112ac-a918-4a9f-f85b-da18c6715d91"
      },
      "outputs": [
        {
          "data": {
            "image/png": "[encoded data removed]",
            "text/plain": [
              "<Figure size 1600x900 with 2 Axes>"
            ]
          },
          "metadata": {},
          "output_type": "display_data"
        }
      ],
      "source": [
        "# Visualizamos los coeficientes del modelo\n",
        "df_coef_l1 = pd.DataFrame(X_multiple.columns, columns=['variables'])\n",
        "df_coef_l1['coeficientes'] = L1_reg.coef_\n",
        "\n",
        "fig, axes = plt.subplots(2, 1, figsize=(16,9))\n",
        "sns.barplot(x=df_coef['variables'], y=df_coef['coeficientes'], ax=axes[0], )\n",
        "axes[0].set_title(\"Coeficientes modelo inicial\")\n",
        "\n",
        "sns.barplot(x=df_coef_l1['variables'], y=df_coef_l1['coeficientes'], ax=axes[1])\n",
        "axes[1].set_title(\"Coeficientes modelo Lasso (L1)\")\n",
        "plt.show()"
      ]
    },
    {
      "cell_type": "code",
      "execution_count": null,
      "id": "fbd3cafe",
      "metadata": {
        "id": "fbd3cafe",
        "outputId": "918bc9df-41d5-44a2-85fa-07e92f0884ba"
      },
      "outputs": [
        {
          "data": {
            "text/html": [
              "<div>\n",
              "<style scoped>\n",
              "    .dataframe tbody tr th:only-of-type {\n",
              "        vertical-align: middle;\n",
              "    }\n",
              "\n",
              "    .dataframe tbody tr th {\n",
              "        vertical-align: top;\n",
              "    }\n",
              "\n",
              "    .dataframe thead th {\n",
              "        text-align: right;\n",
              "    }\n",
              "</style>\n",
              "<table border=\"1\" class=\"dataframe\">\n",
              "  <thead>\n",
              "    <tr style=\"text-align: right;\">\n",
              "      <th></th>\n",
              "      <th>variables</th>\n",
              "      <th>coeficientes</th>\n",
              "    </tr>\n",
              "  </thead>\n",
              "  <tbody>\n",
              "    <tr>\n",
              "      <th>0</th>\n",
              "      <td>CRIM</td>\n",
              "      <td>-0.084227</td>\n",
              "    </tr>\n",
              "    <tr>\n",
              "      <th>1</th>\n",
              "      <td>ZN</td>\n",
              "      <td>0.053327</td>\n",
              "    </tr>\n",
              "    <tr>\n",
              "      <th>2</th>\n",
              "      <td>INDUS</td>\n",
              "      <td>-0.000000</td>\n",
              "    </tr>\n",
              "    <tr>\n",
              "      <th>3</th>\n",
              "      <td>CHAS</td>\n",
              "      <td>0.000000</td>\n",
              "    </tr>\n",
              "    <tr>\n",
              "      <th>4</th>\n",
              "      <td>NOX</td>\n",
              "      <td>-0.000000</td>\n",
              "    </tr>\n",
              "    <tr>\n",
              "      <th>5</th>\n",
              "      <td>RM</td>\n",
              "      <td>0.916412</td>\n",
              "    </tr>\n",
              "    <tr>\n",
              "      <th>6</th>\n",
              "      <td>AGE</td>\n",
              "      <td>0.027529</td>\n",
              "    </tr>\n",
              "    <tr>\n",
              "      <th>7</th>\n",
              "      <td>DIS</td>\n",
              "      <td>-0.581428</td>\n",
              "    </tr>\n",
              "    <tr>\n",
              "      <th>8</th>\n",
              "      <td>RAD</td>\n",
              "      <td>0.276171</td>\n",
              "    </tr>\n",
              "    <tr>\n",
              "      <th>9</th>\n",
              "      <td>TAX</td>\n",
              "      <td>-0.017967</td>\n",
              "    </tr>\n",
              "    <tr>\n",
              "      <th>10</th>\n",
              "      <td>PTRATIO</td>\n",
              "      <td>-0.650650</td>\n",
              "    </tr>\n",
              "    <tr>\n",
              "      <th>11</th>\n",
              "      <td>LSTAT</td>\n",
              "      <td>-0.785341</td>\n",
              "    </tr>\n",
              "  </tbody>\n",
              "</table>\n",
              "</div>"
            ],
            "text/plain": [
              "   variables  coeficientes\n",
              "0       CRIM     -0.084227\n",
              "1         ZN      0.053327\n",
              "2      INDUS     -0.000000\n",
              "3       CHAS      0.000000\n",
              "4        NOX     -0.000000\n",
              "5         RM      0.916412\n",
              "6        AGE      0.027529\n",
              "7        DIS     -0.581428\n",
              "8        RAD      0.276171\n",
              "9        TAX     -0.017967\n",
              "10   PTRATIO     -0.650650\n",
              "11     LSTAT     -0.785341"
            ]
          },
          "execution_count": 22,
          "metadata": {},
          "output_type": "execute_result"
        }
      ],
      "source": [
        "df_coef_l1"
      ]
    },
    {
      "cell_type": "markdown",
      "id": "8a52efd5",
      "metadata": {
        "id": "8a52efd5"
      },
      "source": [
        "Como se puede observar, el modelo *Lasso* ha excluido un par de predictores (al menos 3 variables) respecto al modelo de regresión lineal original."
      ]
    },
    {
      "cell_type": "code",
      "execution_count": null,
      "id": "72a55d43",
      "metadata": {
        "id": "72a55d43",
        "outputId": "116d1819-a8ab-42d0-a59f-c75986e2c0d4"
      },
      "outputs": [
        {
          "name": "stdout",
          "output_type": "stream",
          "text": [
            "Mean Absolute Error: 3.6956062662932743\n",
            "Mean Absolute Percentage Error: 17.959230482832364\n",
            "Mean Squared Error: 28.29129002515334\n",
            "Mean Root Squared Error: 5.318955726940518\n",
            "R^2 coefficient of determination: 0.6702830977751526\n"
          ]
        }
      ],
      "source": [
        "from sklearn.metrics import mean_absolute_error\n",
        "from sklearn.metrics import mean_absolute_percentage_error\n",
        "from sklearn.metrics import mean_squared_error\n",
        "from sklearn.metrics import r2_score\n",
        "\n",
        "# Métricas para evaluar la calidad del modelo\n",
        "print('Mean Absolute Error:', mean_absolute_error(y_test, y_pred_l1))\n",
        "print('Mean Absolute Percentage Error:', mean_absolute_percentage_error(y_test, y_pred_l1)*100)\n",
        "print('Mean Squared Error:', mean_squared_error(y_test, y_pred_l1))\n",
        "print('Mean Root Squared Error:', np.sqrt(mean_squared_error(y_test, y_pred_l1)))\n",
        "print('R^2 coefficient of determination:', r2_score(y_test, y_pred_l1))"
      ]
    },
    {
      "cell_type": "markdown",
      "id": "603924fd",
      "metadata": {
        "id": "603924fd"
      },
      "source": [
        "Los resultados del modelo quizá se pueden considerar ligeramente peores peores que el modelo original, pero seguramente ganamos mucho teniendo un modelo **más simple y más generalizable** que el modelo inicial.  "
      ]
    },
    {
      "cell_type": "markdown",
      "id": "eea8e370",
      "metadata": {
        "id": "eea8e370"
      },
      "source": [
        "## Elastic Net"
      ]
    },
    {
      "cell_type": "markdown",
      "id": "78ad279f",
      "metadata": {
        "id": "78ad279f"
      },
      "source": [
        "\n",
        "El modelo **Elastic Net** consiste en una regularización que combina las penalizaciones de *L1 (Lasso)* y *L2 (Ridge)*.  \n",
        "El grado de regularización en general se controla por el **hiperparámetro $\\alpha$**.  \n",
        "El grado en que influye cada una de las penalizaciones está controlado por el **hiperparámetro $l1_{ratio}$**.  \n",
        "\n",
        "Cuando $l1_{ratio}=1$ se aplica el modelo *Lasso* y cuando $l1_{ratio}=0$ se implementa la regularización *Ridge*.  "
      ]
    },
    {
      "cell_type": "markdown",
      "id": "cd0eb79b",
      "metadata": {
        "id": "cd0eb79b"
      },
      "source": [
        "![image.png](attachment:image.png)"
      ]
    },
    {
      "cell_type": "code",
      "execution_count": null,
      "id": "fcbf527e",
      "metadata": {
        "id": "fcbf527e"
      },
      "outputs": [],
      "source": [
        "# importamos \"Elastic Net regression\" de la misma librería de sklearn\n",
        "from sklearn.linear_model import ElasticNet\n",
        "\n",
        "# Ajustamos el algoritmo indicando unos valoros para los hiperparámetros\n",
        "Elastic_reg = ElasticNet(alpha=1, l1_ratio=0.8)\n",
        "Elastic_reg.fit(X_train, y_train)\n",
        "y_pred_elastic = Elastic_reg.predict(X_test)"
      ]
    },
    {
      "cell_type": "code",
      "execution_count": null,
      "id": "89ea114e",
      "metadata": {
        "id": "89ea114e",
        "outputId": "25cb23f3-278c-4d4d-ad26-0fdd49e7e4e8"
      },
      "outputs": [
        {
          "name": "stdout",
          "output_type": "stream",
          "text": [
            "DATOS DEL MODELO REGRESIÓN LINEAL MULTIPLE\n",
            "\n",
            " Valor de las pendientes o coeficientes \"a\":\n",
            "[-0.09333698  0.05535578 -0.00459708  0.         -0.          0.91666112\n",
            "  0.02662239 -0.63312253  0.29208419 -0.01850576 -0.66287993 -0.78284766]\n",
            "\n",
            " Valor de la intersección o coeficiente \"b\":\n",
            "43.90079168528231\n"
          ]
        }
      ],
      "source": [
        "print('DATOS DEL MODELO REGRESIÓN LINEAL MULTIPLE')\n",
        "print('\\n', 'Valor de las pendientes o coeficientes \"a\":')\n",
        "print(Elastic_reg.coef_)\n",
        "print('\\n', 'Valor de la intersección o coeficiente \"b\":')\n",
        "print(Elastic_reg.intercept_)"
      ]
    },
    {
      "cell_type": "code",
      "execution_count": null,
      "id": "f406056d",
      "metadata": {
        "id": "f406056d",
        "outputId": "e35c660c-7470-4a7e-d768-c82ed7f10856"
      },
      "outputs": [
        {
          "data": {
            "image/png": "[encoded data removed]",
            "text/plain": [
              "<Figure size 1600x900 with 2 Axes>"
            ]
          },
          "metadata": {},
          "output_type": "display_data"
        }
      ],
      "source": [
        "# Visualizamos los coeficientes del modelo\n",
        "df_coef_elastic = pd.DataFrame(X_multiple.columns, columns=['variables'])\n",
        "df_coef_elastic['coeficientes'] = Elastic_reg.coef_\n",
        "\n",
        "fig, axes = plt.subplots(2, 1, figsize=(16,9))\n",
        "sns.barplot(x=df_coef['variables'], y=df_coef['coeficientes'], ax=axes[0], )\n",
        "axes[0].set_title(\"Coeficientes modelo inicial\")\n",
        "\n",
        "sns.barplot(x=df_coef_elastic['variables'], y=df_coef_elastic['coeficientes'], ax=axes[1])\n",
        "axes[1].set_title(\"Coeficientes modelo Elastic Net\")\n",
        "plt.show()"
      ]
    },
    {
      "cell_type": "markdown",
      "id": "a859ff85",
      "metadata": {
        "id": "a859ff85"
      },
      "source": [
        "Se aprecia que se han excluido al menos 2 variables respecto al modelo original. Los coeficientes son similares a los coeficientes del modelo *Lasso* posiblemente por su mayor porcentaje de participación en la regularización."
      ]
    },
    {
      "cell_type": "code",
      "execution_count": null,
      "id": "08ff574a",
      "metadata": {
        "id": "08ff574a",
        "outputId": "1fe2004d-871c-4346-ee12-56280d94353c"
      },
      "outputs": [
        {
          "name": "stdout",
          "output_type": "stream",
          "text": [
            "Mean Absolute Error: 3.683205181940034\n",
            "Mean Absolute Percentage Error: 17.944172818954225\n",
            "Mean Squared Error: 28.13174670079791\n",
            "Mean Root Squared Error: 5.303936905808544\n",
            "R^2 coefficient of determination: 0.6721424732447885\n"
          ]
        }
      ],
      "source": [
        "from sklearn.metrics import mean_absolute_error\n",
        "from sklearn.metrics import mean_absolute_percentage_error\n",
        "from sklearn.metrics import mean_squared_error\n",
        "from sklearn.metrics import r2_score\n",
        "\n",
        "# Métricas para evaluar la calidad del modelo\n",
        "print('Mean Absolute Error:', mean_absolute_error(y_test, y_pred_elastic))\n",
        "print('Mean Absolute Percentage Error:', mean_absolute_percentage_error(y_test, y_pred_elastic)*100)\n",
        "print('Mean Squared Error:', mean_squared_error(y_test, y_pred_elastic))\n",
        "print('Mean Root Squared Error:', np.sqrt(mean_squared_error(y_test, y_pred_elastic)))\n",
        "print('R^2 coefficient of determination:', r2_score(y_test, y_pred_elastic))"
      ]
    },
    {
      "cell_type": "markdown",
      "id": "0845527d",
      "metadata": {
        "id": "0845527d"
      },
      "source": [
        "Los resultados de este modelo es muy similar al modelo anterior que se generó aplicando una regularización *Lasso*."
      ]
    },
    {
      "cell_type": "code",
      "execution_count": null,
      "id": "0688d600",
      "metadata": {
        "id": "0688d600"
      },
      "outputs": [],
      "source": []
    },
    {
      "cell_type": "code",
      "execution_count": null,
      "id": "af3cae35",
      "metadata": {
        "id": "af3cae35"
      },
      "outputs": [],
      "source": []
    },
    {
      "cell_type": "code",
      "execution_count": null,
      "id": "e845329c",
      "metadata": {
        "id": "e845329c"
      },
      "outputs": [],
      "source": []
    },
    {
      "cell_type": "code",
      "execution_count": null,
      "id": "eaabb800",
      "metadata": {
        "id": "eaabb800",
        "outputId": "5c827568-8f3d-406a-ae1c-e4ad8c463f71"
      },
      "outputs": [
        {
          "data": {
            "text/html": [
              "<div>\n",
              "<style scoped>\n",
              "    .dataframe tbody tr th:only-of-type {\n",
              "        vertical-align: middle;\n",
              "    }\n",
              "\n",
              "    .dataframe tbody tr th {\n",
              "        vertical-align: top;\n",
              "    }\n",
              "\n",
              "    .dataframe thead th {\n",
              "        text-align: right;\n",
              "    }\n",
              "</style>\n",
              "<table border=\"1\" class=\"dataframe\">\n",
              "  <thead>\n",
              "    <tr style=\"text-align: right;\">\n",
              "      <th></th>\n",
              "      <th>variables</th>\n",
              "      <th>coeficientes</th>\n",
              "    </tr>\n",
              "  </thead>\n",
              "  <tbody>\n",
              "    <tr>\n",
              "      <th>0</th>\n",
              "      <td>CRIM</td>\n",
              "      <td>-0.093337</td>\n",
              "    </tr>\n",
              "    <tr>\n",
              "      <th>1</th>\n",
              "      <td>ZN</td>\n",
              "      <td>0.055356</td>\n",
              "    </tr>\n",
              "    <tr>\n",
              "      <th>2</th>\n",
              "      <td>INDUS</td>\n",
              "      <td>-0.004597</td>\n",
              "    </tr>\n",
              "    <tr>\n",
              "      <th>3</th>\n",
              "      <td>CHAS</td>\n",
              "      <td>0.000000</td>\n",
              "    </tr>\n",
              "    <tr>\n",
              "      <th>4</th>\n",
              "      <td>NOX</td>\n",
              "      <td>-0.000000</td>\n",
              "    </tr>\n",
              "    <tr>\n",
              "      <th>5</th>\n",
              "      <td>RM</td>\n",
              "      <td>0.916661</td>\n",
              "    </tr>\n",
              "    <tr>\n",
              "      <th>6</th>\n",
              "      <td>AGE</td>\n",
              "      <td>0.026622</td>\n",
              "    </tr>\n",
              "    <tr>\n",
              "      <th>7</th>\n",
              "      <td>DIS</td>\n",
              "      <td>-0.633123</td>\n",
              "    </tr>\n",
              "    <tr>\n",
              "      <th>8</th>\n",
              "      <td>RAD</td>\n",
              "      <td>0.292084</td>\n",
              "    </tr>\n",
              "    <tr>\n",
              "      <th>9</th>\n",
              "      <td>TAX</td>\n",
              "      <td>-0.018506</td>\n",
              "    </tr>\n",
              "    <tr>\n",
              "      <th>10</th>\n",
              "      <td>PTRATIO</td>\n",
              "      <td>-0.662880</td>\n",
              "    </tr>\n",
              "    <tr>\n",
              "      <th>11</th>\n",
              "      <td>LSTAT</td>\n",
              "      <td>-0.782848</td>\n",
              "    </tr>\n",
              "  </tbody>\n",
              "</table>\n",
              "</div>"
            ],
            "text/plain": [
              "   variables  coeficientes\n",
              "0       CRIM     -0.093337\n",
              "1         ZN      0.055356\n",
              "2      INDUS     -0.004597\n",
              "3       CHAS      0.000000\n",
              "4        NOX     -0.000000\n",
              "5         RM      0.916661\n",
              "6        AGE      0.026622\n",
              "7        DIS     -0.633123\n",
              "8        RAD      0.292084\n",
              "9        TAX     -0.018506\n",
              "10   PTRATIO     -0.662880\n",
              "11     LSTAT     -0.782848"
            ]
          },
          "execution_count": 28,
          "metadata": {},
          "output_type": "execute_result"
        }
      ],
      "source": [
        "df_coef_elastic"
      ]
    },
    {
      "cell_type": "markdown",
      "id": "4f240083",
      "metadata": {
        "id": "4f240083"
      },
      "source": [
        "### Elastic Net - Optimización de hiperparámetros"
      ]
    },
    {
      "cell_type": "markdown",
      "id": "3b5b1db2",
      "metadata": {
        "id": "3b5b1db2"
      },
      "source": [
        "El mejor modelo en caso de la regularización Elastic Net se consigue mediante los **valores óptimos de los hiperparámetros** ($\\alpha$ y $l1_{ratio}$).\n",
        "\n",
        "Estos dos valores como se tratan de los hiperparámetros del modelo, no tienen una estimación previa o un cálculo directo que se pueda aplicar a los datos del modelo. Una forma de obtener los hiperparámetros óptimos consiste en aplicar la técnica de **Cross-Validation (validación cruzada)**.  \n",
        "En la librería scikit-learn podemos usar la función **ElasticNetCV** que nos permite buscar dentro de un rango determinado para encontrar los valores óptimos en base a los errores obtenidos dentro del conjunto de entrenamiento."
      ]
    },
    {
      "cell_type": "markdown",
      "id": "56564b05",
      "metadata": {
        "id": "56564b05"
      },
      "source": [
        "![image.png](attachment:image.png)"
      ]
    },
    {
      "cell_type": "code",
      "execution_count": null,
      "id": "68a831bd",
      "metadata": {
        "id": "68a831bd"
      },
      "outputs": [],
      "source": [
        "# importamos \"ElasticNetCV regression\"\n",
        "from sklearn.linear_model import ElasticNetCV\n",
        "\n",
        "# Train the model\n",
        "Elastic_reg_cv = ElasticNetCV(alphas=np.arange(0.6, 5, 0.01),\n",
        "                              l1_ratio=[.1, .5, .7, .9, .95, .99, 1],\n",
        "                              cv=10,\n",
        "                              random_state=123)\n",
        "Elastic_reg_cv.fit(X_train, y_train)\n",
        "y_pred_elastic_cv = Elastic_reg_cv.predict(X_test)"
      ]
    },
    {
      "cell_type": "code",
      "execution_count": null,
      "id": "6d6decfc",
      "metadata": {
        "id": "6d6decfc",
        "outputId": "5ef78e78-a26b-459b-fc3b-67c49bb79802"
      },
      "outputs": [
        {
          "data": {
            "text/plain": [
              "array([4.99, 4.98, 4.97, 4.96, 4.95, 4.94, 4.93, 4.92, 4.91, 4.9 , 4.89,\n",
              "       4.88, 4.87, 4.86, 4.85, 4.84, 4.83, 4.82, 4.81, 4.8 , 4.79, 4.78,\n",
              "       4.77, 4.76, 4.75, 4.74, 4.73, 4.72, 4.71, 4.7 , 4.69, 4.68, 4.67,\n",
              "       4.66, 4.65, 4.64, 4.63, 4.62, 4.61, 4.6 , 4.59, 4.58, 4.57, 4.56,\n",
              "       4.55, 4.54, 4.53, 4.52, 4.51, 4.5 , 4.49, 4.48, 4.47, 4.46, 4.45,\n",
              "       4.44, 4.43, 4.42, 4.41, 4.4 , 4.39, 4.38, 4.37, 4.36, 4.35, 4.34,\n",
              "       4.33, 4.32, 4.31, 4.3 , 4.29, 4.28, 4.27, 4.26, 4.25, 4.24, 4.23,\n",
              "       4.22, 4.21, 4.2 , 4.19, 4.18, 4.17, 4.16, 4.15, 4.14, 4.13, 4.12,\n",
              "       4.11, 4.1 , 4.09, 4.08, 4.07, 4.06, 4.05, 4.04, 4.03, 4.02, 4.01,\n",
              "       4.  , 3.99, 3.98, 3.97, 3.96, 3.95, 3.94, 3.93, 3.92, 3.91, 3.9 ,\n",
              "       3.89, 3.88, 3.87, 3.86, 3.85, 3.84, 3.83, 3.82, 3.81, 3.8 , 3.79,\n",
              "       3.78, 3.77, 3.76, 3.75, 3.74, 3.73, 3.72, 3.71, 3.7 , 3.69, 3.68,\n",
              "       3.67, 3.66, 3.65, 3.64, 3.63, 3.62, 3.61, 3.6 , 3.59, 3.58, 3.57,\n",
              "       3.56, 3.55, 3.54, 3.53, 3.52, 3.51, 3.5 , 3.49, 3.48, 3.47, 3.46,\n",
              "       3.45, 3.44, 3.43, 3.42, 3.41, 3.4 , 3.39, 3.38, 3.37, 3.36, 3.35,\n",
              "       3.34, 3.33, 3.32, 3.31, 3.3 , 3.29, 3.28, 3.27, 3.26, 3.25, 3.24,\n",
              "       3.23, 3.22, 3.21, 3.2 , 3.19, 3.18, 3.17, 3.16, 3.15, 3.14, 3.13,\n",
              "       3.12, 3.11, 3.1 , 3.09, 3.08, 3.07, 3.06, 3.05, 3.04, 3.03, 3.02,\n",
              "       3.01, 3.  , 2.99, 2.98, 2.97, 2.96, 2.95, 2.94, 2.93, 2.92, 2.91,\n",
              "       2.9 , 2.89, 2.88, 2.87, 2.86, 2.85, 2.84, 2.83, 2.82, 2.81, 2.8 ,\n",
              "       2.79, 2.78, 2.77, 2.76, 2.75, 2.74, 2.73, 2.72, 2.71, 2.7 , 2.69,\n",
              "       2.68, 2.67, 2.66, 2.65, 2.64, 2.63, 2.62, 2.61, 2.6 , 2.59, 2.58,\n",
              "       2.57, 2.56, 2.55, 2.54, 2.53, 2.52, 2.51, 2.5 , 2.49, 2.48, 2.47,\n",
              "       2.46, 2.45, 2.44, 2.43, 2.42, 2.41, 2.4 , 2.39, 2.38, 2.37, 2.36,\n",
              "       2.35, 2.34, 2.33, 2.32, 2.31, 2.3 , 2.29, 2.28, 2.27, 2.26, 2.25,\n",
              "       2.24, 2.23, 2.22, 2.21, 2.2 , 2.19, 2.18, 2.17, 2.16, 2.15, 2.14,\n",
              "       2.13, 2.12, 2.11, 2.1 , 2.09, 2.08, 2.07, 2.06, 2.05, 2.04, 2.03,\n",
              "       2.02, 2.01, 2.  , 1.99, 1.98, 1.97, 1.96, 1.95, 1.94, 1.93, 1.92,\n",
              "       1.91, 1.9 , 1.89, 1.88, 1.87, 1.86, 1.85, 1.84, 1.83, 1.82, 1.81,\n",
              "       1.8 , 1.79, 1.78, 1.77, 1.76, 1.75, 1.74, 1.73, 1.72, 1.71, 1.7 ,\n",
              "       1.69, 1.68, 1.67, 1.66, 1.65, 1.64, 1.63, 1.62, 1.61, 1.6 , 1.59,\n",
              "       1.58, 1.57, 1.56, 1.55, 1.54, 1.53, 1.52, 1.51, 1.5 , 1.49, 1.48,\n",
              "       1.47, 1.46, 1.45, 1.44, 1.43, 1.42, 1.41, 1.4 , 1.39, 1.38, 1.37,\n",
              "       1.36, 1.35, 1.34, 1.33, 1.32, 1.31, 1.3 , 1.29, 1.28, 1.27, 1.26,\n",
              "       1.25, 1.24, 1.23, 1.22, 1.21, 1.2 , 1.19, 1.18, 1.17, 1.16, 1.15,\n",
              "       1.14, 1.13, 1.12, 1.11, 1.1 , 1.09, 1.08, 1.07, 1.06, 1.05, 1.04,\n",
              "       1.03, 1.02, 1.01, 1.  , 0.99, 0.98, 0.97, 0.96, 0.95, 0.94, 0.93,\n",
              "       0.92, 0.91, 0.9 , 0.89, 0.88, 0.87, 0.86, 0.85, 0.84, 0.83, 0.82,\n",
              "       0.81, 0.8 , 0.79, 0.78, 0.77, 0.76, 0.75, 0.74, 0.73, 0.72, 0.71,\n",
              "       0.7 , 0.69, 0.68, 0.67, 0.66, 0.65, 0.64, 0.63, 0.62, 0.61, 0.6 ])"
            ]
          },
          "execution_count": 30,
          "metadata": {},
          "output_type": "execute_result"
        }
      ],
      "source": [
        "# Podemos consultar los valores considerados como alpha en la búsqueda\n",
        "Elastic_reg_cv.alphas_"
      ]
    },
    {
      "cell_type": "code",
      "execution_count": null,
      "id": "1a45e424",
      "metadata": {
        "id": "1a45e424",
        "outputId": "95092f6a-76de-427d-e214-467716895412"
      },
      "outputs": [
        {
          "data": {
            "text/plain": [
              "0.6"
            ]
          },
          "execution_count": 31,
          "metadata": {},
          "output_type": "execute_result"
        }
      ],
      "source": [
        "# Consultamos el valor óptimo seleccionado para \"alpha\"\n",
        "Elastic_reg_cv.alpha_\n"
      ]
    },
    {
      "cell_type": "code",
      "execution_count": null,
      "id": "ab1171d5",
      "metadata": {
        "id": "ab1171d5",
        "outputId": "547530ac-8afd-4be5-f47d-c0b29584eb5d"
      },
      "outputs": [
        {
          "data": {
            "text/plain": [
              "[0.1, 0.5, 0.7, 0.9, 0.95, 0.99, 1]"
            ]
          },
          "execution_count": 32,
          "metadata": {},
          "output_type": "execute_result"
        }
      ],
      "source": [
        "# Podemos consultar los valores considerados como \"l1_ratio\"\n",
        "Elastic_reg_cv.l1_ratio"
      ]
    },
    {
      "cell_type": "code",
      "execution_count": null,
      "id": "ac21b078",
      "metadata": {
        "id": "ac21b078",
        "outputId": "81dc4327-561c-499f-ecea-b11e8eb293be"
      },
      "outputs": [
        {
          "data": {
            "text/plain": [
              "1.0"
            ]
          },
          "execution_count": 33,
          "metadata": {},
          "output_type": "execute_result"
        }
      ],
      "source": [
        "# Consultamos el valor óptimo seleccionado para \"l1_ratio\"\n",
        "Elastic_reg_cv.l1_ratio_"
      ]
    },
    {
      "cell_type": "code",
      "execution_count": null,
      "id": "c4a58c4f",
      "metadata": {
        "id": "c4a58c4f",
        "outputId": "41750f5d-5849-4cef-88d6-46bd2f50aa8f"
      },
      "outputs": [
        {
          "data": {
            "image/png": "[encoded data removed]",
            "text/plain": [
              "<Figure size 1600x900 with 2 Axes>"
            ]
          },
          "metadata": {},
          "output_type": "display_data"
        }
      ],
      "source": [
        "# Visualizamos los coeficientes del modelo\n",
        "df_coef_elastic_cv = pd.DataFrame(X_multiple.columns, columns=['variables'])\n",
        "df_coef_elastic_cv['coeficientes'] = Elastic_reg_cv.coef_\n",
        "\n",
        "fig, axes = plt.subplots(2, 1, figsize=(16,9))\n",
        "sns.barplot(x=df_coef['variables'], y=df_coef['coeficientes'], ax=axes[0], )\n",
        "axes[0].set_title(\"Coeficientes modelo inicial\")\n",
        "\n",
        "sns.barplot(x=df_coef_elastic_cv['variables'], y=df_coef_elastic_cv['coeficientes'], ax=axes[1])\n",
        "axes[1].set_title(\"Coeficientes modelo Elastic Net (CV)\")\n",
        "plt.show()"
      ]
    },
    {
      "cell_type": "code",
      "execution_count": null,
      "id": "d0b14f51",
      "metadata": {
        "id": "d0b14f51",
        "outputId": "95f58b99-fa11-4e68-c41a-16def540db54"
      },
      "outputs": [
        {
          "name": "stdout",
          "output_type": "stream",
          "text": [
            "Mean Absolute Error: 3.6003375238773834\n",
            "Mean Absolute Percentage Error: 17.99730220356714\n",
            "Mean Squared Error: 26.093154916147842\n",
            "Mean Root Squared Error: 5.108145937240619\n",
            "R^2 coefficient of determination: 0.695900957482808\n"
          ]
        }
      ],
      "source": [
        "from sklearn.metrics import mean_absolute_error\n",
        "from sklearn.metrics import mean_absolute_percentage_error\n",
        "from sklearn.metrics import mean_squared_error\n",
        "from sklearn.metrics import r2_score\n",
        "\n",
        "# Métricas para evaluar la calidad del modelo\n",
        "print('Mean Absolute Error:', mean_absolute_error(y_test, y_pred_elastic_cv))\n",
        "print('Mean Absolute Percentage Error:', mean_absolute_percentage_error(y_test, y_pred_elastic_cv)*100)\n",
        "print('Mean Squared Error:', mean_squared_error(y_test, y_pred_elastic_cv))\n",
        "print('Mean Root Squared Error:', np.sqrt(mean_squared_error(y_test, y_pred_elastic_cv)))\n",
        "print('R^2 coefficient of determination:', r2_score(y_test, y_pred_elastic_cv))"
      ]
    },
    {
      "cell_type": "markdown",
      "id": "0602682f",
      "metadata": {
        "id": "0602682f"
      },
      "source": [
        "Se ven que los resulados obtenidos con la búsqueda a través de la CV (validación-cruzada) son **ligeramente mejores** que modelo anterior."
      ]
    },
    {
      "cell_type": "markdown",
      "id": "5f1c3fd9",
      "metadata": {
        "id": "5f1c3fd9"
      },
      "source": [
        "---"
      ]
    },
    {
      "cell_type": "code",
      "execution_count": null,
      "id": "b334e9cb",
      "metadata": {
        "id": "b334e9cb",
        "outputId": "3b2f0e8d-23b0-4c30-cbae-767d24afb406"
      },
      "outputs": [
        {
          "data": {
            "text/plain": [
              "5     0.916661\n",
              "11    0.782848\n",
              "10    0.662880\n",
              "7     0.633123\n",
              "Name: coeficientes, dtype: float64"
            ]
          },
          "execution_count": 38,
          "metadata": {},
          "output_type": "execute_result"
        }
      ],
      "source": [
        "top4=abs(df_coef_elastic['coeficientes']).nlargest(4)\n",
        "top4"
      ]
    },
    {
      "cell_type": "code",
      "execution_count": null,
      "id": "cca5d372",
      "metadata": {
        "id": "cca5d372",
        "outputId": "46c6868b-0d97-494d-c591-e3ef6f76ae47"
      },
      "outputs": [
        {
          "data": {
            "text/plain": [
              "array(['RM', 'DIS', 'PTRATIO', 'LSTAT'], dtype=object)"
            ]
          },
          "execution_count": 46,
          "metadata": {},
          "output_type": "execute_result"
        }
      ],
      "source": [
        "x=df_coef_elastic.loc[abs(df_coef_elastic['coeficientes']).isin(top4),'variables'].values\n",
        "x"
      ]
    },
    {
      "cell_type": "markdown",
      "id": "b9510fb6",
      "metadata": {
        "id": "b9510fb6"
      },
      "source": [
        "### **`Ejercicio 7.1`**\n",
        "\n",
        "Selecciona las 4 variables más importantes según éste último modelo generado con el método `ElasticNetCV` y:  \n",
        "\n",
        "**`7.1.1`** Construye un modelo tipo regresión lineal múltiple con estos 4 predictores.  \n",
        "**`7.1.2`** Visualiza los coeficientes del modelo y comparalo con los coeficientes correspondientes al modelo original (primer modelo).  \n",
        "**`7.1.3`** Calcula diferentes métricas para evaluar tu modelo y analiza su rendimiendo en comparación con modelos anteriores.\n",
        "- MAE\n",
        "- MAPE\n",
        "- MSE\n",
        "- RMSE\n",
        "- $R^2$  \n",
        "  \n",
        "Explica si este modelo tiene preferencia o no, para ser elegido en práctica como predictor de precio de viviendas comparando con otros modelos."
      ]
    },
    {
      "cell_type": "code",
      "execution_count": null,
      "id": "676b95c6",
      "metadata": {
        "id": "676b95c6"
      },
      "outputs": [],
      "source": [
        "## Solución\n",
        "# Ejercicio 7.1.1\n",
        "#Creamos el dataframe con los nombres del df de boston y asignamos el nombre de las columnas a \"variables\"\n",
        "df_coef = pd.DataFrame(X_multiple.columns, columns=['variables'])\n",
        "#Añadimos al df_coef la columna \"coeficientes\" y asignamos los coeficeintes como valores\n",
        "df_coef['coeficientes'] = lr_multiple.coef_\n",
        "#Obtenemos las variables mas grandes usando el metodo abs(obtiene valores absolutos) y nlargest(calcula el valor mayor)\n",
        "top4=abs(df_coef_elastic['coeficientes']).nlargest(4)\n",
        "#Creamos un array con la lista de nombres de los 4 valores mas grandes\n",
        "x=df_coef_elastic.loc[abs(df_coef_elastic['coeficientes']).isin(top4),'variables'].values\n",
        "# las variables mas importantes son: RM, DIS, PTRATIO, LSTAT. ya que son las que nos dan valores mas grandes\n",
        "modelo_x=df_boston[x]\n",
        "modelo_y=df_boston[\"target\"]\n",
        "#Hacemos la division de el Dataframe\n",
        "X_train71,X_test71,Y_train71,Y_test71=train_test_split(modelo_x,modelo_y,test_size=0.2 ,random_state=124)\n",
        "#Entrenamos al modelo\n",
        "from tkinter import Y\n",
        "lr_multi_72=LinearRegression()\n",
        "lr_multi_72.fit(X_train71,Y_train71)\n",
        "y_pred_72=lr_multi_72.predict(X_test71)\n"
      ]
    },
    {
      "cell_type": "code",
      "execution_count": null,
      "id": "ed6f4f46",
      "metadata": {
        "id": "ed6f4f46",
        "outputId": "31de405f-8600-439d-d27c-8950aaa58cc3"
      },
      "outputs": [
        {
          "name": "stdout",
          "output_type": "stream",
          "text": [
            "DATOS DEL MODELO REGRESIÓN LINEAL MULTIPLE TOP 4\n",
            "\n",
            " Valor de las pendientes o coeficientes \"a\":\n",
            "[ 4.49383187 -0.46562245 -0.96425507 -0.64947271]\n"
          ]
        },
        {
          "data": {
            "image/png": "[encoded data removed]",
            "text/plain": [
              "<Figure size 1600x900 with 2 Axes>"
            ]
          },
          "metadata": {},
          "output_type": "display_data"
        }
      ],
      "source": [
        "## Solución\n",
        "# Ejercicio 7.1.2\n",
        "print('DATOS DEL MODELO REGRESIÓN LINEAL MULTIPLE TOP 4')\n",
        "print('\\n', 'Valor de las pendientes o coeficientes \"a\":')\n",
        "print(lr_multi_72.coef_)\n",
        "# Visualizamos los coeficientes del modelo\n",
        "TOP4 = pd.DataFrame(modelo_x.columns, columns=['variables'])\n",
        "TOP4['coeficientes'] = lr_multi_72.coef_\n",
        "fig, axes = plt.subplots(2, 1, figsize=(16,9))\n",
        "sns.barplot(x=df_coef['variables'], y=df_coef['coeficientes'], ax=axes[0], )\n",
        "axes[0].set_title(\"Coeficientes modelo inicial\")\n",
        "sns.barplot(x=TOP4['variables'], y=TOP4['coeficientes'], ax=axes[1])\n",
        "axes[1].set_title(\"Coeficientes modelo TOP 4\")\n",
        "plt.show()"
      ]
    },
    {
      "cell_type": "code",
      "execution_count": null,
      "id": "fe010e76",
      "metadata": {
        "id": "fe010e76",
        "outputId": "c8ad8dfb-3080-4f67-c67c-95454f2b9174"
      },
      "outputs": [
        {
          "name": "stdout",
          "output_type": "stream",
          "text": [
            "METRICAS DEL MODELO ELASTICNETCV\n",
            "Mean Absolute Error: 3.6003375238773834\n",
            "Mean Absolute Percentage Error: 17.99730220356714\n",
            "Mean Squared Error: 26.093154916147842\n",
            "Mean Root Squared Error: 5.108145937240619\n",
            "R^2 coefficient of determination: 0.695900957482808\n",
            "\n",
            "METRICAS DEL MODELO TOP 4\n",
            "Mean Absolute Error: 3.6816841287925444\n",
            "Mean Absolute Percentage Error: 19.729282464193552\n",
            "Mean Squared Error: 26.53467167177884\n",
            "Mean Root Squared Error: 5.151181580159919\n",
            "R^2 coefficient of determination: 0.6907553619013556\n"
          ]
        },
        {
          "data": {
            "text/plain": [
              "'Como podemos observar en la comparacion tanto como en la visualizacion como en las metricas,son casi iguales,excepto en la metrica MAPE,que hay una diferencia de 2 puntos,con lo que no prodiamos decir que este modelo no tiene preferencia frente a otros modelos'"
            ]
          },
          "execution_count": 147,
          "metadata": {},
          "output_type": "execute_result"
        }
      ],
      "source": [
        "## Solución\n",
        "# Ejercicio 7.1.3\n",
        "from sklearn.metrics import mean_absolute_error\n",
        "from sklearn.metrics import mean_absolute_percentage_error\n",
        "from sklearn.metrics import mean_squared_error\n",
        "from sklearn.metrics import r2_score\n",
        "\n",
        "# Métricas para evaluar la calidad del modelo ELASTICNETCV\n",
        "print('METRICAS DEL MODELO ELASTICNETCV')\n",
        "print('Mean Absolute Error:', mean_absolute_error(y_test, y_pred_elastic_cv))\n",
        "print('Mean Absolute Percentage Error:', mean_absolute_percentage_error(y_test, y_pred_elastic_cv)*100)\n",
        "print('Mean Squared Error:', mean_squared_error(y_test, y_pred_elastic_cv))\n",
        "print('Mean Root Squared Error:', np.sqrt(mean_squared_error(y_test, y_pred_elastic_cv)))\n",
        "print('R^2 coefficient of determination:', r2_score(y_test, y_pred_elastic_cv))\n",
        "\n",
        "#Metricas para evaluar la calidad del modelo TOP 4\n",
        "print('\\nMETRICAS DEL MODELO TOP 4')\n",
        "print('Mean Absolute Error:', mean_absolute_error(Y_test71, y_pred_72))\n",
        "print('Mean Absolute Percentage Error:', mean_absolute_percentage_error(Y_test71, y_pred_72)*100)\n",
        "print('Mean Squared Error:', mean_squared_error(Y_test71, y_pred_72))\n",
        "print('Mean Root Squared Error:', np.sqrt(mean_squared_error(Y_test71, y_pred_72)))\n",
        "print('R^2 coefficient of determination:', r2_score(Y_test71, y_pred_72))\n",
        "\n",
        "'Como podemos observar en la comparacion tanto como en la visualizacion como en las metricas,son casi iguales,excepto en la metrica MAPE,que hay una diferencia de 2 puntos,con lo que no prodiamos decir que este modelo no tiene preferencia frente a otros modelos'"
      ]
    },
    {
      "cell_type": "markdown",
      "id": "f07e4c1f",
      "metadata": {
        "id": "f07e4c1f"
      },
      "source": [
        "---"
      ]
    },
    {
      "cell_type": "markdown",
      "id": "2a00476d",
      "metadata": {
        "id": "2a00476d"
      },
      "source": [
        "Ahora intentamos aplicar diferentes métodos de regresión lineal con la regularización de los coeficientes de regresión sobre el [Fisher’s Iris dataset](https://en.wikipedia.org/wiki/Iris_flower_data_set)"
      ]
    },
    {
      "cell_type": "markdown",
      "id": "09e90897",
      "metadata": {
        "id": "09e90897"
      },
      "source": [
        "![image.png](attachment:image.png)"
      ]
    },
    {
      "cell_type": "markdown",
      "id": "92938daf",
      "metadata": {
        "id": "92938daf"
      },
      "source": [
        "* El conjunto de datos de flores de Iris  es un conjunto de datos multivariante introducido por el estadístico y biólogo británico **Ronald Fisher**\n",
        "* El conjunto de datos consta de **50 muestras** de cada una de **las tres especies de Iris**:\n",
        "    * Iris **setosa**\n",
        "    * Iris **virginica**\n",
        "    * Iris **versicolor**\n",
        "* Se midieron cuatro características de cada muestra:\n",
        "    * el **largo** de los **sépalos**, en centímetros.\n",
        "    * el **ancho** de los **sépalos**, en centímetros.\n",
        "    * el **largo** de los **pétalos**, en centímetros.\n",
        "    * el **ancho** de los **pétalos**, en centímetros.\n",
        "* Basado en la combinación de estas cuatro características, Fisher desarrolló un modelo discriminante lineal para **distinguir las especies** entre sí.    "
      ]
    },
    {
      "cell_type": "code",
      "execution_count": null,
      "id": "c7920898",
      "metadata": {
        "id": "c7920898",
        "outputId": "5ac3ae93-95bf-4dd3-a26c-ee2545fa7f58"
      },
      "outputs": [
        {
          "data": {
            "text/html": [
              "<div>\n",
              "<style scoped>\n",
              "    .dataframe tbody tr th:only-of-type {\n",
              "        vertical-align: middle;\n",
              "    }\n",
              "\n",
              "    .dataframe tbody tr th {\n",
              "        vertical-align: top;\n",
              "    }\n",
              "\n",
              "    .dataframe thead th {\n",
              "        text-align: right;\n",
              "    }\n",
              "</style>\n",
              "<table border=\"1\" class=\"dataframe\">\n",
              "  <thead>\n",
              "    <tr style=\"text-align: right;\">\n",
              "      <th></th>\n",
              "      <th>sepal length (cm)</th>\n",
              "      <th>sepal width (cm)</th>\n",
              "      <th>petal length (cm)</th>\n",
              "      <th>petal width (cm)</th>\n",
              "      <th>label</th>\n",
              "    </tr>\n",
              "  </thead>\n",
              "  <tbody>\n",
              "    <tr>\n",
              "      <th>0</th>\n",
              "      <td>5.1</td>\n",
              "      <td>3.5</td>\n",
              "      <td>1.4</td>\n",
              "      <td>0.2</td>\n",
              "      <td>setosa</td>\n",
              "    </tr>\n",
              "    <tr>\n",
              "      <th>1</th>\n",
              "      <td>4.9</td>\n",
              "      <td>3.0</td>\n",
              "      <td>1.4</td>\n",
              "      <td>0.2</td>\n",
              "      <td>setosa</td>\n",
              "    </tr>\n",
              "    <tr>\n",
              "      <th>2</th>\n",
              "      <td>4.7</td>\n",
              "      <td>3.2</td>\n",
              "      <td>1.3</td>\n",
              "      <td>0.2</td>\n",
              "      <td>setosa</td>\n",
              "    </tr>\n",
              "    <tr>\n",
              "      <th>3</th>\n",
              "      <td>4.6</td>\n",
              "      <td>3.1</td>\n",
              "      <td>1.5</td>\n",
              "      <td>0.2</td>\n",
              "      <td>setosa</td>\n",
              "    </tr>\n",
              "    <tr>\n",
              "      <th>4</th>\n",
              "      <td>5.0</td>\n",
              "      <td>3.6</td>\n",
              "      <td>1.4</td>\n",
              "      <td>0.2</td>\n",
              "      <td>setosa</td>\n",
              "    </tr>\n",
              "    <tr>\n",
              "      <th>...</th>\n",
              "      <td>...</td>\n",
              "      <td>...</td>\n",
              "      <td>...</td>\n",
              "      <td>...</td>\n",
              "      <td>...</td>\n",
              "    </tr>\n",
              "    <tr>\n",
              "      <th>145</th>\n",
              "      <td>6.7</td>\n",
              "      <td>3.0</td>\n",
              "      <td>5.2</td>\n",
              "      <td>2.3</td>\n",
              "      <td>virginica</td>\n",
              "    </tr>\n",
              "    <tr>\n",
              "      <th>146</th>\n",
              "      <td>6.3</td>\n",
              "      <td>2.5</td>\n",
              "      <td>5.0</td>\n",
              "      <td>1.9</td>\n",
              "      <td>virginica</td>\n",
              "    </tr>\n",
              "    <tr>\n",
              "      <th>147</th>\n",
              "      <td>6.5</td>\n",
              "      <td>3.0</td>\n",
              "      <td>5.2</td>\n",
              "      <td>2.0</td>\n",
              "      <td>virginica</td>\n",
              "    </tr>\n",
              "    <tr>\n",
              "      <th>148</th>\n",
              "      <td>6.2</td>\n",
              "      <td>3.4</td>\n",
              "      <td>5.4</td>\n",
              "      <td>2.3</td>\n",
              "      <td>virginica</td>\n",
              "    </tr>\n",
              "    <tr>\n",
              "      <th>149</th>\n",
              "      <td>5.9</td>\n",
              "      <td>3.0</td>\n",
              "      <td>5.1</td>\n",
              "      <td>1.8</td>\n",
              "      <td>virginica</td>\n",
              "    </tr>\n",
              "  </tbody>\n",
              "</table>\n",
              "<p>150 rows × 5 columns</p>\n",
              "</div>"
            ],
            "text/plain": [
              "     sepal length (cm)  sepal width (cm)  petal length (cm)  petal width (cm)  \\\n",
              "0                  5.1               3.5                1.4               0.2   \n",
              "1                  4.9               3.0                1.4               0.2   \n",
              "2                  4.7               3.2                1.3               0.2   \n",
              "3                  4.6               3.1                1.5               0.2   \n",
              "4                  5.0               3.6                1.4               0.2   \n",
              "..                 ...               ...                ...               ...   \n",
              "145                6.7               3.0                5.2               2.3   \n",
              "146                6.3               2.5                5.0               1.9   \n",
              "147                6.5               3.0                5.2               2.0   \n",
              "148                6.2               3.4                5.4               2.3   \n",
              "149                5.9               3.0                5.1               1.8   \n",
              "\n",
              "         label  \n",
              "0       setosa  \n",
              "1       setosa  \n",
              "2       setosa  \n",
              "3       setosa  \n",
              "4       setosa  \n",
              "..         ...  \n",
              "145  virginica  \n",
              "146  virginica  \n",
              "147  virginica  \n",
              "148  virginica  \n",
              "149  virginica  \n",
              "\n",
              "[150 rows x 5 columns]"
            ]
          },
          "execution_count": 84,
          "metadata": {},
          "output_type": "execute_result"
        }
      ],
      "source": [
        "from sklearn.datasets import load_iris\n",
        "\n",
        "\n",
        "# Construimos un dataframe con los datos medidos\n",
        "dataset = pd.DataFrame(load_iris()[\"data\"],columns=load_iris()[\"feature_names\"])\n",
        "\n",
        "# Añadimos la especie como etiqueta\n",
        "dataset[\"label\"] = load_iris()[\"target_names\"][load_iris()[\"target\"]]\n",
        "\n",
        "dataset"
      ]
    },
    {
      "cell_type": "code",
      "execution_count": null,
      "id": "c3dd4703",
      "metadata": {
        "id": "c3dd4703",
        "outputId": "eb216e60-c0ae-437c-d606-b21f16af29c5"
      },
      "outputs": [
        {
          "data": {
            "text/html": [
              "<div>\n",
              "<style scoped>\n",
              "    .dataframe tbody tr th:only-of-type {\n",
              "        vertical-align: middle;\n",
              "    }\n",
              "\n",
              "    .dataframe tbody tr th {\n",
              "        vertical-align: top;\n",
              "    }\n",
              "\n",
              "    .dataframe thead th {\n",
              "        text-align: right;\n",
              "    }\n",
              "</style>\n",
              "<table border=\"1\" class=\"dataframe\">\n",
              "  <thead>\n",
              "    <tr style=\"text-align: right;\">\n",
              "      <th></th>\n",
              "      <th>sepal length (cm)</th>\n",
              "      <th>sepal width (cm)</th>\n",
              "      <th>petal length (cm)</th>\n",
              "      <th>petal width (cm)</th>\n",
              "    </tr>\n",
              "  </thead>\n",
              "  <tbody>\n",
              "    <tr>\n",
              "      <th>0</th>\n",
              "      <td>5.1</td>\n",
              "      <td>3.5</td>\n",
              "      <td>1.4</td>\n",
              "      <td>0.2</td>\n",
              "    </tr>\n",
              "    <tr>\n",
              "      <th>1</th>\n",
              "      <td>4.9</td>\n",
              "      <td>3.0</td>\n",
              "      <td>1.4</td>\n",
              "      <td>0.2</td>\n",
              "    </tr>\n",
              "    <tr>\n",
              "      <th>2</th>\n",
              "      <td>4.7</td>\n",
              "      <td>3.2</td>\n",
              "      <td>1.3</td>\n",
              "      <td>0.2</td>\n",
              "    </tr>\n",
              "    <tr>\n",
              "      <th>3</th>\n",
              "      <td>4.6</td>\n",
              "      <td>3.1</td>\n",
              "      <td>1.5</td>\n",
              "      <td>0.2</td>\n",
              "    </tr>\n",
              "    <tr>\n",
              "      <th>4</th>\n",
              "      <td>5.0</td>\n",
              "      <td>3.6</td>\n",
              "      <td>1.4</td>\n",
              "      <td>0.2</td>\n",
              "    </tr>\n",
              "    <tr>\n",
              "      <th>...</th>\n",
              "      <td>...</td>\n",
              "      <td>...</td>\n",
              "      <td>...</td>\n",
              "      <td>...</td>\n",
              "    </tr>\n",
              "    <tr>\n",
              "      <th>145</th>\n",
              "      <td>6.7</td>\n",
              "      <td>3.0</td>\n",
              "      <td>5.2</td>\n",
              "      <td>2.3</td>\n",
              "    </tr>\n",
              "    <tr>\n",
              "      <th>146</th>\n",
              "      <td>6.3</td>\n",
              "      <td>2.5</td>\n",
              "      <td>5.0</td>\n",
              "      <td>1.9</td>\n",
              "    </tr>\n",
              "    <tr>\n",
              "      <th>147</th>\n",
              "      <td>6.5</td>\n",
              "      <td>3.0</td>\n",
              "      <td>5.2</td>\n",
              "      <td>2.0</td>\n",
              "    </tr>\n",
              "    <tr>\n",
              "      <th>148</th>\n",
              "      <td>6.2</td>\n",
              "      <td>3.4</td>\n",
              "      <td>5.4</td>\n",
              "      <td>2.3</td>\n",
              "    </tr>\n",
              "    <tr>\n",
              "      <th>149</th>\n",
              "      <td>5.9</td>\n",
              "      <td>3.0</td>\n",
              "      <td>5.1</td>\n",
              "      <td>1.8</td>\n",
              "    </tr>\n",
              "  </tbody>\n",
              "</table>\n",
              "<p>150 rows × 4 columns</p>\n",
              "</div>"
            ],
            "text/plain": [
              "     sepal length (cm)  sepal width (cm)  petal length (cm)  petal width (cm)\n",
              "0                  5.1               3.5                1.4               0.2\n",
              "1                  4.9               3.0                1.4               0.2\n",
              "2                  4.7               3.2                1.3               0.2\n",
              "3                  4.6               3.1                1.5               0.2\n",
              "4                  5.0               3.6                1.4               0.2\n",
              "..                 ...               ...                ...               ...\n",
              "145                6.7               3.0                5.2               2.3\n",
              "146                6.3               2.5                5.0               1.9\n",
              "147                6.5               3.0                5.2               2.0\n",
              "148                6.2               3.4                5.4               2.3\n",
              "149                5.9               3.0                5.1               1.8\n",
              "\n",
              "[150 rows x 4 columns]"
            ]
          },
          "execution_count": 85,
          "metadata": {},
          "output_type": "execute_result"
        }
      ],
      "source": [
        "# Quedarnos solamente con las columnas numéricas\n",
        "dataset_num = dataset.drop('label', axis=1)\n",
        "dataset_num"
      ]
    },
    {
      "cell_type": "markdown",
      "id": "73e6e3a1",
      "metadata": {
        "id": "73e6e3a1"
      },
      "source": [
        "### **Planteamiento del problema**: predecir la longitud del sépalo (cm) de las flores iris"
      ]
    },
    {
      "cell_type": "markdown",
      "id": "aafd1f1b",
      "metadata": {
        "id": "aafd1f1b"
      },
      "source": [
        "Estableceremos las **longitudes de los sépalos** como la variable ***y_iris*** (variable objetivo) y el resto de las variables como predictores del modelo  ***X_iris*** (variables independientes)."
      ]
    },
    {
      "cell_type": "code",
      "execution_count": null,
      "id": "06f8a8ac",
      "metadata": {
        "id": "06f8a8ac",
        "outputId": "c1f6b04e-02e3-47c3-cf9e-46e026926e06"
      },
      "outputs": [
        {
          "name": "stdout",
          "output_type": "stream",
          "text": [
            "     sepal width (cm)  petal length (cm)  petal width (cm)\n",
            "0                 3.5                1.4               0.2\n",
            "1                 3.0                1.4               0.2\n",
            "2                 3.2                1.3               0.2\n",
            "3                 3.1                1.5               0.2\n",
            "4                 3.6                1.4               0.2\n",
            "..                ...                ...               ...\n",
            "145               3.0                5.2               2.3\n",
            "146               2.5                5.0               1.9\n",
            "147               3.0                5.2               2.0\n",
            "148               3.4                5.4               2.3\n",
            "149               3.0                5.1               1.8\n",
            "\n",
            "[150 rows x 3 columns]\n",
            "0      5.1\n",
            "1      4.9\n",
            "2      4.7\n",
            "3      4.6\n",
            "4      5.0\n",
            "      ... \n",
            "145    6.7\n",
            "146    6.3\n",
            "147    6.5\n",
            "148    6.2\n",
            "149    5.9\n",
            "Name: sepal length (cm), Length: 150, dtype: float64\n"
          ]
        }
      ],
      "source": [
        "X_iris = dataset_num.drop('sepal length (cm)', axis='columns')\n",
        "y_iris = dataset_num['sepal length (cm)']\n",
        "\n",
        "print(X_iris)\n",
        "print(y_iris)"
      ]
    },
    {
      "cell_type": "code",
      "execution_count": null,
      "id": "4baf9a9a",
      "metadata": {
        "id": "4baf9a9a"
      },
      "outputs": [],
      "source": [
        "# Separar los conjuntos de datos de entrenamiento (Training) y de prueba (Test) para las variables de entrada y salida\n",
        "from sklearn.model_selection import train_test_split\n",
        "X_train_ir, X_test_ir, y_train_ir, y_test_ir = train_test_split(X_iris, y_iris, test_size= 0.25, random_state= 123)"
      ]
    },
    {
      "cell_type": "code",
      "execution_count": null,
      "id": "26b9e8b5",
      "metadata": {
        "id": "26b9e8b5"
      },
      "outputs": [],
      "source": [
        "# Indicamos el algoritmo de \"regresión linel\"\n",
        "\n",
        "from sklearn.linear_model import LinearRegression\n",
        "\n",
        "lr_iris = LinearRegression()"
      ]
    },
    {
      "cell_type": "code",
      "execution_count": null,
      "id": "4b27c343",
      "metadata": {
        "id": "4b27c343",
        "outputId": "8cda6936-f3c1-4682-ea7d-9c6be53b416a"
      },
      "outputs": [
        {
          "data": {
            "text/html": [
              "<style>#sk-container-id-3 {color: black;background-color: white;}#sk-container-id-3 pre{padding: 0;}#sk-container-id-3 div.sk-toggleable {background-color: white;}#sk-container-id-3 label.sk-toggleable__label {cursor: pointer;display: block;width: 100%;margin-bottom: 0;padding: 0.3em;box-sizing: border-box;text-align: center;}#sk-container-id-3 label.sk-toggleable__label-arrow:before {content: \"▸\";float: left;margin-right: 0.25em;color: #696969;}#sk-container-id-3 label.sk-toggleable__label-arrow:hover:before {color: black;}#sk-container-id-3 div.sk-estimator:hover label.sk-toggleable__label-arrow:before {color: black;}#sk-container-id-3 div.sk-toggleable__content {max-height: 0;max-width: 0;overflow: hidden;text-align: left;background-color: #f0f8ff;}#sk-container-id-3 div.sk-toggleable__content pre {margin: 0.2em;color: black;border-radius: 0.25em;background-color: #f0f8ff;}#sk-container-id-3 input.sk-toggleable__control:checked~div.sk-toggleable__content {max-height: 200px;max-width: 100%;overflow: auto;}#sk-container-id-3 input.sk-toggleable__control:checked~label.sk-toggleable__label-arrow:before {content: \"▾\";}#sk-container-id-3 div.sk-estimator input.sk-toggleable__control:checked~label.sk-toggleable__label {background-color: #d4ebff;}#sk-container-id-3 div.sk-label input.sk-toggleable__control:checked~label.sk-toggleable__label {background-color: #d4ebff;}#sk-container-id-3 input.sk-hidden--visually {border: 0;clip: rect(1px 1px 1px 1px);clip: rect(1px, 1px, 1px, 1px);height: 1px;margin: -1px;overflow: hidden;padding: 0;position: absolute;width: 1px;}#sk-container-id-3 div.sk-estimator {font-family: monospace;background-color: #f0f8ff;border: 1px dotted black;border-radius: 0.25em;box-sizing: border-box;margin-bottom: 0.5em;}#sk-container-id-3 div.sk-estimator:hover {background-color: #d4ebff;}#sk-container-id-3 div.sk-parallel-item::after {content: \"\";width: 100%;border-bottom: 1px solid gray;flex-grow: 1;}#sk-container-id-3 div.sk-label:hover label.sk-toggleable__label {background-color: #d4ebff;}#sk-container-id-3 div.sk-serial::before {content: \"\";position: absolute;border-left: 1px solid gray;box-sizing: border-box;top: 0;bottom: 0;left: 50%;z-index: 0;}#sk-container-id-3 div.sk-serial {display: flex;flex-direction: column;align-items: center;background-color: white;padding-right: 0.2em;padding-left: 0.2em;position: relative;}#sk-container-id-3 div.sk-item {position: relative;z-index: 1;}#sk-container-id-3 div.sk-parallel {display: flex;align-items: stretch;justify-content: center;background-color: white;position: relative;}#sk-container-id-3 div.sk-item::before, #sk-container-id-3 div.sk-parallel-item::before {content: \"\";position: absolute;border-left: 1px solid gray;box-sizing: border-box;top: 0;bottom: 0;left: 50%;z-index: -1;}#sk-container-id-3 div.sk-parallel-item {display: flex;flex-direction: column;z-index: 1;position: relative;background-color: white;}#sk-container-id-3 div.sk-parallel-item:first-child::after {align-self: flex-end;width: 50%;}#sk-container-id-3 div.sk-parallel-item:last-child::after {align-self: flex-start;width: 50%;}#sk-container-id-3 div.sk-parallel-item:only-child::after {width: 0;}#sk-container-id-3 div.sk-dashed-wrapped {border: 1px dashed gray;margin: 0 0.4em 0.5em 0.4em;box-sizing: border-box;padding-bottom: 0.4em;background-color: white;}#sk-container-id-3 div.sk-label label {font-family: monospace;font-weight: bold;display: inline-block;line-height: 1.2em;}#sk-container-id-3 div.sk-label-container {text-align: center;}#sk-container-id-3 div.sk-container {/* jupyter's `normalize.less` sets `[hidden] { display: none; }` but bootstrap.min.css set `[hidden] { display: none !important; }` so we also need the `!important` here to be able to override the default hidden behavior on the sphinx rendered scikit-learn.org. See: https://github.com/scikit-learn/scikit-learn/issues/21755 */display: inline-block !important;position: relative;}#sk-container-id-3 div.sk-text-repr-fallback {display: none;}</style><div id=\"sk-container-id-3\" class=\"sk-top-container\"><div class=\"sk-text-repr-fallback\"><pre>LinearRegression()</pre><b>In a Jupyter environment, please rerun this cell to show the HTML representation or trust the notebook. <br />On GitHub, the HTML representation is unable to render, please try loading this page with nbviewer.org.</b></div><div class=\"sk-container\" hidden><div class=\"sk-item\"><div class=\"sk-estimator sk-toggleable\"><input class=\"sk-toggleable__control sk-hidden--visually\" id=\"sk-estimator-id-3\" type=\"checkbox\" checked><label for=\"sk-estimator-id-3\" class=\"sk-toggleable__label sk-toggleable__label-arrow\">LinearRegression</label><div class=\"sk-toggleable__content\"><pre>LinearRegression()</pre></div></div></div></div></div>"
            ],
            "text/plain": [
              "LinearRegression()"
            ]
          },
          "execution_count": 89,
          "metadata": {},
          "output_type": "execute_result"
        }
      ],
      "source": [
        "# Training/Fitting para entrenar el modelo\n",
        "lr_iris.fit(X_train_ir, y_train_ir)"
      ]
    },
    {
      "cell_type": "code",
      "execution_count": null,
      "id": "f5859936",
      "metadata": {
        "id": "f5859936"
      },
      "outputs": [],
      "source": [
        "# Conseguir la predicción (para el conjunto de test que son los datos no vistos por el algoritmo en la fase de modelización)\n",
        "y_pred_ir = lr_iris.predict(X_test_ir)"
      ]
    },
    {
      "cell_type": "code",
      "execution_count": null,
      "id": "20b427ec",
      "metadata": {
        "id": "20b427ec",
        "outputId": "07f7e99f-2c5d-426e-94ca-ab0d9b92175d"
      },
      "outputs": [
        {
          "name": "stdout",
          "output_type": "stream",
          "text": [
            "DATOS DEL MODELO REGRESIÓN LINEAL MULTIPLE\n",
            "\n",
            " Valor de las pendientes o coeficientes \"a\":\n",
            "[ 0.65464427  0.73050862 -0.62879772]\n",
            "\n",
            " Valor de la intersección o coeficiente \"b\":\n",
            "1.8517174253895137\n"
          ]
        }
      ],
      "source": [
        "print('DATOS DEL MODELO REGRESIÓN LINEAL MULTIPLE')\n",
        "print('\\n', 'Valor de las pendientes o coeficientes \"a\":')\n",
        "print(lr_iris.coef_)\n",
        "print('\\n', 'Valor de la intersección o coeficiente \"b\":')\n",
        "print(lr_iris.intercept_)"
      ]
    },
    {
      "cell_type": "code",
      "execution_count": null,
      "id": "a79323f0",
      "metadata": {
        "id": "a79323f0",
        "outputId": "1ae05583-9329-4d65-a1e3-4924409f8ba9"
      },
      "outputs": [
        {
          "data": {
            "image/png": "[encoded data removed]",
            "text/plain": [
              "<Figure size 1200x600 with 1 Axes>"
            ]
          },
          "metadata": {},
          "output_type": "display_data"
        }
      ],
      "source": [
        "# Creamos una tabla de los parámetros del modelo ajustado y los visualizamos\n",
        "df_coef_ir = pd.DataFrame(X_iris.columns, columns=['variables'])\n",
        "df_coef_ir['coeficientes'] = lr_iris.coef_\n",
        "\n",
        "sns.barplot(x=df_coef_ir['variables'], y=df_coef_ir['coeficientes'])\n",
        "plt.show()"
      ]
    },
    {
      "cell_type": "code",
      "execution_count": null,
      "id": "da075de6",
      "metadata": {
        "id": "da075de6",
        "outputId": "f0e09b0d-1668-4dca-9faf-350f369f4dbf"
      },
      "outputs": [
        {
          "name": "stdout",
          "output_type": "stream",
          "text": [
            "Mean Absolute Error: 0.28285419571828097\n",
            "Mean Absolute Percentage Error: 4.941203228291839\n",
            "Mean Squared Error: 0.11930339817249105\n",
            "Mean Root Squared Error: 0.345403239956563\n",
            "R^2 coefficient of determination: 0.8616861039388235\n"
          ]
        }
      ],
      "source": [
        "from sklearn.metrics import mean_absolute_error\n",
        "from sklearn.metrics import mean_absolute_percentage_error\n",
        "from sklearn.metrics import mean_squared_error\n",
        "from sklearn.metrics import r2_score\n",
        "\n",
        "# Métricas para evaluar la calidad del modelo\n",
        "print('Mean Absolute Error:', mean_absolute_error(y_test_ir, y_pred_ir))\n",
        "print('Mean Absolute Percentage Error:', mean_absolute_percentage_error(y_test_ir, y_pred_ir)*100)\n",
        "print('Mean Squared Error:', mean_squared_error(y_test_ir, y_pred_ir))\n",
        "print('Mean Root Squared Error:', np.sqrt(mean_squared_error(y_test_ir, y_pred_ir)))\n",
        "print('R^2 coefficient of determination:', r2_score(y_test_ir, y_pred_ir))"
      ]
    },
    {
      "cell_type": "markdown",
      "id": "91b94394",
      "metadata": {
        "id": "91b94394"
      },
      "source": [
        "Como primera regularización aplicamos el modelo **Lasso (L1)**"
      ]
    },
    {
      "cell_type": "code",
      "execution_count": null,
      "id": "59fbe99f",
      "metadata": {
        "id": "59fbe99f"
      },
      "outputs": [],
      "source": [
        "# importamos \"lasso (L1) regression\" de la misma librería de sklearn\n",
        "from sklearn.linear_model import Lasso\n",
        "\n",
        "# Ajustamos el modelo\n",
        "L1_reg_ir = Lasso(alpha = 1)\n",
        "L1_reg_ir.fit(X_train_ir, y_train_ir)\n",
        "y_pred_l1_ir = L1_reg_ir.predict(X_test_ir)"
      ]
    },
    {
      "cell_type": "code",
      "execution_count": null,
      "id": "071aad68",
      "metadata": {
        "id": "071aad68",
        "outputId": "8ebeb7dc-4c05-4ec9-c1f3-43be92b2c37f"
      },
      "outputs": [
        {
          "name": "stdout",
          "output_type": "stream",
          "text": [
            "DATOS DEL MODELO REGRESIÓN LINEAL MULTIPLE\n",
            "\n",
            " Valor de las pendientes o coeficientes \"a\":\n",
            "[-0.          0.05709709  0.        ]\n",
            "\n",
            " Valor de la intersección o coeficiente \"b\":\n",
            "5.645583477117784\n"
          ]
        }
      ],
      "source": [
        "print('DATOS DEL MODELO REGRESIÓN LINEAL MULTIPLE')\n",
        "print('\\n', 'Valor de las pendientes o coeficientes \"a\":')\n",
        "print(L1_reg_ir.coef_)\n",
        "print('\\n', 'Valor de la intersección o coeficiente \"b\":')\n",
        "print(L1_reg_ir.intercept_)"
      ]
    },
    {
      "cell_type": "code",
      "execution_count": null,
      "id": "ca8db709",
      "metadata": {
        "id": "ca8db709",
        "outputId": "be1cd019-c92e-4d93-df31-76674a723cdc"
      },
      "outputs": [
        {
          "data": {
            "image/png": "[encoded data removed]",
            "text/plain": [
              "<Figure size 1600x900 with 2 Axes>"
            ]
          },
          "metadata": {},
          "output_type": "display_data"
        }
      ],
      "source": [
        "# Visualizamos los coeficientes del modelo\n",
        "df_coef_l1_ir = pd.DataFrame(X_iris.columns, columns=['variables'])\n",
        "df_coef_l1_ir['coeficientes'] = L1_reg_ir.coef_\n",
        "\n",
        "fig, axes = plt.subplots(2, 1, figsize=(16,9))\n",
        "sns.barplot(x=df_coef_ir['variables'], y=df_coef_ir['coeficientes'], ax=axes[0])\n",
        "axes[0].set_title(\"Coeficientes modelo inicial\")\n",
        "\n",
        "sns.barplot(x=df_coef_l1_ir['variables'], y=df_coef_l1_ir['coeficientes'], ax=axes[1])\n",
        "axes[1].set_title(\"Coeficientes modelo Lasso (L1)\")\n",
        "plt.show()"
      ]
    },
    {
      "cell_type": "markdown",
      "id": "ef4abc31",
      "metadata": {
        "id": "ef4abc31"
      },
      "source": [
        "Como se puede observar, el modelo *Lasso* ha dejado solamente una variable como predictor."
      ]
    },
    {
      "cell_type": "code",
      "execution_count": null,
      "id": "77e9881f",
      "metadata": {
        "id": "77e9881f",
        "outputId": "507189c6-9bb1-4b3c-b3ea-e67c3d7dbfc5"
      },
      "outputs": [
        {
          "name": "stdout",
          "output_type": "stream",
          "text": [
            "Mean Absolute Error: 0.6849294562362616\n",
            "Mean Absolute Percentage Error: 12.09618277305041\n",
            "Mean Squared Error: 0.7026378774991608\n",
            "Mean Root Squared Error: 0.8382349774968597\n",
            "R^2 coefficient of determination: 0.18539971328768612\n"
          ]
        }
      ],
      "source": [
        "from sklearn.metrics import mean_absolute_error\n",
        "from sklearn.metrics import mean_absolute_percentage_error\n",
        "from sklearn.metrics import mean_squared_error\n",
        "from sklearn.metrics import r2_score\n",
        "\n",
        "# Métricas para evaluar la calidad del modelo\n",
        "print('Mean Absolute Error:', mean_absolute_error(y_test_ir, y_pred_l1_ir))\n",
        "print('Mean Absolute Percentage Error:', mean_absolute_percentage_error(y_test_ir, y_pred_l1_ir)*100)\n",
        "print('Mean Squared Error:', mean_squared_error(y_test_ir, y_pred_l1_ir))\n",
        "print('Mean Root Squared Error:', np.sqrt(mean_squared_error(y_test_ir, y_pred_l1_ir)))\n",
        "print('R^2 coefficient of determination:', r2_score(y_test_ir, y_pred_l1_ir))"
      ]
    },
    {
      "cell_type": "markdown",
      "id": "e2882393",
      "metadata": {
        "id": "e2882393"
      },
      "source": [
        "El rendimiento de este modelo claramente es inferior y no tiene mucha capacidad predictiva por los resultados obtenidos."
      ]
    },
    {
      "cell_type": "markdown",
      "id": "f8a69980",
      "metadata": {
        "id": "f8a69980"
      },
      "source": [
        "Ahora aplicamos el método de ***Ridge Regression*** sobre el mismo planteamiento del dataset de Iris:"
      ]
    },
    {
      "cell_type": "code",
      "execution_count": null,
      "id": "d2770f23",
      "metadata": {
        "id": "d2770f23"
      },
      "outputs": [],
      "source": [
        "# importamos el \"ridge regression\"\n",
        "from sklearn.linear_model import Ridge\n",
        "\n",
        "# Entrenamos el modelo L2\n",
        "L2_reg_ir = Ridge(alpha = 1)\n",
        "L2_reg_ir.fit(X_train_ir, y_train_ir)\n",
        "y_pred_l2_ir = L2_reg_ir.predict(X_test_ir)"
      ]
    },
    {
      "cell_type": "code",
      "execution_count": null,
      "id": "2ae69875",
      "metadata": {
        "id": "2ae69875",
        "outputId": "39103dcc-5ff4-4870-a1f5-1b5978f8a851"
      },
      "outputs": [
        {
          "name": "stdout",
          "output_type": "stream",
          "text": [
            "DATOS DEL MODELO REGRESIÓN LINEAL MULTIPLE\n",
            "\n",
            " Valor de las pendientes o coeficientes \"a\":\n",
            "[ 0.58942098  0.64936485 -0.45491125]\n",
            "\n",
            " Valor de la intersección o coeficiente \"b\":\n",
            "2.1457688792934153\n"
          ]
        }
      ],
      "source": [
        "print('DATOS DEL MODELO REGRESIÓN LINEAL MULTIPLE')\n",
        "print('\\n', 'Valor de las pendientes o coeficientes \"a\":')\n",
        "print(L2_reg_ir.coef_)\n",
        "print('\\n', 'Valor de la intersección o coeficiente \"b\":')\n",
        "print(L2_reg_ir.intercept_)"
      ]
    },
    {
      "cell_type": "code",
      "execution_count": null,
      "id": "465e0ba9",
      "metadata": {
        "id": "465e0ba9",
        "outputId": "e50911da-fe8e-485e-8e17-aea18e632638"
      },
      "outputs": [
        {
          "data": {
            "image/png": "[encoded data removed]",
            "text/plain": [
              "<Figure size 1600x900 with 2 Axes>"
            ]
          },
          "metadata": {},
          "output_type": "display_data"
        }
      ],
      "source": [
        "# Visualizamos los coeficientes del modelo\n",
        "df_coef_l2_ir = pd.DataFrame(X_iris.columns, columns=['variables'])\n",
        "df_coef_l2_ir['coeficientes'] = L2_reg_ir.coef_\n",
        "\n",
        "fig, axes = plt.subplots(2, 1, figsize=(16,9))\n",
        "sns.barplot(x=df_coef_ir['variables'], y=df_coef_ir['coeficientes'], ax=axes[0])\n",
        "axes[0].set_title(\"Coeficientes modelo inicial\")\n",
        "\n",
        "sns.barplot(x=df_coef_l2_ir['variables'], y=df_coef_l2_ir['coeficientes'], ax=axes[1])\n",
        "axes[1].set_title(\"Coeficientes modelo Ridge (L2)\")\n",
        "plt.show()"
      ]
    },
    {
      "cell_type": "markdown",
      "id": "14ca4676",
      "metadata": {
        "id": "14ca4676"
      },
      "source": [
        "El modelo de L2 incluye las 3 variables independientes como el modelo original, con los coeficientes similares y ligeramente más pequeños."
      ]
    },
    {
      "cell_type": "code",
      "execution_count": null,
      "id": "996fe4aa",
      "metadata": {
        "id": "996fe4aa",
        "outputId": "8fc90e39-f490-4d3e-bed8-bf9f3ee37428"
      },
      "outputs": [
        {
          "name": "stdout",
          "output_type": "stream",
          "text": [
            "Mean Absolute Error: 0.28388765658567483\n",
            "Mean Absolute Percentage Error: 4.9645443573366626\n",
            "Mean Squared Error: 0.1177109399155002\n",
            "Mean Root Squared Error: 0.34309027954096893\n",
            "R^2 coefficient of determination: 0.8635323137636329\n"
          ]
        }
      ],
      "source": [
        "from sklearn.metrics import mean_absolute_error\n",
        "from sklearn.metrics import mean_absolute_percentage_error\n",
        "from sklearn.metrics import mean_squared_error\n",
        "from sklearn.metrics import r2_score\n",
        "\n",
        "# Métricas para evaluar la calidad del modelo\n",
        "print('Mean Absolute Error:', mean_absolute_error(y_test_ir, y_pred_l2_ir))\n",
        "print('Mean Absolute Percentage Error:', mean_absolute_percentage_error(y_test_ir, y_pred_l2_ir)*100)\n",
        "print('Mean Squared Error:', mean_squared_error(y_test_ir, y_pred_l2_ir))\n",
        "print('Mean Root Squared Error:', np.sqrt(mean_squared_error(y_test_ir, y_pred_l2_ir)))\n",
        "print('R^2 coefficient of determination:', r2_score(y_test_ir, y_pred_l2_ir))"
      ]
    },
    {
      "cell_type": "markdown",
      "id": "92c47833",
      "metadata": {
        "id": "92c47833"
      },
      "source": [
        "Las métricas del modelo indican que los resultados prácticamente son iguales que el modelo original sin regularización."
      ]
    },
    {
      "cell_type": "markdown",
      "id": "661cc2fc",
      "metadata": {
        "id": "661cc2fc"
      },
      "source": [
        "Ahora aplicamos el modelo **Elastic Net** que pretende combinar las dos penalizaciones anteriores:"
      ]
    },
    {
      "cell_type": "code",
      "execution_count": null,
      "id": "6985938f",
      "metadata": {
        "id": "6985938f"
      },
      "outputs": [],
      "source": [
        "# importamos \"Elastic Net regression\"\n",
        "from sklearn.linear_model import ElasticNet\n",
        "\n",
        "# Ajustamos el algoritmo indicando unos valoros para los hiperparámetros\n",
        "Elastic_reg_ir = ElasticNet(alpha=0.1,l1_ratio=0.5)\n",
        "Elastic_reg_ir.fit(X_train_ir, y_train_ir)\n",
        "y_pred_elastic_ir = Elastic_reg_ir.predict(X_test_ir)"
      ]
    },
    {
      "cell_type": "code",
      "execution_count": null,
      "id": "0c4a14e1",
      "metadata": {
        "id": "0c4a14e1",
        "outputId": "099a41c5-d6cb-45cc-8f0f-be473b41c1ed"
      },
      "outputs": [
        {
          "name": "stdout",
          "output_type": "stream",
          "text": [
            "DATOS DEL MODELO REGRESIÓN LINEAL MULTIPLE\n",
            "\n",
            " Valor de las pendientes o coeficientes \"a\":\n",
            "[0.12055477 0.38878762 0.        ]\n",
            "\n",
            " Valor de la intersección o coeficiente \"b\":\n",
            "4.0080440837722815\n"
          ]
        }
      ],
      "source": [
        "print('DATOS DEL MODELO REGRESIÓN LINEAL MULTIPLE')\n",
        "print('\\n', 'Valor de las pendientes o coeficientes \"a\":')\n",
        "print(Elastic_reg_ir.coef_)\n",
        "print('\\n', 'Valor de la intersección o coeficiente \"b\":')\n",
        "print(Elastic_reg_ir.intercept_)"
      ]
    },
    {
      "cell_type": "code",
      "execution_count": null,
      "id": "90c20a07",
      "metadata": {
        "id": "90c20a07",
        "outputId": "db9f154e-aee6-4388-e0f2-0659dc8d0f16"
      },
      "outputs": [
        {
          "data": {
            "image/png": "[encoded data removed]",
            "text/plain": [
              "<Figure size 1600x900 with 2 Axes>"
            ]
          },
          "metadata": {},
          "output_type": "display_data"
        }
      ],
      "source": [
        "# Visualizamos los coeficientes del modelo\n",
        "df_coef_elastic_ir = pd.DataFrame(X_iris.columns, columns=['variables'])\n",
        "df_coef_elastic_ir['coeficientes'] = Elastic_reg_ir.coef_\n",
        "\n",
        "fig, axes = plt.subplots(2, 1, figsize=(16,9))\n",
        "sns.barplot(x=df_coef_ir['variables'], y=df_coef_ir['coeficientes'], ax=axes[0])\n",
        "axes[0].set_title(\"Coeficientes modelo inicial\")\n",
        "\n",
        "sns.barplot(x=df_coef_elastic_ir['variables'], y=df_coef_elastic_ir['coeficientes'], ax=axes[1])\n",
        "axes[1].set_title(\"Coeficientes modelo Elastic Net\")\n",
        "plt.show()"
      ]
    },
    {
      "cell_type": "markdown",
      "id": "b9203524",
      "metadata": {
        "id": "b9203524"
      },
      "source": [
        "Se puede apreciar que este nuevo modelo tiene un predictor menos que el modelo original, y el resto de los coeficientes más pequeños."
      ]
    },
    {
      "cell_type": "code",
      "execution_count": null,
      "id": "c39a0018",
      "metadata": {
        "id": "c39a0018",
        "outputId": "e393c0bc-b2b8-4c69-e097-44949dac021f"
      },
      "outputs": [
        {
          "name": "stdout",
          "output_type": "stream",
          "text": [
            "Mean Absolute Error: 0.34508228171040944\n",
            "Mean Absolute Percentage Error: 5.9839353016359125\n",
            "Mean Squared Error: 0.1801264682382367\n",
            "Mean Root Squared Error: 0.42441308678955303\n",
            "R^2 coefficient of determination: 0.7911711318587158\n"
          ]
        }
      ],
      "source": [
        "from sklearn.metrics import mean_absolute_error\n",
        "from sklearn.metrics import mean_absolute_percentage_error\n",
        "from sklearn.metrics import mean_squared_error\n",
        "from sklearn.metrics import r2_score\n",
        "\n",
        "# Métricas para evaluar la calidad del modelo\n",
        "print('Mean Absolute Error:', mean_absolute_error(y_test_ir, y_pred_elastic_ir))\n",
        "print('Mean Absolute Percentage Error:', mean_absolute_percentage_error(y_test_ir, y_pred_elastic_ir)*100)\n",
        "print('Mean Squared Error:', mean_squared_error(y_test_ir, y_pred_elastic_ir))\n",
        "print('Mean Root Squared Error:', np.sqrt(mean_squared_error(y_test_ir, y_pred_elastic_ir)))\n",
        "print('R^2 coefficient of determination:', r2_score(y_test_ir, y_pred_elastic_ir))"
      ]
    },
    {
      "cell_type": "markdown",
      "id": "a5f8d9da",
      "metadata": {
        "id": "a5f8d9da"
      },
      "source": [
        "Los resultados de este modelo parecen relativamente aceptables. En un principio son bastante mejores que el modelo L1 y por otra parte ligeramente inferiores respecto al modelo L2."
      ]
    },
    {
      "cell_type": "markdown",
      "id": "7cd7e518",
      "metadata": {
        "id": "7cd7e518"
      },
      "source": [
        "---"
      ]
    },
    {
      "cell_type": "markdown",
      "id": "a8310db5",
      "metadata": {
        "id": "a8310db5"
      },
      "source": [
        "### **`Ejercicio 7.2`**\n",
        "\n",
        "Realiza una busqueda en estos rangos indicados con el método `ElasticNetCV` y sigue los siguientes puntos:\n",
        "\n",
        "- $\\alpha$:  valores entre `0.2` y `0.5` con pasos de una centésima.\n",
        "- $l1_{ratio}$:  valores igual a `0.9`, `0.95`, `0.99` y `1`\n",
        "\n",
        "**`7.2.1`** Construye un modelo tipo regresión lineal múltiple con los hiperparámetros resultantes.  \n",
        "**`7.2.2`** Visualiza los coeficientes del modelo y comparalos con los coeficientes correspondientes al modelo original (primer modelo sin regularización).  \n",
        "**`7.2.3`** Calcula diferentes métricas para evaluar tu modelo y analiza su rendimiendo en comparación con modelos anteriores.\n",
        "- MAE\n",
        "- MAPE\n",
        "- MSE\n",
        "- RMSE\n",
        "- $R^2$  \n",
        "  \n",
        "Explica si este modelo tiene preferencia o no, para ser elegido en práctica como predictor de largos de sépalos en (cm) comparando con otros modelos."
      ]
    },
    {
      "cell_type": "code",
      "execution_count": null,
      "id": "1b886872",
      "metadata": {
        "id": "1b886872",
        "outputId": "ed319d27-952b-4d5c-b480-df496e715087"
      },
      "outputs": [
        {
          "name": "stdout",
          "output_type": "stream",
          "text": [
            "EL valor optimo de alpha es:  0.2\n",
            "El valor optimo de l1ratio es: 0.9\n"
          ]
        }
      ],
      "source": [
        "## Solución\n",
        "# Ejercicio 7.2.1\n",
        "#Construimos el modelo con  los hiperparametros resultantes\n",
        "Elastic_reg_cv_72 = ElasticNetCV(alphas=np.arange(0.2, 0.5, 0.01),\n",
        "                              l1_ratio=[.9, .95, .99, 1],\n",
        "                              cv=10,\n",
        "                              random_state=123)\n",
        "Elastic_reg_cv_72.fit(X_train_ir, y_train_ir)\n",
        "alphaOptimo_72=Elastic_reg_cv_72.alpha_\n",
        "l1Optimo_72=Elastic_reg_cv_72.l1_ratio_\n",
        "y_pred_elastic_cv_72 = Elastic_reg_cv_72.predict(X_test_ir)\n",
        "\n",
        "print(\"EL valor optimo de alpha es: \",alphaOptimo_72 )\n",
        "print(\"El valor optimo de l1ratio es:\",l1Optimo_72)\n",
        "\n",
        "Elastic_reg_cv_72.fit(X_train_ir, y_train_ir)\n",
        "y_pred_elastic_72=Elastic_reg_cv_72.predict(X_test_ir)\n"
      ]
    },
    {
      "cell_type": "code",
      "execution_count": null,
      "id": "3ca9058c",
      "metadata": {
        "id": "3ca9058c",
        "outputId": "f7cf5a30-cd23-439d-cf3a-812e258321b9"
      },
      "outputs": [
        {
          "name": "stdout",
          "output_type": "stream",
          "text": [
            "DATOS DEL MODELO REGRESIÓN LINEAL MULTIPLE\n",
            "\n",
            " Valor de las pendientes o coeficientes \"a\":\n",
            "[0.         0.33579223 0.        ]\n",
            "\n",
            " Valor de la intersección o coeficiente \"b\":\n",
            "4.57808153763505\n"
          ]
        },
        {
          "data": {
            "image/png": "[encoded data removed]",
            "text/plain": [
              "<Figure size 1600x900 with 2 Axes>"
            ]
          },
          "metadata": {},
          "output_type": "display_data"
        }
      ],
      "source": [
        "## Solución\n",
        "# Ejercicio 7.2.2\n",
        "print('DATOS DEL MODELO REGRESIÓN LINEAL MULTIPLE')\n",
        "print('\\n', 'Valor de las pendientes o coeficientes \"a\":')\n",
        "print(Elastic_reg_cv_72.coef_)\n",
        "print('\\n', 'Valor de la intersección o coeficiente \"b\":')\n",
        "print(Elastic_reg_cv_72.intercept_)\n",
        "#visualizamos coeficientes del modelo ELASTICNETCV\n",
        "\n",
        "df_coef_elastic_ir_72 = pd.DataFrame(X_iris.columns, columns=['variables'])\n",
        "df_coef_elastic_ir_72['coeficientes'] = Elastic_reg_cv_72.coef_\n",
        "df_coef_ir['coeficientes'] = lr_iris.coef_\n",
        "fig, axes = plt.subplots(2, 1, figsize=(16,9))\n",
        "\n",
        "axes[0].set_title(\"Coeficientes modelo inicial\")\n",
        "sns.barplot(x=df_coef_ir['variables'], y=df_coef_ir['coeficientes'],ax=axes[0])\n",
        "\n",
        "sns.barplot(x=df_coef_elastic_ir_72['variables'], y=df_coef_elastic_ir_72['coeficientes'], ax=axes[1])\n",
        "axes[1].set_title(\"Coeficientes modelo ElasticNetCV \")\n",
        "plt.show()\n",
        "\n",
        "\n",
        "plt.show()\n"
      ]
    },
    {
      "cell_type": "code",
      "execution_count": null,
      "id": "ad9232e5",
      "metadata": {
        "id": "ad9232e5",
        "outputId": "8b4caa7f-ab77-413d-d4f2-a99ba31b5e52"
      },
      "outputs": [
        {
          "name": "stdout",
          "output_type": "stream",
          "text": [
            "METRICAS MODELO ELASTICNETCV\n",
            "Mean Absolute Error: 0.3721617723541339\n",
            "Mean Absolute Percentage Error: 6.466868687732016\n",
            "Mean Squared Error: 0.22921108678821786\n",
            "Mean Root Squared Error: 0.4787599469339701\n",
            "R^2 coefficient of determination: 0.7342650844843668\n",
            "\n",
            "METRICAS MODELO ELASTICNET\n",
            "Mean Absolute Error: 0.34508228171040944\n",
            "Mean Absolute Percentage Error: 5.9839353016359125\n",
            "Mean Squared Error: 0.1801264682382367\n",
            "Mean Root Squared Error: 0.42441308678955303\n",
            "R^2 coefficient of determination: 0.7911711318587158\n",
            "\n",
            "METRICAS MODELO RIDGE\n",
            "Mean Absolute Error: 0.28388765658567483\n",
            "Mean Absolute Percentage Error: 4.9645443573366626\n",
            "Mean Squared Error: 0.1177109399155002\n",
            "Mean Root Squared Error: 0.34309027954096893\n",
            "R^2 coefficient of determination: 0.8635323137636329\n",
            "\n",
            "METRICAS MODELO LASSO\n",
            "Mean Absolute Error: 0.6849294562362616\n",
            "Mean Absolute Percentage Error: 12.09618277305041\n",
            "Mean Squared Error: 0.7026378774991608\n",
            "Mean Root Squared Error: 0.8382349774968597\n",
            "R^2 coefficient of determination: 0.18539971328768612\n"
          ]
        },
        {
          "data": {
            "text/plain": [
              "'Comparando las metricas de diferentes modelos podemos decir que nuestro modelo no podria tener preferencia ya que tiene un porcentage absoluto de error mayor que los modelos construidos con elasticnet y ridge,aunque si que tiene preferencia respecto a modelos construidos con Lasso'"
            ]
          },
          "execution_count": 118,
          "metadata": {},
          "output_type": "execute_result"
        }
      ],
      "source": [
        "## Solución\n",
        "# Ejercicio 7.2.3\n",
        "\n",
        "# Métricas para evaluar la calidad del modelo construido con ElasticNetCV\n",
        "print('METRICAS MODELO ELASTICNETCV')\n",
        "print('Mean Absolute Error:', mean_absolute_error(y_test_ir, y_pred_elastic_cv_72))\n",
        "print('Mean Absolute Percentage Error:', mean_absolute_percentage_error(y_test_ir, y_pred_elastic_cv_72)*100)\n",
        "print('Mean Squared Error:', mean_squared_error(y_test_ir, y_pred_elastic_cv_72))\n",
        "print('Mean Root Squared Error:', np.sqrt(mean_squared_error(y_test_ir, y_pred_elastic_cv_72)))\n",
        "print('R^2 coefficient of determination:', r2_score(y_test_ir, y_pred_elastic_cv_72))\n",
        "\n",
        "# Métricas para evaluar la calidad del modelo construido con ElasticNet\n",
        "print('\\nMETRICAS MODELO ELASTICNET')\n",
        "print('Mean Absolute Error:', mean_absolute_error(y_test_ir, y_pred_elastic_ir))\n",
        "print('Mean Absolute Percentage Error:', mean_absolute_percentage_error(y_test_ir, y_pred_elastic_ir)*100)\n",
        "print('Mean Squared Error:', mean_squared_error(y_test_ir, y_pred_elastic_ir))\n",
        "print('Mean Root Squared Error:', np.sqrt(mean_squared_error(y_test_ir, y_pred_elastic_ir)))\n",
        "print('R^2 coefficient of determination:', r2_score(y_test_ir, y_pred_elastic_ir))\n",
        "# Métricas para evaluar la calidad del modelo construido con Ridge\n",
        "print('\\nMETRICAS MODELO RIDGE')\n",
        "print('Mean Absolute Error:', mean_absolute_error(y_test_ir, y_pred_l2_ir))\n",
        "print('Mean Absolute Percentage Error:', mean_absolute_percentage_error(y_test_ir, y_pred_l2_ir)*100)\n",
        "print('Mean Squared Error:', mean_squared_error(y_test_ir, y_pred_l2_ir))\n",
        "print('Mean Root Squared Error:', np.sqrt(mean_squared_error(y_test_ir, y_pred_l2_ir)))\n",
        "print('R^2 coefficient of determination:', r2_score(y_test_ir, y_pred_l2_ir))\n",
        "# Métricas para evaluar la calidad del modelo construido con Lasso\n",
        "print('\\nMETRICAS MODELO LASSO')\n",
        "print('Mean Absolute Error:', mean_absolute_error(y_test_ir, y_pred_l1_ir))\n",
        "print('Mean Absolute Percentage Error:', mean_absolute_percentage_error(y_test_ir, y_pred_l1_ir)*100)\n",
        "print('Mean Squared Error:', mean_squared_error(y_test_ir, y_pred_l1_ir))\n",
        "print('Mean Root Squared Error:', np.sqrt(mean_squared_error(y_test_ir, y_pred_l1_ir)))\n",
        "print('R^2 coefficient of determination:', r2_score(y_test_ir, y_pred_l1_ir))\n",
        "\n",
        "'Comparando las metricas de diferentes modelos podemos decir que nuestro modelo no podria tener preferencia ya que tiene un porcentage absoluto de error mayor que los modelos construidos con elasticnet y ridge,aunque si que tiene preferencia respecto a modelos construidos con Lasso'\n",
        "\n",
        "\n"
      ]
    }
  ],
  "metadata": {
    "kernelspec": {
      "display_name": "Python 3.9.0 ('recomendadorVideos')",
      "language": "python",
      "name": "python3"
    },
    "language_info": {
      "codemirror_mode": {
        "name": "ipython",
        "version": 3
      },
      "file_extension": ".py",
      "mimetype": "text/x-python",
      "name": "python",
      "nbconvert_exporter": "python",
      "pygments_lexer": "ipython3",
      "version": "3.9.0"
    },
    "vscode": {
      "interpreter": {
        "hash": "fd755ef5c364b0937fa7f305ca71365387f816473e8af8795860aa053b94a5ad"
      }
    },
    "colab": {
      "provenance": []
    }
  },
  "nbformat": 4,
  "nbformat_minor": 5
}