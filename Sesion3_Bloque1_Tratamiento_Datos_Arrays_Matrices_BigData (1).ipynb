{
  "cells": [
    {
      "cell_type": "markdown",
      "id": "496631ea",
      "metadata": {
        "id": "496631ea"
      },
      "source": [
        "# Módulo 1: Análisis de datos en el ecosistema Python"
      ]
    },
    {
      "cell_type": "markdown",
      "id": "3a14cd3f",
      "metadata": {
        "id": "3a14cd3f"
      },
      "source": [
        "### Sesión (3)"
      ]
    },
    {
      "cell_type": "markdown",
      "id": "461d3392",
      "metadata": {
        "id": "461d3392"
      },
      "source": [
        "# Exploración y tratamiento de datos"
      ]
    },
    {
      "cell_type": "markdown",
      "id": "1ec781ba",
      "metadata": {
        "id": "1ec781ba"
      },
      "source": [
        "Breve resumen de herramientas principales de tratamiento de datos en Python:\n",
        "\n",
        "#### **Numpy:**\n",
        "* Paquete específico muy útil para trabajar con **arrays y matrices**\n",
        "* Podemos crear arrays desde cero (útil cuando queremos arrays **multidimensionales**)\n",
        "\n",
        "\n",
        "#### **Matplotlib:**\n",
        "* Paquete para pintar gráficos a partir de datos contenidos en listas o arrays.\n",
        "* Se usa la extensión matemática numpy\n",
        "\n",
        "#### **Pandas:**\n",
        "* Paquete que sirve para trabajar con datos\n",
        "* La librería Pandas dispone de tres estructuras principales:\n",
        "    * __DataFrames__\n",
        "    * __Series__\n",
        "    * __Index__\n"
      ]
    },
    {
      "cell_type": "markdown",
      "id": "4a000013",
      "metadata": {
        "id": "4a000013"
      },
      "source": [
        "# Arrays & Matrices"
      ]
    },
    {
      "cell_type": "markdown",
      "id": "3a4e701c",
      "metadata": {
        "id": "3a4e701c"
      },
      "source": [
        "Numpy (**Numerical Python**) se trata de la librería principal a la hora de realizar **operaciones científicas** en Python. Esta librería nos proporciona el tipo de dato **numpy array (ndarray)**, que se trata de un tipo de dato que nos permite realizar operaciones de una forma **eficiente** y las herramientas necesarias para trabajar con este tipo de dato."
      ]
    },
    {
      "cell_type": "markdown",
      "id": "714ea6ad",
      "metadata": {
        "id": "714ea6ad"
      },
      "source": [
        "* Python por sí solo no tiene muchas facilidades para trabajar con vectores o matrices.\n",
        "* Existe un paquete específico para hacer eso que se llama numpy.\n",
        "* Una práctica común es importar esta librería bajo el acrónimo de **np** que es aceptado universalmente.\n",
        "* **Numpy** tiene mucho en común con **Matlab** respecto a su sintaxis y la filosofía de tratamiento de datos.\n",
        "* Además de la comodidad de la sintaxis, numpy es mucho más **rápido** que trabajar con listas (porque por debajo mucho de su código se ejecuta en **C**)\n"
      ]
    },
    {
      "cell_type": "code",
      "execution_count": null,
      "id": "c012d9a3",
      "metadata": {
        "id": "c012d9a3"
      },
      "outputs": [],
      "source": [
        "import numpy as np"
      ]
    },
    {
      "cell_type": "markdown",
      "id": "2a0fda5e",
      "metadata": {
        "id": "2a0fda5e"
      },
      "source": [
        "* Cuando en numpy se trabaja con matrices (`np.matrix`),  las operaciones matriciales de suma, multiplicación, etc tienen sentido matemático.\n",
        "* Las **matrices** en numpy son de **dos dimensiones**, siempre dos.\n",
        "* Los **arrays** (`np.array`) en cambio pueden ser **multidimensionales**."
      ]
    },
    {
      "cell_type": "markdown",
      "id": "1b86368d",
      "metadata": {
        "id": "1b86368d"
      },
      "source": [
        "###  Creando arrays a partir de listas"
      ]
    },
    {
      "cell_type": "markdown",
      "id": "109eb9b4",
      "metadata": {
        "id": "109eb9b4"
      },
      "source": [
        "Podemos crear arrays multidimensionales **a partir de las listas** usando la función __`np.array()`__.\n"
      ]
    },
    {
      "cell_type": "code",
      "execution_count": null,
      "id": "abcff653",
      "metadata": {
        "colab": {
          "base_uri": "https://localhost:8080/"
        },
        "id": "abcff653",
        "outputId": "d8faadec-8c5d-42bc-946e-1e4ed4cbb694"
      },
      "outputs": [
        {
          "output_type": "stream",
          "name": "stdout",
          "text": [
            "[10 20 30 40]\n",
            "<class 'numpy.ndarray'>\n",
            "[10, 20, 30, 40]\n",
            "<class 'list'>\n"
          ]
        }
      ],
      "source": [
        "# Definir un vector (array) en numpy\n",
        "x = np.array([10,20,30,40])\n",
        "print(x)\n",
        "print(type(x))\n",
        "\n",
        "# Las listas son vectores nativos de python, a cambio los ndarray son vectores específicos declarados en numpy\n",
        "print([10,20,30,40])\n",
        "print(type([10,20,30,40]))\n"
      ]
    },
    {
      "cell_type": "markdown",
      "id": "661ed631",
      "metadata": {
        "id": "661ed631"
      },
      "source": [
        "Es importante recordar de que a diferencia de las listas, numpy está restringido a arrays que contengan **el mismo tipo de variables**. Si los tipos no son iguales, Numpy inferirá si es posible el tipo de dato."
      ]
    },
    {
      "cell_type": "code",
      "execution_count": null,
      "id": "1d18e750",
      "metadata": {
        "id": "1d18e750",
        "outputId": "1b993ec6-70dd-485a-c9ae-9697c7b885ec",
        "colab": {
          "base_uri": "https://localhost:8080/"
        }
      },
      "outputs": [
        {
          "output_type": "execute_result",
          "data": {
            "text/plain": [
              "array([ 10.  ,  20.  ,  88.88, 100.  ])"
            ]
          },
          "metadata": {},
          "execution_count": 3
        }
      ],
      "source": [
        "# Datos tipo float y entero\n",
        "np.array([10, 20, 88.88, 100])"
      ]
    },
    {
      "cell_type": "code",
      "execution_count": null,
      "id": "29dc7aa7",
      "metadata": {
        "id": "29dc7aa7",
        "outputId": "6545b04f-cc78-4da9-9244-0a6f628f64f7",
        "colab": {
          "base_uri": "https://localhost:8080/"
        }
      },
      "outputs": [
        {
          "output_type": "execute_result",
          "data": {
            "text/plain": [
              "array([ 0, 11, 22, 33,  1])"
            ]
          },
          "metadata": {},
          "execution_count": 4
        }
      ],
      "source": [
        "# Datos numéricos y booleanos\n",
        "np.array([False, 11, 22, 33, True])"
      ]
    },
    {
      "cell_type": "code",
      "execution_count": null,
      "id": "712f596c",
      "metadata": {
        "id": "712f596c",
        "outputId": "e6e8130c-7cee-404d-8e4c-54f8dd506438",
        "colab": {
          "base_uri": "https://localhost:8080/"
        }
      },
      "outputs": [
        {
          "output_type": "execute_result",
          "data": {
            "text/plain": [
              "array(['Librerías', '22', '99.99', 'Paquetes'], dtype='<U32')"
            ]
          },
          "metadata": {},
          "execution_count": 5
        }
      ],
      "source": [
        "# Datos numéricos y textuales\n",
        "np.array([\"Librerías\", 22, 99.99, \"Paquetes\"])"
      ]
    },
    {
      "cell_type": "markdown",
      "id": "a6d9579f",
      "metadata": {
        "id": "a6d9579f"
      },
      "source": [
        "También podemos indicar nosotros el tipo de dato deseado usando el parámetro `dtype`."
      ]
    },
    {
      "cell_type": "code",
      "execution_count": null,
      "id": "37af028f",
      "metadata": {
        "id": "37af028f",
        "outputId": "5cfbf310-7d42-4096-fa1c-22c96d4ec438",
        "colab": {
          "base_uri": "https://localhost:8080/"
        }
      },
      "outputs": [
        {
          "output_type": "execute_result",
          "data": {
            "text/plain": [
              "array([6, 2, 3, 1], dtype=int32)"
            ]
          },
          "metadata": {},
          "execution_count": 6
        }
      ],
      "source": [
        "# Definir un array desde una lista indicando datos tipo enteros\n",
        "np.array([6.66, 2, 3.14, True], dtype = 'int32')"
      ]
    },
    {
      "cell_type": "code",
      "execution_count": null,
      "id": "efcfb7f7",
      "metadata": {
        "id": "efcfb7f7",
        "outputId": "14493a6f-b78e-41f4-b1cd-f21c1fb95c25",
        "colab": {
          "base_uri": "https://localhost:8080/"
        }
      },
      "outputs": [
        {
          "output_type": "execute_result",
          "data": {
            "text/plain": [
              "array([[5., 2.],\n",
              "       [2., 2.],\n",
              "       [3., 4.]])"
            ]
          },
          "metadata": {},
          "execution_count": 7
        }
      ],
      "source": [
        "# Definir un array desde una lista indicando datos tipo float\n",
        "np.array([[5,2], [2,2], [3,4]], dtype = 'float')"
      ]
    },
    {
      "cell_type": "code",
      "execution_count": null,
      "id": "13e16f39",
      "metadata": {
        "id": "13e16f39",
        "outputId": "cb1e9b5a-6de6-4ef3-c8dd-39373bc864d1",
        "colab": {
          "base_uri": "https://localhost:8080/"
        }
      },
      "outputs": [
        {
          "output_type": "stream",
          "name": "stdout",
          "text": [
            "[[10 20 30 40]]\n"
          ]
        }
      ],
      "source": [
        "# Definir una matriz\n",
        "X = np.matrix([10,20,30,40])\n",
        "print(X)"
      ]
    },
    {
      "cell_type": "code",
      "execution_count": null,
      "id": "949d76db",
      "metadata": {
        "id": "949d76db",
        "outputId": "a8a848bb-0abf-419c-be15-dce145692095",
        "colab": {
          "base_uri": "https://localhost:8080/"
        }
      },
      "outputs": [
        {
          "output_type": "stream",
          "name": "stdout",
          "text": [
            "tipo de x= <class 'numpy.ndarray'>\n",
            "tipo de X= <class 'numpy.matrix'>\n"
          ]
        }
      ],
      "source": [
        "print(\"tipo de x=\",type(x))\n",
        "print(\"tipo de X=\",type(X))"
      ]
    },
    {
      "cell_type": "code",
      "execution_count": null,
      "id": "72677260",
      "metadata": {
        "id": "72677260",
        "outputId": "2f227c2d-4a2d-45c1-b31e-c8d67e47a10d",
        "colab": {
          "base_uri": "https://localhost:8080/"
        }
      },
      "outputs": [
        {
          "output_type": "stream",
          "name": "stdout",
          "text": [
            "[[10 20]\n",
            " [30 40]]\n",
            "[[ 100  400]\n",
            " [ 900 1600]]\n"
          ]
        }
      ],
      "source": [
        "# Operaciones como escalar\n",
        "x = np.array([[10, 20], [30, 40]])\n",
        "print(x)\n",
        "print(x*x) # multiplición elemento por elemento"
      ]
    },
    {
      "cell_type": "code",
      "execution_count": null,
      "id": "884930cd",
      "metadata": {
        "id": "884930cd",
        "outputId": "27c4ad47-2416-4c34-e529-4fdec3e59190",
        "colab": {
          "base_uri": "https://localhost:8080/"
        }
      },
      "outputs": [
        {
          "output_type": "stream",
          "name": "stdout",
          "text": [
            "[[10 20]\n",
            " [30 40]]\n",
            "[[ 700 1000]\n",
            " [1500 2200]]\n"
          ]
        }
      ],
      "source": [
        "# Operaciones como matriz\n",
        "X = np.matrix(x)\n",
        "print(X)\n",
        "print(X*X) # multiplicación matricial"
      ]
    },
    {
      "cell_type": "markdown",
      "id": "29ac19a6",
      "metadata": {
        "id": "29ac19a6"
      },
      "source": [
        "### Creando arrays desde cero"
      ]
    },
    {
      "cell_type": "markdown",
      "id": "b1cab6f9",
      "metadata": {
        "id": "b1cab6f9"
      },
      "source": [
        "A la hora de crear arrays de una mayor dimensión, es más eficiente crear arrays desde cero usando rutinas que ya están disponibles en Numpy. Las funciones **np.zeros()** y **np.ones()** nos permiten crae arrays de la dimensión y con el tipo de dato deseado, donde todos los elementos son **ceros** o **unos**."
      ]
    },
    {
      "cell_type": "code",
      "execution_count": null,
      "id": "983818d8",
      "metadata": {
        "id": "983818d8",
        "outputId": "0537727a-4404-4871-a457-1f541bd0d3d3",
        "colab": {
          "base_uri": "https://localhost:8080/"
        }
      },
      "outputs": [
        {
          "output_type": "execute_result",
          "data": {
            "text/plain": [
              "array([0, 0, 0, 0, 0, 0, 0, 0, 0, 0])"
            ]
          },
          "metadata": {},
          "execution_count": 12
        }
      ],
      "source": [
        "np.zeros(10, dtype = \"int\")"
      ]
    },
    {
      "cell_type": "code",
      "execution_count": null,
      "id": "ff3dbe46",
      "metadata": {
        "id": "ff3dbe46",
        "outputId": "9a0c017f-19d9-4a93-e449-af7f8e95d10f",
        "colab": {
          "base_uri": "https://localhost:8080/"
        }
      },
      "outputs": [
        {
          "output_type": "execute_result",
          "data": {
            "text/plain": [
              "array([0., 0., 0., 0., 0., 0., 0., 0., 0., 0.])"
            ]
          },
          "metadata": {},
          "execution_count": 13
        }
      ],
      "source": [
        "np.zeros(10, dtype = \"float\")"
      ]
    },
    {
      "cell_type": "markdown",
      "id": "f948ba4e",
      "metadata": {
        "id": "f948ba4e"
      },
      "source": [
        "La función **np.full()** nos permite crear un array donde todos sus elementos son iguales a un valor que se declara en la función"
      ]
    },
    {
      "cell_type": "code",
      "execution_count": null,
      "id": "8641b551",
      "metadata": {
        "id": "8641b551",
        "outputId": "37001dbe-c56e-47ab-d395-7a62871ef2ba",
        "colab": {
          "base_uri": "https://localhost:8080/"
        }
      },
      "outputs": [
        {
          "output_type": "execute_result",
          "data": {
            "text/plain": [
              "array([5, 5, 5, 5, 5, 5, 5, 5, 5, 5])"
            ]
          },
          "metadata": {},
          "execution_count": 14
        }
      ],
      "source": [
        "np.full(10, 5)"
      ]
    },
    {
      "cell_type": "markdown",
      "id": "09f8eb70",
      "metadata": {
        "id": "09f8eb70"
      },
      "source": [
        "Se puede indicar la dimensión deseada en el primer argumento:"
      ]
    },
    {
      "cell_type": "code",
      "execution_count": null,
      "id": "4aa2cd2e",
      "metadata": {
        "id": "4aa2cd2e",
        "outputId": "e11280a7-86b7-4f48-8680-815c13486ec0",
        "colab": {
          "base_uri": "https://localhost:8080/"
        }
      },
      "outputs": [
        {
          "output_type": "execute_result",
          "data": {
            "text/plain": [
              "array([[5, 5, 5],\n",
              "       [5, 5, 5],\n",
              "       [5, 5, 5]])"
            ]
          },
          "metadata": {},
          "execution_count": 15
        }
      ],
      "source": [
        "# Un array de 3x3 con todos sus elementos igual a 5\n",
        "np.full((3,3),5)"
      ]
    },
    {
      "cell_type": "markdown",
      "id": "98d5e555",
      "metadata": {
        "id": "98d5e555"
      },
      "source": [
        "La función **np.arange()** se trata de una función que nos permite crear un array que tome valores entre dos valores indicados, con un paso también indicado según nos convenga. En su forma más básica la llamada sería **np.arange(inicio, fin, paso)**. Debemos recordar que el valor *fin* no se incluye en nuestro array. En caso de no indicar el valor de *inicio* este tomará por defecto el valor 0 y el *paso* tomará por defecto el valor de 1"
      ]
    },
    {
      "cell_type": "code",
      "execution_count": null,
      "id": "b283909e",
      "metadata": {
        "id": "b283909e",
        "outputId": "abc13063-42ca-4a89-efed-46e7327195f5",
        "colab": {
          "base_uri": "https://localhost:8080/"
        }
      },
      "outputs": [
        {
          "output_type": "execute_result",
          "data": {
            "text/plain": [
              "array([ 0,  5, 10, 15, 20, 25, 30])"
            ]
          },
          "metadata": {},
          "execution_count": 16
        }
      ],
      "source": [
        "# Crear un array que empiece en 0 y termine en 30 con pasos de 5\n",
        "np.arange(0,31,5)"
      ]
    },
    {
      "cell_type": "markdown",
      "id": "38f0dcdf",
      "metadata": {
        "id": "38f0dcdf"
      },
      "source": [
        "La función **np.linspace()** nos permite crear un array entre dos números (***ambos inclusive***) con valores __equidistantes__. En su forma más básica la llamada sería **np.linspace(inicio, fin, num_elementos)**."
      ]
    },
    {
      "cell_type": "code",
      "execution_count": null,
      "id": "37383dc6",
      "metadata": {
        "id": "37383dc6",
        "outputId": "ce141cbb-01aa-4643-96e5-2e79c7ccb1d1",
        "colab": {
          "base_uri": "https://localhost:8080/"
        }
      },
      "outputs": [
        {
          "output_type": "execute_result",
          "data": {
            "text/plain": [
              "array([0. , 0.5, 1. ])"
            ]
          },
          "metadata": {},
          "execution_count": 17
        }
      ],
      "source": [
        "# Crear un array con 3 elementos equidistantes entre 0 y 1.\n",
        "np.linspace(0,1,3)"
      ]
    },
    {
      "cell_type": "markdown",
      "id": "03902c5d",
      "metadata": {
        "id": "03902c5d"
      },
      "source": [
        "La función **np.random.normal()** nos permite crear un array que sigue una distribución normal con una desviación y una media seleccionadas. Esta función recibe como primer parámetro la media, como segundo parámetro la desviación y como tercer parámetro y en forma de tupla la dimensión de nuestra distribución: `np.random.normal(mu, sigma, size)`"
      ]
    },
    {
      "cell_type": "markdown",
      "id": "20d428ea",
      "metadata": {
        "id": "20d428ea"
      },
      "source": [
        "![](../Sesion3-materiales/images.jpg)"
      ]
    },
    {
      "cell_type": "markdown",
      "id": "960c4072",
      "metadata": {
        "id": "960c4072"
      },
      "source": [
        "![](images.jpg)"
      ]
    },
    {
      "cell_type": "code",
      "execution_count": null,
      "id": "c80bdd97",
      "metadata": {
        "colab": {
          "base_uri": "https://localhost:8080/"
        },
        "id": "c80bdd97",
        "outputId": "34f9788c-af44-4cba-87dd-b9f914d8b5ab"
      },
      "outputs": [
        {
          "output_type": "stream",
          "name": "stdout",
          "text": [
            "El array = [10.13721313  9.84128223 10.00572207 10.01714062  9.79738396  9.91982191\n",
            "  9.86684896 10.06933747 10.21194262  9.98715139  9.94267697  9.90573927\n",
            "  9.87786737  9.85667906  9.92093581  9.84134712 10.05843262  9.96225675\n",
            "  9.8612267  10.01351824 10.08524358 10.25618704  9.99280665 10.11820431\n",
            " 10.08048325 10.07212188  9.9030782  10.1134348  10.03255146  9.96888683\n",
            " 10.06934102  9.97116735 10.04093617 10.0985989  10.0180668  10.00170068\n",
            " 10.16554561 10.0720077   9.96511122 10.14138555  9.99670328 10.09177748\n",
            " 10.21592775 10.08442892 10.02303661  9.97281605 10.08902803  9.94761405\n",
            " 10.07421234 10.08696371 10.00277023 10.12710852 10.13584476  9.89035479\n",
            "  9.91006292  9.95052252  9.86295494  9.9549128   9.9685748   9.76001651\n",
            " 10.22602494 10.08069569  9.88626789 10.23325504 10.04477955  9.93939074\n",
            "  9.95200307  9.98087275  9.91758663  9.96109     9.63984265  9.9808872\n",
            " 10.01803478  9.9813569   9.93806074 10.12529005 10.04129085 10.12164005\n",
            "  9.97659271 10.07911609 10.0474365  10.00338712  9.93909736 10.03841795\n",
            " 10.15977628  9.77151317 10.16100601  9.88901256  9.78603611 10.13046429\n",
            "  9.98556369  9.83219956  9.93909977  9.94278516 10.0468267   9.7977779\n",
            "  9.99256862 10.03395794  9.80786259 10.02629175]\n",
            "El valor mínimo =  9.639842651210543\n",
            "El valor máximo =  10.256187040074552\n"
          ]
        }
      ],
      "source": [
        "# Crear un array que cuyos valores sigan una distribución normal con la media 10, la desviacón 0.1 y de dimensión 1x100.\n",
        "x = np.random.normal(10,0.1,100)\n",
        "\n",
        "print(\"El array =\",x)\n",
        "print(\"El valor mínimo = \",min(x))\n",
        "print(\"El valor máximo = \",max(x))\n"
      ]
    },
    {
      "cell_type": "markdown",
      "id": "7df8621c",
      "metadata": {
        "id": "7df8621c"
      },
      "source": [
        "La función **np.random.randint()**, nos permite crear arrays de números aleatorios de tipo entero, entre dos números enteros. Su llamada más básica puede realizarse como: **np.random.randint(inicio, fin, size)** considerando *fin* no inclusive. En caso de que el array sea de una sola dimensión mediante el parámetro *size* indicamos el número de elementos de nuestro array."
      ]
    },
    {
      "cell_type": "code",
      "execution_count": null,
      "id": "1bb6a61d",
      "metadata": {
        "id": "1bb6a61d",
        "outputId": "0b6df30d-51f1-41c7-f5e6-7b0eb99b4de6",
        "colab": {
          "base_uri": "https://localhost:8080/"
        }
      },
      "outputs": [
        {
          "output_type": "execute_result",
          "data": {
            "text/plain": [
              "array([[0, 7, 3],\n",
              "       [4, 7, 9],\n",
              "       [9, 3, 4]])"
            ]
          },
          "metadata": {},
          "execution_count": 19
        }
      ],
      "source": [
        "# Crear un array de dimensión 3x3 cuyos valores sean números enteros entre 0 (inclusive) y 10 (no inclusive)\n",
        "np.random.randint(0, 10, (3,3))"
      ]
    },
    {
      "cell_type": "markdown",
      "id": "a6dbc600",
      "metadata": {
        "id": "a6dbc600"
      },
      "source": [
        "La función **np.eye()** nos permite crear la matriz de identidad. Esta función en su forma más básica recibe como parámetros la dimensión de nuestra matriz de identidad que tiene los elementos diagonales igual a uno y el resto igual a cero."
      ]
    },
    {
      "cell_type": "code",
      "execution_count": null,
      "id": "bcfd4505",
      "metadata": {
        "id": "bcfd4505",
        "outputId": "6e262534-0223-4ec1-f91e-fe6ebed802d3",
        "colab": {
          "base_uri": "https://localhost:8080/"
        }
      },
      "outputs": [
        {
          "output_type": "execute_result",
          "data": {
            "text/plain": [
              "array([[1., 0., 0., 0., 0.],\n",
              "       [0., 1., 0., 0., 0.],\n",
              "       [0., 0., 1., 0., 0.],\n",
              "       [0., 0., 0., 1., 0.],\n",
              "       [0., 0., 0., 0., 1.]])"
            ]
          },
          "metadata": {},
          "execution_count": 20
        }
      ],
      "source": [
        "# Generar una matriz identidad de dimensión 5x5\n",
        "np.eye(5,5)"
      ]
    },
    {
      "cell_type": "markdown",
      "id": "93e333e6",
      "metadata": {
        "id": "93e333e6"
      },
      "source": [
        "Podemos definir un array sin elementos si necesitamos un array vacío, además de usar valores **\"NaN\"** cuando no está definido el valor asociaso a un elemento mediante `np.nan`:"
      ]
    },
    {
      "cell_type": "code",
      "execution_count": null,
      "id": "7fa36596",
      "metadata": {
        "id": "7fa36596",
        "outputId": "c7cf98b9-132c-48eb-dcf5-e702382faa53",
        "colab": {
          "base_uri": "https://localhost:8080/"
        }
      },
      "outputs": [
        {
          "output_type": "execute_result",
          "data": {
            "text/plain": [
              "array([], dtype=float64)"
            ]
          },
          "metadata": {},
          "execution_count": 21
        }
      ],
      "source": [
        "# Un array sin ningún elemento (vacío)\n",
        "np.array([])"
      ]
    },
    {
      "cell_type": "code",
      "execution_count": null,
      "id": "aa9afd51",
      "metadata": {
        "id": "aa9afd51",
        "outputId": "d1c3f821-e27c-4347-ad41-4f80abc5e984",
        "colab": {
          "base_uri": "https://localhost:8080/"
        }
      },
      "outputs": [
        {
          "output_type": "execute_result",
          "data": {
            "text/plain": [
              "array([14., 15., nan, 16., 17., nan])"
            ]
          },
          "metadata": {},
          "execution_count": 22
        }
      ],
      "source": [
        "# Un array con valores perdidos (NaN)\n",
        "np.array([14, 15, np.nan, 16, 17, np.nan])"
      ]
    },
    {
      "cell_type": "markdown",
      "id": "4e1a1f46",
      "metadata": {
        "id": "4e1a1f46"
      },
      "source": [
        "## Funciones y métodos para arrays\n",
        "A la hora de realizar operaciones como la **suma**, **mínimo**, **máximo** etc. Python dispone de sus propias funciones nativas. Sin embargo debido a que numpy corre bajo código compilado es mucho más eficiente."
      ]
    },
    {
      "cell_type": "code",
      "execution_count": null,
      "id": "f78084e5",
      "metadata": {
        "id": "f78084e5",
        "outputId": "f2437a3c-6891-4398-bad1-040ff6a90a09",
        "colab": {
          "base_uri": "https://localhost:8080/"
        }
      },
      "outputs": [
        {
          "output_type": "stream",
          "name": "stdout",
          "text": [
            "[ 0  1  2  3  4  5  6  7  8  9 10]\n",
            "valor mínimo= 0\n",
            "valor máximo= 10\n",
            "promedio= 5.0\n",
            "desviación estándar 3.1622776601683795\n",
            "suma total= 55\n"
          ]
        }
      ],
      "source": [
        "x = np.arange(0,11)\n",
        "print(x)\n",
        "# operaciones usando numpy\n",
        "print(\"valor mínimo=\", x.min())\n",
        "print(\"valor máximo=\", x.max())\n",
        "print(\"promedio=\", x.mean())\n",
        "print(\"desviación estándar\",x.std())\n",
        "print(\"suma total=\",x.sum())"
      ]
    },
    {
      "cell_type": "markdown",
      "id": "cd717bed",
      "metadata": {
        "id": "cd717bed"
      },
      "source": [
        "Podemos seguir aplicando sobre los arrays de numpy algunas de las funciones nativas de python:"
      ]
    },
    {
      "cell_type": "code",
      "execution_count": null,
      "id": "52b538aa",
      "metadata": {
        "id": "52b538aa",
        "outputId": "903880d5-20c7-4cc2-e894-372f452c0391",
        "colab": {
          "base_uri": "https://localhost:8080/"
        }
      },
      "outputs": [
        {
          "output_type": "execute_result",
          "data": {
            "text/plain": [
              "55"
            ]
          },
          "metadata": {},
          "execution_count": 24
        }
      ],
      "source": [
        "sum(x)"
      ]
    },
    {
      "cell_type": "markdown",
      "id": "21754cb6",
      "metadata": {
        "id": "21754cb6"
      },
      "source": [
        "#### Eficiencia de Numpy respecto a funciones nativas de Python"
      ]
    },
    {
      "cell_type": "markdown",
      "id": "9bfb856c",
      "metadata": {
        "id": "9bfb856c"
      },
      "source": [
        "Aunque los resultados obtenidos sean iguales podemos observar que hay una gran diferencia respecto a la eficiencia y tiempos de ejecución."
      ]
    },
    {
      "cell_type": "code",
      "execution_count": null,
      "id": "e3a62fcb",
      "metadata": {
        "id": "e3a62fcb",
        "outputId": "74beaba8-1b61-4918-c939-c1f127fc5034",
        "colab": {
          "base_uri": "https://localhost:8080/"
        }
      },
      "outputs": [
        {
          "output_type": "stream",
          "name": "stdout",
          "text": [
            "[56 99 23 ... 89 73 19]\n",
            "Número de elementos = 10000000\n",
            "Suma_Python= 499841768\n",
            "Suma_Numpy= 499841768\n"
          ]
        }
      ],
      "source": [
        "# Creamos un array (grande con 10 millones de elementos)\n",
        "array_grande = np.random.randint(1, 100, size=10000000)\n",
        "\n",
        "print(array_grande)\n",
        "print(\"Número de elementos =\",array_grande.size)\n",
        "\n",
        "#Calcular la suma de dos firmas diferentes\n",
        "print(\"Suma_Python=\",sum(array_grande))\n",
        "print(\"Suma_Numpy=\", np.sum(array_grande))"
      ]
    },
    {
      "cell_type": "code",
      "execution_count": null,
      "id": "6b2d4182",
      "metadata": {
        "id": "6b2d4182",
        "outputId": "1c997125-a349-4a4c-b637-c01b83045fae",
        "colab": {
          "base_uri": "https://localhost:8080/"
        }
      },
      "outputs": [
        {
          "output_type": "stream",
          "name": "stdout",
          "text": [
            "973 ms ± 266 ms per loop (mean ± std. dev. of 7 runs, 1 loop each)\n",
            "8.23 ms ± 486 µs per loop (mean ± std. dev. of 7 runs, 100 loops each)\n"
          ]
        }
      ],
      "source": [
        "# Hacemos la medida de tiempos\n",
        "%timeit sum(array_grande)  # la suma en Python\n",
        "%timeit np.sum(array_grande) # la suma en Numpy"
      ]
    },
    {
      "cell_type": "markdown",
      "id": "8b5804bd",
      "metadata": {
        "id": "8b5804bd"
      },
      "source": [
        "En numpy existen varias operaciones que se aplican sobre los arrays utilizando las funciones y los métodos propios:"
      ]
    },
    {
      "cell_type": "code",
      "execution_count": null,
      "id": "239fe961",
      "metadata": {
        "id": "239fe961",
        "outputId": "0aed700d-70f4-40aa-b10c-737514e0d967",
        "colab": {
          "base_uri": "https://localhost:8080/"
        }
      },
      "outputs": [
        {
          "output_type": "stream",
          "name": "stdout",
          "text": [
            "mi array:  [ 55  66   0  77 -10  20]\n",
            "El índice del valor más alto : 3\n",
            "El índice del valor más bajo:  4\n",
            "Los índices de los elementos distintos a 0:  (array([0, 1, 3, 4, 5]),)\n"
          ]
        }
      ],
      "source": [
        "mi_array = np.array([55,66,0,77,-10,20])\n",
        "print(\"mi array: \",mi_array)\n",
        "print(\"El índice del valor más alto :\", mi_array.argmax())\n",
        "print(\"El índice del valor más bajo: \", mi_array.argmin())\n",
        "print(\"Los índices de los elementos distintos a 0: \", mi_array.nonzero())"
      ]
    },
    {
      "cell_type": "markdown",
      "id": "5f95d375",
      "metadata": {
        "id": "5f95d375"
      },
      "source": [
        "**Más funciones de numpy para los arrays**\n",
        "\n",
        "| Función | Descripción |\n",
        "|:---------|:-----|\n",
        "| *sum(arr)* | Suma de todos los elementos de *arr* |\n",
        "| *mean(arr)* | Media aritmética de los elementos de *arr* |\n",
        "| *std(arr)* | Desviación estándar de los elementos de *arr* |\n",
        "| *cumsum(arr)* | Devuelve array con la suma acumulada de cada elementos con todos los anteriores |\n",
        "| *cumprod(arr)* | Devuelve array con el producto acumulado de cada elementos con todos los anteriores |\n",
        "| *min(arr), max(arr)* | Mínimo y máximo de *arr* |\n",
        "| *any(arr)* | En array de tipo *bool*, retorna *True* si algún elemento es *True* |\n",
        "| *all(arr)* | En array de tipo *bool*, retorna *True* si todos los elementos son *True* (o >0 en valores numéricos) |\n",
        "| *unique(arr)* | Devuelve un array con valores únicos |\n",
        "| *in1d(arr1, arr2)* | Devuelve un array con bool indicando si cada elemento de *arr1* está en *arr2* (unidimensional)|\n",
        "| *isin(arr1, arr2)* | Devuelve un array con bool indicando si cada elemento de *arr1* está en *arr2* (multidimensional)|\n",
        "| *union1d(arr1, arr2)* | Devuelve la unión de ambos arrays |\n",
        "| *intersect1d(arr1, arr2)* | Devuelve la intersección de ambos arrays |\n",
        "| *setdiff1d(arr1,arr2)* | Elimina de arr1 los elementos comunes de los dos arrays|"
      ]
    },
    {
      "cell_type": "code",
      "execution_count": null,
      "id": "95cee16a",
      "metadata": {
        "id": "95cee16a",
        "outputId": "930dc33d-61df-4d9b-c6a3-208d8b642e1c",
        "colab": {
          "base_uri": "https://localhost:8080/"
        }
      },
      "outputs": [
        {
          "output_type": "stream",
          "name": "stdout",
          "text": [
            "[ 55  66   0  77 -10  20]\n"
          ]
        },
        {
          "output_type": "execute_result",
          "data": {
            "text/plain": [
              "array([ 55, 121, 121, 198, 188, 208])"
            ]
          },
          "metadata": {},
          "execution_count": 28
        }
      ],
      "source": [
        "# La suma acumulativa\n",
        "print(mi_array)\n",
        "mi_array.cumsum()"
      ]
    },
    {
      "cell_type": "code",
      "execution_count": null,
      "id": "0a0906b5",
      "metadata": {
        "id": "0a0906b5",
        "outputId": "da2e50ca-6fa6-46ac-e79c-fcf1a67260df",
        "colab": {
          "base_uri": "https://localhost:8080/"
        }
      },
      "outputs": [
        {
          "output_type": "stream",
          "name": "stdout",
          "text": [
            "[ 55  66   0  77 -10  20]\n"
          ]
        },
        {
          "output_type": "execute_result",
          "data": {
            "text/plain": [
              "array([20])"
            ]
          },
          "metadata": {},
          "execution_count": 29
        }
      ],
      "source": [
        "# Sacar los elementos en común (la intersección)\n",
        "print(mi_array)\n",
        "np.intersect1d(mi_array, np.array([10, 20, 30, 40]))"
      ]
    },
    {
      "cell_type": "markdown",
      "id": "b8e93deb",
      "metadata": {
        "id": "b8e93deb"
      },
      "source": [
        "Los arrays de numpy también tienen una serie de **atributos** que se pueden consultar fácilmente:\n",
        "\n",
        "* `ndim`: nos permite saber la dimensión de nuestra array\n",
        "\n",
        "* `shape`: nos permite conocer el tamaño de nuestra array\n",
        "\n",
        "* `size`: nos permite conocer el número de elementos de nuestra array (la longitud)\n",
        "\n",
        "* `dtype`: nos permite conocer el tipo de dato de cada uno de los elementos de nuestra array\n",
        "\n",
        "* `itemsize`: nos permite conocor el tamaño de cada uno de los elementos de nuestra array (en bytes)\n",
        "\n",
        "* `nbytes`: nos permite conocer el tamaño total de nuestra array"
      ]
    },
    {
      "cell_type": "code",
      "execution_count": null,
      "id": "bebc1184",
      "metadata": {
        "id": "bebc1184",
        "outputId": "99012efa-c88b-43d3-ab7a-0a966f84f92c",
        "colab": {
          "base_uri": "https://localhost:8080/"
        }
      },
      "outputs": [
        {
          "output_type": "stream",
          "name": "stdout",
          "text": [
            "[10 11 12 13 14 15 16 17 18 19 20]\n",
            "[[4 3 0 7]\n",
            " [3 0 7 6]\n",
            " [4 1 0 6]\n",
            " [3 7 9 2]]\n",
            "Número de elementos del array x =  11\n",
            "Número de elementos del array y =  16\n",
            "Tamaño del array x =  (11,)\n",
            "Tamaño del array y =  (4, 4)\n",
            "Dimensiones del array x =  1\n",
            "Dimensiones del array y =  2\n",
            "Tipo de datos de x =  int64\n",
            "Tipo de datos de y =  int64\n",
            "Número de bytes totales consumidos por los elementos del array =  88\n",
            "Número de bytes totales consumidos por los elementos del array =  128\n"
          ]
        }
      ],
      "source": [
        "# consultando atributos en numpy\n",
        "x = np.arange(10,21)\n",
        "y =np.random.randint(0,10,(4,4))\n",
        "print(x)\n",
        "print(y)\n",
        "print(\"Número de elementos del array x = \", x.size)\n",
        "print(\"Número de elementos del array y = \", y.size)\n",
        "print(\"Tamaño del array x = \", x.shape)\n",
        "print(\"Tamaño del array y = \", y.shape)\n",
        "print(\"Dimensiones del array x = \",x.ndim)\n",
        "print(\"Dimensiones del array y = \",y.ndim)\n",
        "print(\"Tipo de datos de x = \", x.dtype)\n",
        "print(\"Tipo de datos de y = \", y.dtype)\n",
        "print(\"Número de bytes totales consumidos por los elementos del array = \", x.nbytes)\n",
        "print(\"Número de bytes totales consumidos por los elementos del array = \", y.nbytes)\n"
      ]
    },
    {
      "cell_type": "markdown",
      "id": "cc6daf0b",
      "metadata": {
        "id": "cc6daf0b"
      },
      "source": [
        "### **`Ejercicio 3.1`**\n",
        "\n",
        "**`3.1.1`** Crea un array de tamaño (6x6) con elementos aleatorios entre 0 y 10 inclusive.  \n",
        "**`3.1.2`** Calcula el total de bytes que ocupa la matriz.  \n",
        "**`3.1.3`** Calcula la media y la desviación estándar de los valores presentes en la matriz.  \n",
        "**`3.1.4`** Crea un nuevo array del mismo tamaño que contenga elementos aleatorios con una distribución normal con la misma media y la misma desviación estándar que el array original.  \n",
        "**`3.1.5`** Crea un nuevo vector, convirtiendo todos los valores del array creado en el paso anterior en números enteros.\n",
        "\n"
      ]
    },
    {
      "cell_type": "code",
      "execution_count": null,
      "id": "46d8586d",
      "metadata": {
        "id": "46d8586d",
        "outputId": "6110b688-9bfc-4fb5-b7cb-6053c4b88b47"
      },
      "outputs": [
        {
          "name": "stdout",
          "output_type": "stream",
          "text": [
            "Ejercicio 3.1.1:\n",
            " [[ 4  4  2  1  0  7]\n",
            " [10  8  5  1  4  8]\n",
            " [ 9  2  2  9  1  7]\n",
            " [ 2  2  6  0  8  9]\n",
            " [ 4 10  9  6  3  7]\n",
            " [ 5  9  4  1  1  0]]\n"
          ]
        }
      ],
      "source": [
        "## Solución\n",
        "# Ejercicio 3.1.1\n",
        "import numpy as np\n",
        "datos=np.random.randint(0, 11, (6,6))\n",
        "print(\"Ejercicio 3.1.1:\\n\",datos)"
      ]
    },
    {
      "cell_type": "code",
      "execution_count": null,
      "id": "917fef14",
      "metadata": {
        "id": "917fef14",
        "outputId": "c64621c1-6cb3-428c-a5bf-84dc98b27656"
      },
      "outputs": [
        {
          "name": "stdout",
          "output_type": "stream",
          "text": [
            "Ejercicio 3.1.1:\n",
            " 144\n"
          ]
        }
      ],
      "source": [
        "## Solución\n",
        "# Ejercicio 3.1.2\n",
        "print(\"Ejercicio 3.1.2:\\n\",datos.nbytes)"
      ]
    },
    {
      "cell_type": "code",
      "execution_count": null,
      "id": "a9b8a6c2",
      "metadata": {
        "id": "a9b8a6c2",
        "outputId": "cde89f9b-eb44-40a4-bfa1-edc6d16f5a6c"
      },
      "outputs": [
        {
          "name": "stdout",
          "output_type": "stream",
          "text": [
            "Ejercicio 3.1.1:\n",
            " Media: 4.722222222222222 \n",
            " Desviacion: 3.2370349182127147 \n",
            " Dimension del array: 6\n"
          ]
        }
      ],
      "source": [
        "## Solución\n",
        "# Ejercicio 3.1.3\n",
        "medidaArrayDatos=np.mean(datos)\n",
        "desviacionArrayDatos=np.std(datos)\n",
        "tamañoArrayDatos=len(datos)\n",
        "\n",
        "print(\"Ejercicio 3.1.3:\\n\",\n",
        "      \"Media:\",\n",
        "      medidaArrayDatos,\n",
        "      \"\\n Desviacion:\",\n",
        "      desviacionArrayDatos,\n",
        "      \"\\n Dimension del array:\",\n",
        "      tamañoArrayDatos)"
      ]
    },
    {
      "cell_type": "code",
      "execution_count": null,
      "id": "b536fcef",
      "metadata": {
        "id": "b536fcef",
        "outputId": "95ac61e1-cfe7-4581-d40a-9fb32e57d6c0"
      },
      "outputs": [
        {
          "name": "stdout",
          "output_type": "stream",
          "text": [
            "Ejercicio 3.1.4:\n",
            " [[ 9.8158017   8.30685152  5.16239013  2.60797519  7.47375073  3.74072848]\n",
            " [ 2.60605273  8.76093535  2.20257157 -4.58735008  5.82995596  6.97015274]\n",
            " [ 8.7329073   2.08665639  7.3211852  -1.65013376 -2.32225006  2.96263985]\n",
            " [ 0.84558471  0.2065697   5.98431556  3.49381942  6.49955332  5.32966405]\n",
            " [ 2.22399167  1.38728648  8.93279381  5.91887413 -1.38590005  3.5839601 ]\n",
            " [ 8.24655955  4.80090404  5.09335304  8.86414898  1.55987921  2.60056253]]\n"
          ]
        }
      ],
      "source": [
        "## Solución\n",
        "# Ejercicio 3.1.4\n",
        "datos2=np.random.normal(loc=medidaArrayDatos, scale=desviacionArrayDatos,size=(tamañoArrayDatos,tamañoArrayDatos))\n",
        "print(\"Ejercicio 3.1.4:\\n\",datos2)"
      ]
    },
    {
      "cell_type": "code",
      "execution_count": null,
      "id": "d038c06b",
      "metadata": {
        "id": "d038c06b",
        "outputId": "9a832aff-f1c8-4730-b678-3d3632b5caa6"
      },
      "outputs": [
        {
          "name": "stdout",
          "output_type": "stream",
          "text": [
            "Ejercicio 3.1.5:\n",
            " [[ 9  8  5  2  7  3]\n",
            " [ 2  8  2 -4  5  6]\n",
            " [ 8  2  7 -1 -2  2]\n",
            " [ 0  0  5  3  6  5]\n",
            " [ 2  1  8  5 -1  3]\n",
            " [ 8  4  5  8  1  2]]\n"
          ]
        }
      ],
      "source": [
        "## Solución\n",
        "# Ejercicio 3.1.5\n",
        "convertAsVector=datos2.astype(int)\n",
        "print(\"Ejercicio 3.1.5:\\n\",convertAsVector)"
      ]
    },
    {
      "cell_type": "markdown",
      "id": "c95b13e3",
      "metadata": {
        "id": "c95b13e3"
      },
      "source": [
        "## Indexado de Arrayas"
      ]
    },
    {
      "cell_type": "markdown",
      "id": "5515e17e",
      "metadata": {
        "id": "5515e17e"
      },
      "source": [
        "Al igual que en las listas, podemos acceder al elemento **i** de un array 1-dimensional, haciendo uso de los corchetes y el índice en el que se encuentra el valor al cual deseamos acceder."
      ]
    },
    {
      "cell_type": "code",
      "execution_count": null,
      "id": "6ba7a8f7",
      "metadata": {
        "id": "6ba7a8f7",
        "outputId": "9fb2deec-b39c-4fe5-b544-944878079f20",
        "colab": {
          "base_uri": "https://localhost:8080/"
        }
      },
      "outputs": [
        {
          "output_type": "stream",
          "name": "stdout",
          "text": [
            "[5 6 3 7 3 8 4 9 4 0]\n",
            "[[6 5 3]\n",
            " [2 6 1]\n",
            " [3 7 9]]\n"
          ]
        }
      ],
      "source": [
        "# Genero 2 arrays aleatorios de números enteros: npx1 será de una dimensión, npx2 tendrá dos dimensiones (3x3)\n",
        "npx1=np.random.randint(0,10,10)\n",
        "npx2=np.random.randint(0,10,(3,3))\n",
        "\n",
        "print(npx1)\n",
        "print(npx2)"
      ]
    },
    {
      "cell_type": "code",
      "execution_count": null,
      "id": "7eaeb4c0",
      "metadata": {
        "id": "7eaeb4c0",
        "outputId": "84519e02-4fdc-455f-e803-1e753306d841",
        "colab": {
          "base_uri": "https://localhost:8080/"
        }
      },
      "outputs": [
        {
          "output_type": "execute_result",
          "data": {
            "text/plain": [
              "5"
            ]
          },
          "metadata": {},
          "execution_count": 32
        }
      ],
      "source": [
        "# Accedemos al primer elemento de npx1\n",
        "npx1[0]"
      ]
    },
    {
      "cell_type": "markdown",
      "id": "5dbee3e9",
      "metadata": {
        "id": "5dbee3e9"
      },
      "source": [
        "En caso de arrays multidimensionales, le pasamos entre corchetes la fila y la columna a la cual deseamos acceder."
      ]
    },
    {
      "cell_type": "code",
      "execution_count": null,
      "id": "b84a37a1",
      "metadata": {
        "id": "b84a37a1",
        "outputId": "88950795-f406-4a27-c850-5b9dd9c300c8",
        "colab": {
          "base_uri": "https://localhost:8080/"
        }
      },
      "outputs": [
        {
          "output_type": "stream",
          "name": "stdout",
          "text": [
            "1\n"
          ]
        }
      ],
      "source": [
        "# Accedemos al elemento de la segunda fila y la tercera columna de npx2\n",
        "print(npx2[1,2])"
      ]
    },
    {
      "cell_type": "code",
      "execution_count": null,
      "id": "9a7c7dda",
      "metadata": {
        "id": "9a7c7dda",
        "outputId": "3502ebc3-00b7-4fea-c63e-f924dd30e97f",
        "colab": {
          "base_uri": "https://localhost:8080/"
        }
      },
      "outputs": [
        {
          "output_type": "execute_result",
          "data": {
            "text/plain": [
              "9"
            ]
          },
          "metadata": {},
          "execution_count": 34
        }
      ],
      "source": [
        "# Accedemos al elemento que se encuentra en la última fila y en la última columna, usando el indexado negativo.\n",
        "npx2[-1,-1]"
      ]
    },
    {
      "cell_type": "markdown",
      "id": "c3c50917",
      "metadata": {
        "id": "c3c50917"
      },
      "source": [
        "A la hora de **modificar valores** en un array basta con seleccionar el elemento que deseamos cambiar y asignarle el nuevo valor deseado."
      ]
    },
    {
      "cell_type": "code",
      "execution_count": null,
      "id": "ef9d8eff",
      "metadata": {
        "id": "ef9d8eff",
        "outputId": "9d04b886-105d-4ecb-96b3-3022a44714c4",
        "colab": {
          "base_uri": "https://localhost:8080/"
        }
      },
      "outputs": [
        {
          "output_type": "stream",
          "name": "stdout",
          "text": [
            "[[6 5 3]\n",
            " [2 6 1]\n",
            " [3 7 9]]\n",
            "[[100   5   3]\n",
            " [  2   6   1]\n",
            " [  3   7   9]]\n"
          ]
        }
      ],
      "source": [
        "# Seleccionamos el elemento de la primera fila y la primera columna de npx2 y le asignamos un nuevo valor.\n",
        "print(npx2)\n",
        "npx2[0,0]=100\n",
        "print(npx2)"
      ]
    },
    {
      "cell_type": "markdown",
      "id": "d21e8085",
      "metadata": {
        "id": "d21e8085"
      },
      "source": [
        "* También Numpy permite el indexado mediante rebanadas (**slices**), para ello podemos hacer uso de la notación de los dos puntos (**inicio:fin:paso**).\n",
        "* El valor de *fin* no está incluido entre los elementos seleccionados."
      ]
    },
    {
      "cell_type": "code",
      "execution_count": null,
      "id": "c5b28c34",
      "metadata": {
        "id": "c5b28c34",
        "outputId": "6ebe15ac-f7c5-4449-99bb-784fdf9aff99",
        "colab": {
          "base_uri": "https://localhost:8080/"
        }
      },
      "outputs": [
        {
          "output_type": "execute_result",
          "data": {
            "text/plain": [
              "array([1, 2, 3, 4, 5, 6, 7, 8, 9])"
            ]
          },
          "metadata": {},
          "execution_count": 36
        }
      ],
      "source": [
        "# Generamos un array con valores del 1 al 10 (no inclusive)\n",
        "aux=np.arange(1,10)\n",
        "aux"
      ]
    },
    {
      "cell_type": "code",
      "execution_count": null,
      "id": "9b34dedb",
      "metadata": {
        "id": "9b34dedb",
        "outputId": "14e24c80-e126-45e7-ae16-44801abebb83",
        "colab": {
          "base_uri": "https://localhost:8080/"
        }
      },
      "outputs": [
        {
          "output_type": "execute_result",
          "data": {
            "text/plain": [
              "array([3, 4, 5])"
            ]
          },
          "metadata": {},
          "execution_count": 37
        }
      ],
      "source": [
        "# Accedemos a los elementos que se encuentran entre la posición 2 y 5:\n",
        "aux[2:5]"
      ]
    },
    {
      "cell_type": "code",
      "execution_count": null,
      "id": "d03ebce2",
      "metadata": {
        "id": "d03ebce2",
        "outputId": "77965c87-d1b6-4cc6-9d25-da4a7dbdefc4",
        "colab": {
          "base_uri": "https://localhost:8080/"
        }
      },
      "outputs": [
        {
          "output_type": "execute_result",
          "data": {
            "text/plain": [
              "array([7, 8, 9])"
            ]
          },
          "metadata": {},
          "execution_count": 38
        }
      ],
      "source": [
        "# Seleccionamos los elementos desde la posición 6 hasta el final\n",
        "aux[6:]"
      ]
    },
    {
      "cell_type": "code",
      "execution_count": null,
      "id": "7c982811",
      "metadata": {
        "id": "7c982811",
        "outputId": "1e23f7c8-d0b7-44d0-ccdf-d8eedca31d0c",
        "colab": {
          "base_uri": "https://localhost:8080/"
        }
      },
      "outputs": [
        {
          "output_type": "execute_result",
          "data": {
            "text/plain": [
              "array([1, 5, 9])"
            ]
          },
          "metadata": {},
          "execution_count": 39
        }
      ],
      "source": [
        "# Seleccionamos cada cuatro elementos\n",
        "aux[::4]"
      ]
    },
    {
      "cell_type": "markdown",
      "id": "e91d826c",
      "metadata": {
        "id": "e91d826c"
      },
      "source": [
        "Lo visto anteriormente también es válido para arrays multidimensionales."
      ]
    },
    {
      "cell_type": "code",
      "execution_count": null,
      "id": "1e9ffa02",
      "metadata": {
        "id": "1e9ffa02",
        "outputId": "8dc7fbb9-6f0f-448b-b52a-78b54a302553"
      },
      "outputs": [
        {
          "name": "stdout",
          "output_type": "stream",
          "text": [
            "[[100   4   1]\n",
            " [  8   7   2]\n",
            " [  6   3   6]]\n",
            "[[100   4]\n",
            " [  8   7]]\n"
          ]
        }
      ],
      "source": [
        "# Seleccionamos las dos primeras filas y las dos primeras columnas de npx2\n",
        "print(npx2)\n",
        "print(npx2[:2,:2])"
      ]
    },
    {
      "cell_type": "markdown",
      "id": "16bf4ebd",
      "metadata": {
        "id": "16bf4ebd"
      },
      "source": [
        "##  Redimensionando arrays (reshape)\n",
        "Podemos cambiar la dimensión de nuestro array mediante **reshape()**. Para que este comando funcione de forma adecuada la nueva dimensión debe coincidir con el número de elementos de nuestra array original. Si el argumento de reshape toma el valor de -1 se traduce en un array de longitud igual al número de elementos del array."
      ]
    },
    {
      "cell_type": "code",
      "execution_count": null,
      "id": "27ecc975",
      "metadata": {
        "id": "27ecc975",
        "outputId": "d655d791-c115-4ccb-a18f-c94050e3e59e",
        "colab": {
          "base_uri": "https://localhost:8080/"
        }
      },
      "outputs": [
        {
          "output_type": "stream",
          "name": "stdout",
          "text": [
            "[1 2 3 4 5 6 7 8 9]\n",
            "(9,)\n",
            "1\n"
          ]
        }
      ],
      "source": [
        "# Nos creamos un array unidimensional con los numeros del 1 al 10 (este último sin incluir)\n",
        "vector1=np.arange(1,10)\n",
        "print(vector1)\n",
        "print(vector1.shape)\n",
        "print(vector1.ndim)"
      ]
    },
    {
      "cell_type": "code",
      "execution_count": null,
      "id": "a5394f7d",
      "metadata": {
        "id": "a5394f7d",
        "outputId": "a97d3c0f-5651-4311-cac4-02c029d02fbf",
        "colab": {
          "base_uri": "https://localhost:8080/"
        }
      },
      "outputs": [
        {
          "output_type": "stream",
          "name": "stdout",
          "text": [
            "[[1 2 3 4 5 6 7 8 9]]\n",
            "(1, 9)\n",
            "<class 'numpy.ndarray'>\n",
            "2\n"
          ]
        }
      ],
      "source": [
        "# Convertimos esta array en un array bidimensional (1x9), ahora tendrá dos dimensiones\n",
        "vector2 = vector1.reshape(1,9)\n",
        "print(vector2)\n",
        "print(vector2.shape)\n",
        "print(type(vector2))\n",
        "print(vector2.ndim)"
      ]
    },
    {
      "cell_type": "code",
      "execution_count": null,
      "id": "72d705d3",
      "metadata": {
        "id": "72d705d3",
        "outputId": "47e7ef84-e52f-4b82-dd18-fd74a41a5b7e",
        "colab": {
          "base_uri": "https://localhost:8080/"
        }
      },
      "outputs": [
        {
          "output_type": "stream",
          "name": "stdout",
          "text": [
            "2\n",
            "2\n"
          ]
        }
      ],
      "source": [
        "# Acceder al segundo elemento de cada array\n",
        "print(vector1[1])\n",
        "print(vector2[0,1])"
      ]
    },
    {
      "cell_type": "code",
      "execution_count": null,
      "id": "3f06843b",
      "metadata": {
        "id": "3f06843b",
        "outputId": "96565474-9e1e-4897-eaa5-aea594c5c234",
        "colab": {
          "base_uri": "https://localhost:8080/"
        }
      },
      "outputs": [
        {
          "output_type": "stream",
          "name": "stdout",
          "text": [
            "vector1 =  [1 2 3 4 5 6 7 8 9]\n",
            "vector3 = [[1 2 3]\n",
            " [4 5 6]\n",
            " [7 8 9]]\n",
            "Dimensiones del vector1 =  1\n",
            "Dimensiones del vector3 =  2\n",
            "Número de elementos del vector1 =  9\n",
            "Número de elementos del vector3 =  9\n",
            "Tamaño del vector1 =  (9,)\n",
            "Tamaño del vector3 =  (3, 3)\n"
          ]
        }
      ],
      "source": [
        "# Convertimos este array en un array 3x3\n",
        "vector3 = vector1.reshape((3,3))\n",
        "\n",
        "print(\"vector1 = \",vector1)\n",
        "print(\"vector3 =\", vector3)\n",
        "print(\"Dimensiones del vector1 = \",vector1.ndim)\n",
        "print(\"Dimensiones del vector3 = \",vector3.ndim)\n",
        "print(\"Número de elementos del vector1 = \", vector1.size)\n",
        "print(\"Número de elementos del vector3 = \", vector3.size)\n",
        "print(\"Tamaño del vector1 = \", vector1.shape)\n",
        "print(\"Tamaño del vector3 = \", vector3.shape)\n",
        "\n"
      ]
    },
    {
      "cell_type": "markdown",
      "id": "0d2866f8",
      "metadata": {
        "id": "0d2866f8"
      },
      "source": [
        "## Concatenando arrays"
      ]
    },
    {
      "cell_type": "markdown",
      "id": "b2cbd4b2",
      "metadata": {
        "id": "b2cbd4b2"
      },
      "source": [
        "La concatenación o la unión de múltiples arrays en Numpy, se lleva a cabo principalmente haciendo uso de: **np.concatenate**"
      ]
    },
    {
      "cell_type": "markdown",
      "id": "e532ed25",
      "metadata": {
        "id": "e532ed25"
      },
      "source": [
        "* La función **np.concatenate** toma una tupla o lista de arrays y las concatena."
      ]
    },
    {
      "cell_type": "code",
      "execution_count": null,
      "id": "5ddf9800",
      "metadata": {
        "id": "5ddf9800",
        "outputId": "268b380e-5afd-4e7c-d78d-0270e26aec2c",
        "colab": {
          "base_uri": "https://localhost:8080/"
        }
      },
      "outputs": [
        {
          "output_type": "execute_result",
          "data": {
            "text/plain": [
              "array([1, 2, 3, 4, 5, 5, 4, 3, 2, 1])"
            ]
          },
          "metadata": {},
          "execution_count": 44
        }
      ],
      "source": [
        "array1 = np.array([1,2,3,4,5])\n",
        "array2 = np.array([5,4,3,2,1])\n",
        "\n",
        "# Concatenar los arrays 1 y 2 (usando una tupla)\n",
        "np.concatenate((array1,array2))"
      ]
    },
    {
      "cell_type": "code",
      "execution_count": null,
      "id": "bac51dec",
      "metadata": {
        "colab": {
          "base_uri": "https://localhost:8080/"
        },
        "id": "bac51dec",
        "outputId": "c5257319-8cca-4d2d-cac6-477902f88440"
      },
      "outputs": [
        {
          "output_type": "execute_result",
          "data": {
            "text/plain": [
              "array([[1, 2, 3],\n",
              "       [4, 5, 6]])"
            ]
          },
          "metadata": {},
          "execution_count": 45
        }
      ],
      "source": [
        "# Generamos un numpy array de dimensión 2x3\n",
        "nuevo_array = np.array([1,2,3,4,5,6]).reshape(2,3)\n",
        "nuevo_array"
      ]
    },
    {
      "cell_type": "code",
      "execution_count": null,
      "id": "c06c80b3",
      "metadata": {
        "colab": {
          "base_uri": "https://localhost:8080/"
        },
        "id": "c06c80b3",
        "outputId": "1812e5f1-db1f-4b2a-dfe3-6271f789414e"
      },
      "outputs": [
        {
          "output_type": "execute_result",
          "data": {
            "text/plain": [
              "array([[1, 2, 3],\n",
              "       [4, 5, 6],\n",
              "       [1, 2, 3],\n",
              "       [4, 5, 6]])"
            ]
          },
          "metadata": {},
          "execution_count": 46
        }
      ],
      "source": [
        "# Concatenar dicho array consigo mismo\n",
        "np.concatenate((nuevo_array,nuevo_array))"
      ]
    },
    {
      "cell_type": "markdown",
      "id": "3b9bd589",
      "metadata": {
        "id": "3b9bd589"
      },
      "source": [
        "También podemos concatenar a lo largo del **eje horizontal**, para ello basta con hacer uso del parámetro **axis = 1** de la función **np.concatenate()**"
      ]
    },
    {
      "cell_type": "code",
      "execution_count": null,
      "id": "2c842ce5",
      "metadata": {
        "colab": {
          "base_uri": "https://localhost:8080/"
        },
        "id": "2c842ce5",
        "outputId": "3c036398-0998-4cc9-b211-d3539d2789fe"
      },
      "outputs": [
        {
          "output_type": "execute_result",
          "data": {
            "text/plain": [
              "array([[1, 2, 3, 1, 2, 3],\n",
              "       [4, 5, 6, 4, 5, 6]])"
            ]
          },
          "metadata": {},
          "execution_count": 47
        }
      ],
      "source": [
        "# Concatenar el nuevo array consigo mismo haciendo uso de axis = 1.\n",
        "np.concatenate((nuevo_array,nuevo_array), axis=1)"
      ]
    },
    {
      "cell_type": "markdown",
      "id": "94ff9488",
      "metadata": {
        "id": "94ff9488"
      },
      "source": [
        "No se puede concatenar con este comando los arrays de diferentes tamaños:"
      ]
    },
    {
      "cell_type": "code",
      "execution_count": null,
      "id": "8947b0d0",
      "metadata": {
        "colab": {
          "base_uri": "https://localhost:8080/",
          "height": 315
        },
        "id": "8947b0d0",
        "outputId": "609667ef-1939-4996-862c-a61b463fefb1"
      },
      "outputs": [
        {
          "output_type": "stream",
          "name": "stdout",
          "text": [
            "[1 2 3]\n",
            "[[9 8 7]\n",
            " [6 5 4]]\n"
          ]
        },
        {
          "output_type": "error",
          "ename": "ValueError",
          "evalue": "ignored",
          "traceback": [
            "\u001b[0;31m---------------------------------------------------------------------------\u001b[0m",
            "\u001b[0;31mValueError\u001b[0m                                Traceback (most recent call last)",
            "\u001b[0;32m<ipython-input-48-5dc1aaaee000>\u001b[0m in \u001b[0;36m<cell line: 7>\u001b[0;34m()\u001b[0m\n\u001b[1;32m      5\u001b[0m \u001b[0mprint\u001b[0m\u001b[0;34m(\u001b[0m\u001b[0my\u001b[0m\u001b[0;34m)\u001b[0m\u001b[0;34m\u001b[0m\u001b[0;34m\u001b[0m\u001b[0m\n\u001b[1;32m      6\u001b[0m \u001b[0;34m\u001b[0m\u001b[0m\n\u001b[0;32m----> 7\u001b[0;31m \u001b[0mnp\u001b[0m\u001b[0;34m.\u001b[0m\u001b[0mconcatenate\u001b[0m\u001b[0;34m(\u001b[0m\u001b[0;34m(\u001b[0m\u001b[0mx\u001b[0m\u001b[0;34m,\u001b[0m\u001b[0my\u001b[0m\u001b[0;34m)\u001b[0m\u001b[0;34m)\u001b[0m\u001b[0;34m\u001b[0m\u001b[0;34m\u001b[0m\u001b[0m\n\u001b[0m",
            "\u001b[0;32m/usr/local/lib/python3.10/dist-packages/numpy/core/overrides.py\u001b[0m in \u001b[0;36mconcatenate\u001b[0;34m(*args, **kwargs)\u001b[0m\n",
            "\u001b[0;31mValueError\u001b[0m: all the input arrays must have same number of dimensions, but the array at index 0 has 1 dimension(s) and the array at index 1 has 2 dimension(s)"
          ]
        }
      ],
      "source": [
        "# Creamos dos nuevos vectores de tamaños diferentes\n",
        "x = np.array([1,2,3])\n",
        "y = np.array([9,8,7,6,5,4]).reshape(2,3)\n",
        "print(x)\n",
        "print(y)\n",
        "\n",
        "np.concatenate((x,y))"
      ]
    },
    {
      "cell_type": "markdown",
      "id": "b07233a1",
      "metadata": {
        "id": "b07233a1"
      },
      "source": [
        "A la hora de trabajar con arrays de dimensiones mixtas, puede ser una mejor opción hacer uso de las funciones **np.vstack** (vertical stack) y **np.hstack** (horizontal stack). Como parámetro se le pasa una tupla que contenga los arrays a concatenar."
      ]
    },
    {
      "cell_type": "code",
      "execution_count": null,
      "id": "fb9a1703",
      "metadata": {
        "colab": {
          "base_uri": "https://localhost:8080/"
        },
        "id": "fb9a1703",
        "outputId": "ba209252-fd1e-4cd1-8f52-adc0514cc3c9"
      },
      "outputs": [
        {
          "output_type": "execute_result",
          "data": {
            "text/plain": [
              "array([[1, 2, 3],\n",
              "       [9, 8, 7],\n",
              "       [6, 5, 4]])"
            ]
          },
          "metadata": {},
          "execution_count": 12
        }
      ],
      "source": [
        "# Concatenar haciendo uso de np.vstack\n",
        "np.vstack((x,y))"
      ]
    },
    {
      "cell_type": "code",
      "execution_count": null,
      "id": "70036fb4",
      "metadata": {
        "id": "70036fb4",
        "outputId": "07007db8-1e3d-49b5-f420-e020f5f2a7d5",
        "colab": {
          "base_uri": "https://localhost:8080/",
          "height": 245
        }
      },
      "outputs": [
        {
          "output_type": "error",
          "ename": "NameError",
          "evalue": "ignored",
          "traceback": [
            "\u001b[0;31m---------------------------------------------------------------------------\u001b[0m",
            "\u001b[0;31mNameError\u001b[0m                                 Traceback (most recent call last)",
            "\u001b[0;32m<ipython-input-1-e55f2a06139c>\u001b[0m in \u001b[0;36m<cell line: 2>\u001b[0;34m()\u001b[0m\n\u001b[1;32m      1\u001b[0m \u001b[0;31m# Modificamos las dimensiones de cada array para poder hacer uso de np.hstack\u001b[0m\u001b[0;34m\u001b[0m\u001b[0;34m\u001b[0m\u001b[0m\n\u001b[0;32m----> 2\u001b[0;31m \u001b[0mx_nuevo\u001b[0m \u001b[0;34m=\u001b[0m \u001b[0mx\u001b[0m\u001b[0;34m.\u001b[0m\u001b[0mreshape\u001b[0m\u001b[0;34m(\u001b[0m\u001b[0;36m3\u001b[0m\u001b[0;34m,\u001b[0m\u001b[0;36m1\u001b[0m\u001b[0;34m)\u001b[0m\u001b[0;34m\u001b[0m\u001b[0;34m\u001b[0m\u001b[0m\n\u001b[0m\u001b[1;32m      3\u001b[0m \u001b[0my_nuevo\u001b[0m \u001b[0;34m=\u001b[0m \u001b[0my\u001b[0m\u001b[0;34m.\u001b[0m\u001b[0mreshape\u001b[0m\u001b[0;34m(\u001b[0m\u001b[0;36m3\u001b[0m\u001b[0;34m,\u001b[0m\u001b[0;36m2\u001b[0m\u001b[0;34m)\u001b[0m\u001b[0;34m\u001b[0m\u001b[0;34m\u001b[0m\u001b[0m\n\u001b[1;32m      4\u001b[0m \u001b[0;34m\u001b[0m\u001b[0m\n\u001b[1;32m      5\u001b[0m \u001b[0mprint\u001b[0m\u001b[0;34m(\u001b[0m\u001b[0mx_nuevo\u001b[0m\u001b[0;34m)\u001b[0m\u001b[0;34m\u001b[0m\u001b[0;34m\u001b[0m\u001b[0m\n",
            "\u001b[0;31mNameError\u001b[0m: name 'x' is not defined"
          ]
        }
      ],
      "source": [
        "# Modificamos las dimensiones de cada array para poder hacer uso de np.hstack\n",
        "x_nuevo = x.reshape(3,1)\n",
        "y_nuevo = y.reshape(3,2)\n",
        "\n",
        "print(x_nuevo)\n",
        "print(y_nuevo)"
      ]
    },
    {
      "cell_type": "code",
      "execution_count": null,
      "id": "5f1b4edb",
      "metadata": {
        "id": "5f1b4edb"
      },
      "outputs": [],
      "source": [
        "# Concatenar haciendo uso de np.hstack\n",
        "np.hstack((x_nuevo, y_nuevo))"
      ]
    },
    {
      "cell_type": "markdown",
      "id": "116b7c18",
      "metadata": {
        "id": "116b7c18"
      },
      "source": [
        "## Separando arrays"
      ]
    },
    {
      "cell_type": "markdown",
      "id": "aba15964",
      "metadata": {
        "id": "aba15964"
      },
      "source": [
        "La separación de arrays están implementadas mediante las funciones, **np.split()**, **np.array_split()**, **np.vsplit()** y **np.hsplit()**. A cada una de estas funciones le pasamos el array y los índices en los cuales queremos realizar el split."
      ]
    },
    {
      "cell_type": "code",
      "execution_count": null,
      "id": "5a402b91",
      "metadata": {
        "id": "5a402b91"
      },
      "outputs": [],
      "source": [
        "# Generamos un array con numeros enteros entre 0 y 10\n",
        "x = np.arange(1,10)\n",
        "\n",
        "# Separamos el array en tres arrays diferentes separados en los índices 2 y 6\n",
        "i, j, k = np.split(x, (2, 6))\n",
        "\n",
        "# Imprimimos los arrays\n",
        "print(x)\n",
        "print(i)\n",
        "print(j)\n",
        "print(k)"
      ]
    },
    {
      "cell_type": "code",
      "execution_count": null,
      "id": "414f57a5",
      "metadata": {
        "id": "414f57a5"
      },
      "outputs": [],
      "source": [
        "# Podemos separar el array en trozos de igual tamaño usando el comando np.split() sin indicar los índices\n",
        "print(x)\n",
        "np.split(x,3)"
      ]
    },
    {
      "cell_type": "code",
      "execution_count": null,
      "id": "e80be616",
      "metadata": {
        "id": "e80be616"
      },
      "outputs": [],
      "source": [
        "# Hay una limitación para np.split() ==> \"equal division\"\n",
        "print(x)\n",
        "np.split(x,2)"
      ]
    },
    {
      "cell_type": "code",
      "execution_count": null,
      "id": "acaec7ee",
      "metadata": {
        "id": "acaec7ee"
      },
      "outputs": [],
      "source": [
        "# Se utiliza la función np.array_split() cuando no se puede dividir el array en partes iguales\n",
        "print(x)\n",
        "np.array_split(x,2)"
      ]
    },
    {
      "cell_type": "code",
      "execution_count": null,
      "id": "16c6007c",
      "metadata": {
        "id": "16c6007c",
        "outputId": "7a9dc17a-69c6-4050-b79b-b4d4772a6c96"
      },
      "outputs": [
        {
          "name": "stdout",
          "output_type": "stream",
          "text": [
            "[[ 0  1  2  3]\n",
            " [ 4  5  6  7]\n",
            " [ 8  9 10 11]\n",
            " [12 13 14 15]]\n",
            "[array([[0, 1, 2, 3],\n",
            "       [4, 5, 6, 7]]), array([[ 8,  9, 10, 11],\n",
            "       [12, 13, 14, 15]])]\n"
          ]
        }
      ],
      "source": [
        "# Creamos un array 4x4\n",
        "vector4 = np.arange(16).reshape((4,4))\n",
        "\n",
        "# Hacemos uso de np.vsplit\n",
        "print(vector4)\n",
        "print(np.vsplit(vector4, 2))"
      ]
    },
    {
      "cell_type": "code",
      "execution_count": null,
      "id": "1421be1f",
      "metadata": {
        "id": "1421be1f"
      },
      "outputs": [],
      "source": [
        "# Hacemos uso de np.vsplit\n",
        "print(vector4)\n",
        "print(np.hsplit(vector4, 2))"
      ]
    },
    {
      "cell_type": "markdown",
      "id": "8b69b5ad",
      "metadata": {
        "id": "8b69b5ad"
      },
      "source": [
        "### **`Ejercicio 3.2`**\n",
        "\n",
        "**`3.2.1`** Crea un array de tamaño (5x5) con todos los elementos iguales a 11, salvo el primero y el último que deben de ser iguales a 88.  \n",
        "**`3.2.2`** Crea un array seleccionando todos los elementos excepto los de primera fila y los de primera columna.   \n",
        "**`3.2.3`** Redimensiona y reordena los elementos del array obtenido en el paso anterior para que sean de tamaño (2x8).  \n",
        "**`3.2.4`** Crea otro nuevo array con 8 elementos equidistantes entre 0 y 10.  \n",
        "**`3.2.5`** Concatena el nuevo array creado en el paso enterior con el array redimensionado de tamaño (2x8) y convierte posteriormente los valores del nuevo vector concatenado en números enteros.  \n",
        "**`3.2.6`** Separa el vector resultante en dos partes iguales."
      ]
    },
    {
      "cell_type": "code",
      "execution_count": null,
      "id": "903f2747",
      "metadata": {
        "id": "903f2747",
        "outputId": "9b29656d-7c07-4911-d7b3-22fe6b677fc8"
      },
      "outputs": [
        {
          "name": "stdout",
          "output_type": "stream",
          "text": [
            "Ejercicio 3.2.1:\n",
            " [[88 11 11 11 11]\n",
            " [11 11 11 11 11]\n",
            " [11 11 11 11 11]\n",
            " [11 11 11 11 11]\n",
            " [11 11 11 11 88]]\n"
          ]
        }
      ],
      "source": [
        "## Solución\n",
        "# Ejercicio 3.2.1\n",
        "datos2=np.full((5,5),11)\n",
        "datos2[0,0]=88\n",
        "datos2[-1,-1]=88\n",
        "print(\"Ejercicio 3.2.1:\\n\",datos2)"
      ]
    },
    {
      "cell_type": "code",
      "execution_count": null,
      "id": "899df112",
      "metadata": {
        "id": "899df112",
        "outputId": "2844b9fb-d21b-402c-fef6-6b2ea8ecd95c"
      },
      "outputs": [
        {
          "name": "stdout",
          "output_type": "stream",
          "text": [
            "Ejercicio 3.2.2:\n",
            " [[11 11 11 11]\n",
            " [11 11 11 11]\n",
            " [11 11 11 11]\n",
            " [11 11 11 88]]\n"
          ]
        }
      ],
      "source": [
        "## Solución\n",
        "# Ejercicio 3.2.2\n",
        "nuevoArrayDatos2=datos2[1:,1:]\n",
        "print(\"Ejercicio 3.2.2:\\n\",nuevoArrayDatos2)\n",
        "\n",
        "\n"
      ]
    },
    {
      "cell_type": "code",
      "execution_count": null,
      "metadata": {
        "id": "kXWIzmV_DZoA",
        "outputId": "68a1114a-6346-48d6-b835-21bc29f2030c"
      },
      "outputs": [
        {
          "name": "stdout",
          "output_type": "stream",
          "text": [
            "Ejercicio 3.2.3:\n",
            " [[11 11 11 11 11 11 11 11]\n",
            " [11 11 11 11 11 11 11 88]]\n"
          ]
        }
      ],
      "source": [
        "## Solución\n",
        "# Ejercicio 3.2.3\n",
        "nuevoArrayDatos2=nuevoArrayDatos2.reshape((2,8))\n",
        "print(\"Ejercicio 3.2.3:\\n\",nuevoArrayDatos2)"
      ],
      "id": "kXWIzmV_DZoA"
    },
    {
      "cell_type": "code",
      "execution_count": null,
      "id": "9fb9f491",
      "metadata": {
        "id": "9fb9f491",
        "outputId": "a445e2aa-b3f0-4726-ea64-54b50c0e9517"
      },
      "outputs": [
        {
          "name": "stdout",
          "output_type": "stream",
          "text": [
            "Ejercicio 3.2.4:\n",
            " [ 0.          1.42857143  2.85714286  4.28571429  5.71428571  7.14285714\n",
            "  8.57142857 10.        ]\n"
          ]
        }
      ],
      "source": [
        "## Solución\n",
        "# Ejercicio 3.2.4\n",
        "arrayEquisCeroDiez=np.linspace(0,10,8)\n",
        "print(\"Ejercicio 3.2.4:\\n\",arrayEquisCeroDiez)"
      ]
    },
    {
      "cell_type": "code",
      "execution_count": null,
      "id": "9fa6aa41",
      "metadata": {
        "id": "9fa6aa41",
        "outputId": "ba9f1521-5ee9-4664-c34f-2afb3590ff7d"
      },
      "outputs": [
        {
          "name": "stdout",
          "output_type": "stream",
          "text": [
            "Ejercicio 3.2.5:\n",
            "\n",
            " Array combinado: [[ 0.          1.42857143  2.85714286  4.28571429  5.71428571  7.14285714\n",
            "   8.57142857 10.        ]\n",
            " [11.         11.         11.         11.         11.         11.\n",
            "  11.         11.        ]\n",
            " [11.         11.         11.         11.         11.         11.\n",
            "  11.         88.        ]] \n",
            "\n",
            " Array convertido a numeros enteros: [[ 0  1  2  4  5  7  8 10]\n",
            " [11 11 11 11 11 11 11 11]\n",
            " [11 11 11 11 11 11 11 88]]\n"
          ]
        }
      ],
      "source": [
        "## Solución\n",
        "# Ejercicio 3.2.5\n",
        "arrayCombinado=np.row_stack((arrayEquisCeroDiez,nuevoArrayDatos2))\n",
        "arrayCombinadoNumenteros=arrayCombinado.astype(int)\n",
        "print(\"Ejercicio 3.2.5:\\n\\n\",\n",
        "      \"Array combinado:\",\n",
        "      arrayCombinado,\n",
        "      \"\\n\\n Array convertido a numeros enteros:\",arrayCombinadoNumenteros\n",
        "\n",
        "      )"
      ]
    },
    {
      "cell_type": "code",
      "execution_count": null,
      "id": "b00d0596",
      "metadata": {
        "id": "b00d0596",
        "outputId": "3b6a262d-62c8-4676-bbd9-9fefa3d44116"
      },
      "outputs": [
        {
          "name": "stdout",
          "output_type": "stream",
          "text": [
            "Ejercicio 3.1.1:\n"
          ]
        },
        {
          "data": {
            "text/plain": [
              "[array([[ 0.        ,  1.42857143,  2.85714286,  4.28571429],\n",
              "        [11.        , 11.        , 11.        , 11.        ],\n",
              "        [11.        , 11.        , 11.        , 11.        ]]),\n",
              " array([[ 5.71428571,  7.14285714,  8.57142857, 10.        ],\n",
              "        [11.        , 11.        , 11.        , 11.        ],\n",
              "        [11.        , 11.        , 11.        , 88.        ]])]"
            ]
          },
          "execution_count": 245,
          "metadata": {},
          "output_type": "execute_result"
        }
      ],
      "source": [
        "## Solución\n",
        "# Ejercicio 3.2.6 Separa el vector resultante en dos partes iguales.\n",
        "arrayCombinadoSeparado=np.hsplit(arrayCombinado,2)\n",
        "print(\"Ejercicio 3.1.1:\")\n",
        "arrayCombinadoSeparado\n"
      ]
    },
    {
      "cell_type": "markdown",
      "id": "3c10a01c",
      "metadata": {
        "id": "3c10a01c"
      },
      "source": [
        "---"
      ]
    },
    {
      "cell_type": "markdown",
      "id": "cc8ddbd8",
      "metadata": {
        "id": "cc8ddbd8"
      },
      "source": [
        "## Máscaras y filtrado de elementos"
      ]
    },
    {
      "cell_type": "markdown",
      "id": "1a0815d5",
      "metadata": {
        "id": "1a0815d5"
      },
      "source": [
        "Podemos filtrar los arrays según las condiciones deseadas y definidas como máscaras o filtros aplicando directamente entre corchetes"
      ]
    },
    {
      "cell_type": "code",
      "execution_count": null,
      "id": "496e844c",
      "metadata": {
        "id": "496e844c",
        "colab": {
          "base_uri": "https://localhost:8080/"
        },
        "outputId": "fc5b9724-0d56-438f-8e02-e1b308320d9f"
      },
      "outputs": [
        {
          "output_type": "stream",
          "name": "stdout",
          "text": [
            "[-3 -2 -1  0  1  2  3]\n"
          ]
        },
        {
          "output_type": "execute_result",
          "data": {
            "text/plain": [
              "array([0, 1, 2, 3])"
            ]
          },
          "metadata": {},
          "execution_count": 49
        }
      ],
      "source": [
        "# Creamos un array con valores enteros negativos y positivos y lo filtramos para sacar los valores igual y mayor que cero (>=0)\n",
        "mi_vector = np.arange(-3,4)\n",
        "\n",
        "print(mi_vector)\n",
        "mi_vector[mi_vector>=0]"
      ]
    },
    {
      "cell_type": "code",
      "execution_count": null,
      "id": "cffb5036",
      "metadata": {
        "id": "cffb5036",
        "colab": {
          "base_uri": "https://localhost:8080/"
        },
        "outputId": "0b0fd5b1-99ed-4bb5-de41-3a3ce723b6bf"
      },
      "outputs": [
        {
          "output_type": "execute_result",
          "data": {
            "text/plain": [
              "array([0, 1, 2, 3])"
            ]
          },
          "metadata": {},
          "execution_count": 50
        }
      ],
      "source": [
        "# Esta vez definimos el filtro y se lo aplicamos a nuestro vector\n",
        "mascara_1 = (mi_vector >= 0)\n",
        "mi_vector[mascara_1]"
      ]
    },
    {
      "cell_type": "markdown",
      "id": "b29e6a6e",
      "metadata": {
        "id": "b29e6a6e"
      },
      "source": [
        "Las máscaras o mejor dicho los **filtros** realmente son **vectores de índice booleano**. Si el valor en un índice es _True_, ese elemento se conserva en la matriz filtrada, y si el valor en ese índice es _False_, ese elemento se excluye de la matriz filtrada."
      ]
    },
    {
      "cell_type": "code",
      "execution_count": null,
      "id": "dbd839f7",
      "metadata": {
        "id": "dbd839f7",
        "colab": {
          "base_uri": "https://localhost:8080/"
        },
        "outputId": "a1c4d820-84b6-4bb5-c034-e4ab156d55ac"
      },
      "outputs": [
        {
          "output_type": "stream",
          "name": "stdout",
          "text": [
            "[False False False  True  True  True  True]\n"
          ]
        },
        {
          "output_type": "execute_result",
          "data": {
            "text/plain": [
              "numpy.ndarray"
            ]
          },
          "metadata": {},
          "execution_count": 51
        }
      ],
      "source": [
        "print(mascara_1)\n",
        "type(mascara_1)"
      ]
    },
    {
      "cell_type": "code",
      "execution_count": null,
      "id": "b9a94609",
      "metadata": {
        "id": "b9a94609",
        "colab": {
          "base_uri": "https://localhost:8080/"
        },
        "outputId": "603a495d-42cf-4a7c-9474-0ab286c2018f"
      },
      "outputs": [
        {
          "output_type": "stream",
          "name": "stdout",
          "text": [
            "[-3 -2 -1  0  1  2  3]\n"
          ]
        },
        {
          "output_type": "execute_result",
          "data": {
            "text/plain": [
              "array([-3, -2, -1,  0,  1,  2])"
            ]
          },
          "metadata": {},
          "execution_count": 52
        }
      ],
      "source": [
        "mascara_2 = [True, True, True, True, True, True, False]\n",
        "print(mi_vector)\n",
        "mi_vector[mascara_2]"
      ]
    },
    {
      "cell_type": "markdown",
      "id": "7f22cf5d",
      "metadata": {
        "id": "7f22cf5d"
      },
      "source": [
        "Si nos interesa sacar los índices de aquellos elementos de un array que cumplen una condición, utilizamos la función **np.where(condición)**"
      ]
    },
    {
      "cell_type": "code",
      "execution_count": null,
      "id": "c18c0c94",
      "metadata": {
        "id": "c18c0c94",
        "colab": {
          "base_uri": "https://localhost:8080/"
        },
        "outputId": "851362fb-bd11-474d-ef11-0ffe16cd561f"
      },
      "outputs": [
        {
          "output_type": "stream",
          "name": "stdout",
          "text": [
            "[-3 -2 -1  0  1  2  3]\n"
          ]
        },
        {
          "output_type": "execute_result",
          "data": {
            "text/plain": [
              "(array([3]),)"
            ]
          },
          "metadata": {},
          "execution_count": 53
        }
      ],
      "source": [
        "print(mi_vector)\n",
        "np.where(mi_vector==0)"
      ]
    },
    {
      "cell_type": "markdown",
      "id": "b40900a7",
      "metadata": {
        "id": "b40900a7"
      },
      "source": [
        "Se peuede utilizar esta misma función para aplicar la condición de filtrado y tratar los valores del array en función del cumplimiento de la condición: **np.where(condición, valor_si_cumple, valor_si_no_cumple)**  "
      ]
    },
    {
      "cell_type": "code",
      "execution_count": null,
      "id": "f99f6701",
      "metadata": {
        "id": "f99f6701",
        "colab": {
          "base_uri": "https://localhost:8080/"
        },
        "outputId": "e85a538f-69e6-4e7e-8ff3-68c5b6f23f0a"
      },
      "outputs": [
        {
          "output_type": "stream",
          "name": "stdout",
          "text": [
            "[-3 -2 -1  0  1  2  3]\n"
          ]
        },
        {
          "output_type": "execute_result",
          "data": {
            "text/plain": [
              "array([  1,   1,   1, 100,   1,   1,   1])"
            ]
          },
          "metadata": {},
          "execution_count": 54
        }
      ],
      "source": [
        "print(mi_vector)\n",
        "np.where(mi_vector==0, 100, 1)"
      ]
    },
    {
      "cell_type": "markdown",
      "id": "8f63ab4d",
      "metadata": {
        "id": "8f63ab4d"
      },
      "source": [
        "## Copias vs. vistas de arrays"
      ]
    },
    {
      "cell_type": "markdown",
      "id": "f2ea0f02",
      "metadata": {
        "id": "f2ea0f02"
      },
      "source": [
        "Cuando seleccionamos un subarray dentro de un array, simplemente estamos generando una nueva vista que sigue apuntando a nuestro array original sin crear una copia."
      ]
    },
    {
      "cell_type": "code",
      "execution_count": null,
      "id": "f3d6f37d",
      "metadata": {
        "id": "f3d6f37d"
      },
      "outputs": [],
      "source": [
        "# Muestra el array original x2\n",
        "arr_original = np.full((3,3), 7)\n",
        "arr_original"
      ]
    },
    {
      "cell_type": "code",
      "execution_count": null,
      "id": "e227b646",
      "metadata": {
        "id": "e227b646"
      },
      "outputs": [],
      "source": [
        "# Asignamos una nueva variable llamada arr_original_sub que contenga las dos primeras filas y las dos primeras columnas\n",
        "arr_original_sub = arr_original[:2,:2]\n",
        "arr_original_sub"
      ]
    },
    {
      "cell_type": "code",
      "execution_count": null,
      "id": "59f97cff",
      "metadata": {
        "id": "59f97cff"
      },
      "outputs": [],
      "source": [
        "# Cambiamos el valor del primer elemento\n",
        "arr_original_sub[0,0] = 0\n",
        "arr_original_sub"
      ]
    },
    {
      "cell_type": "code",
      "execution_count": null,
      "id": "51d06217",
      "metadata": {
        "id": "51d06217"
      },
      "outputs": [],
      "source": [
        "# Volvemos nuevamente a consultar el array original\n",
        "arr_original"
      ]
    },
    {
      "cell_type": "markdown",
      "id": "8e017655",
      "metadata": {
        "id": "8e017655"
      },
      "source": [
        "Para mantener de forma intacta nuestro array original podemos usar el método **copy()** que nos crea una copia en vez de generar una vista como antes."
      ]
    },
    {
      "cell_type": "code",
      "execution_count": null,
      "id": "f74c2495",
      "metadata": {
        "id": "f74c2495"
      },
      "outputs": [],
      "source": [
        "# Creamos una nueva variable llamada arr_copia que sea una copia del original\n",
        "arr_original = np.full((3,3), 7)\n",
        "arr_copia = arr_original.copy()"
      ]
    },
    {
      "cell_type": "code",
      "execution_count": null,
      "id": "94c60799",
      "metadata": {
        "id": "94c60799"
      },
      "outputs": [],
      "source": [
        "# Modificamos en arr_copia el valor del primer elemento\n",
        "arr_copia[0,0] = 80"
      ]
    },
    {
      "cell_type": "code",
      "execution_count": null,
      "id": "f715a4d7",
      "metadata": {
        "id": "f715a4d7"
      },
      "outputs": [],
      "source": [
        "# Consultamos el array copiado\n",
        "arr_copia"
      ]
    },
    {
      "cell_type": "code",
      "execution_count": null,
      "id": "fe5e34a3",
      "metadata": {
        "id": "fe5e34a3"
      },
      "outputs": [],
      "source": [
        "# De nuevo mostramos el array original\n",
        "arr_original"
      ]
    },
    {
      "cell_type": "markdown",
      "id": "be69063e",
      "metadata": {
        "id": "be69063e"
      },
      "source": [
        "Debemos de tener en cuenta la diferencia entre la vista y la copia también a a hora de asignar nuevas variables a partir del array original"
      ]
    },
    {
      "cell_type": "code",
      "execution_count": null,
      "id": "086ff7b9",
      "metadata": {
        "id": "086ff7b9"
      },
      "outputs": [],
      "source": [
        "# Creamos un nuevo array y generamos una copia de ese vector\n",
        "a = np.array([1,2,4,8,16,32])\n",
        "a_copia = a.copy()\n",
        "\n",
        "print(a)\n",
        "print(a_copia)"
      ]
    },
    {
      "cell_type": "code",
      "execution_count": null,
      "id": "3c88de38",
      "metadata": {
        "id": "3c88de38"
      },
      "outputs": [],
      "source": [
        "# Asignamos una  ueva variable que sea igual que el array original\n",
        "b = a\n",
        "\n",
        "print(a)\n",
        "print(b)"
      ]
    },
    {
      "cell_type": "code",
      "execution_count": null,
      "id": "b946989b",
      "metadata": {
        "id": "b946989b"
      },
      "outputs": [],
      "source": [
        "# Modificamos el segundo elemento usando el indexado de arrays\n",
        "b[1] = 64"
      ]
    },
    {
      "cell_type": "code",
      "execution_count": null,
      "id": "d943097e",
      "metadata": {
        "id": "d943097e"
      },
      "outputs": [],
      "source": [
        "# Imprimimos los valores de cada vector\n",
        "print(\"El array original = \", a)\n",
        "print(\"El array cambiado = \", b)\n",
        "print(\"El array copiado =  \", a_copia)"
      ]
    },
    {
      "cell_type": "markdown",
      "id": "86cf05bf",
      "metadata": {
        "id": "86cf05bf"
      },
      "source": [
        "![](../Sesion3-materiales/fig-06.webp)"
      ]
    },
    {
      "cell_type": "markdown",
      "id": "80d22ce5",
      "metadata": {
        "id": "80d22ce5"
      },
      "source": [
        "![](fig-06.webp)"
      ]
    },
    {
      "cell_type": "markdown",
      "id": "077943da",
      "metadata": {
        "id": "077943da"
      },
      "source": [
        "### **`Ejercicio 3.3`**\n",
        "\n",
        "**`3.3.1`** Crea un array de tamaño (3x4) de todos los números enteros entre 0 y 100 que sean múltiplos de 9.  \n",
        "**`3.3.2`** Filtra todos los valores del vector creado en el paso anterior de la siguiente manera:  \n",
        "- Si son valores positivos y múltiplos de 5 se conservan sin cambios  \n",
        "- En el caso contratio se sustituyen con el valor -1  "
      ]
    },
    {
      "cell_type": "code",
      "execution_count": null,
      "id": "ac58ad91",
      "metadata": {
        "id": "ac58ad91",
        "outputId": "240862e3-88f0-4db9-9033-af1a9c4ec468"
      },
      "outputs": [
        {
          "name": "stdout",
          "output_type": "stream",
          "text": [
            "Ejercicio 3.3.1:\n",
            " [[ 0  9 18 27]\n",
            " [36 45 54 63]\n",
            " [72 81 90 99]] \n",
            " Ejercicio 3.3.2: \n",
            " [[ 0 -1 -1 -1]\n",
            " [-1 45 -1 -1]\n",
            " [-1 -1 90 -1]]\n"
          ]
        }
      ],
      "source": [
        "## Solución\n",
        "# Ejercicio 3.3.1\n",
        "arrayNumeros=np.arange(0,101,9).reshape(3,4)\n",
        "# Ejercicio 3.3.2\n",
        "arrayNumerosfiltrado=arrayNumeros.copy()\n",
        "changeNumbers= (arrayNumerosfiltrado %5!=0) & (arrayNumerosfiltrado >=0)\n",
        "for i in range(len(arrayNumerosfiltrado)):\n",
        "    arrayNumerosfiltrado[changeNumbers]=-1\n",
        "print(\"Ejercicio 3.3.1:\\n\",arrayNumeros, \"\\n Ejercicio 3.3.2: \\n\",arrayNumerosfiltrado)\n",
        "\n",
        "\n",
        "\n",
        "\n",
        "\n"
      ]
    }
  ],
  "metadata": {
    "kernelspec": {
      "display_name": "Python 3.9.0 ('recomendadorVideos')",
      "language": "python",
      "name": "python3"
    },
    "language_info": {
      "codemirror_mode": {
        "name": "ipython",
        "version": 3
      },
      "file_extension": ".py",
      "mimetype": "text/x-python",
      "name": "python",
      "nbconvert_exporter": "python",
      "pygments_lexer": "ipython3",
      "version": "3.9.0"
    },
    "vscode": {
      "interpreter": {
        "hash": "fd755ef5c364b0937fa7f305ca71365387f816473e8af8795860aa053b94a5ad"
      }
    },
    "colab": {
      "provenance": []
    }
  },
  "nbformat": 4,
  "nbformat_minor": 5
}